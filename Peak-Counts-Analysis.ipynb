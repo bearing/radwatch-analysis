{
 "cells": [
  {
   "cell_type": "code",
   "execution_count": 1,
   "metadata": {},
   "outputs": [],
   "source": [
    "import becquerel as bq\n",
    "from becquerel import Spectrum\n",
    "import numpy as np\n",
    "import matplotlib.pyplot as plt\n",
    "import scipy.integrate as integrate\n",
    "import math as m\n"
   ]
  },
  {
   "cell_type": "code",
   "execution_count": 4,
   "metadata": {},
   "outputs": [],
   "source": [
    "import PF\n",
    "import ROI"
   ]
  },
  {
   "cell_type": "code",
   "execution_count": 10,
   "metadata": {},
   "outputs": [
    {
     "name": "stdout",
     "output_type": "stream",
     "text": [
      "SpeFile: Reading file C:\\Users\\ahanks\\Google Drive\\RadWatch\\Gamma\\Gamma Spectra\\UCB087_Wild_King_Salmon_3.Spe\n",
      "SpeFile: Reading file C:\\Users\\ahanks\\Google Drive\\RadWatch\\Gamma\\Gamma Spectra\\UCB096_Backgorund_2_13_17.Spe\n",
      "51548.5\n"
     ]
    }
   ],
   "source": [
    "#Define inputs\n",
    "source_isotopes = np.array(['K-40']);\n",
    "source_energies = np.array([1460]);\n",
    "source_activities = np.array([1]);\n",
    "spectrum = r'C:\\Users\\ahanks\\Google Drive\\RadWatch\\Gamma\\Gamma Spectra\\UCB087_Wild_King_Salmon_3.Spe'\n",
    "background = r'C:\\Users\\ahanks\\Google Drive\\RadWatch\\Gamma\\Gamma Spectra\\UCB096_Backgorund_2_13_17.Spe'\n",
    "branching_ratio = np.array([1]);\n",
    "\n",
    "#Call scripts\n",
    "roi = ROI.ROI(Spectrum.from_file(spectrum), Spectrum.from_file(background), source_energies)\n",
    "roi_result = roi.get_counts()\n",
    "#peakfit = PF.PF(source_energies,source_activities,spectrum,background,branching_ratio)\n",
    "#pf_result = peakfit.Efficiency()\n",
    "print(roi_result, pf_result)\n",
    "print(roi_result)"
   ]
  },
  {
   "cell_type": "code",
   "execution_count": null,
   "metadata": {},
   "outputs": [],
   "source": []
  }
 ],
 "metadata": {
  "kernelspec": {
   "display_name": "Python 3",
   "language": "python",
   "name": "python3"
  },
  "language_info": {
   "codemirror_mode": {
    "name": "ipython",
    "version": 3
   },
   "file_extension": ".py",
   "mimetype": "text/x-python",
   "name": "python",
   "nbconvert_exporter": "python",
   "pygments_lexer": "ipython3",
   "version": "3.7.3"
  }
 },
 "nbformat": 4,
 "nbformat_minor": 2
}

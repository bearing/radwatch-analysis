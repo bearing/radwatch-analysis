{
 "cells": [
  {
   "cell_type": "code",
   "execution_count": 1,
   "metadata": {},
   "outputs": [],
   "source": [
    "from becquerel import Spectrum\n",
    "import numpy as np\n",
    "import importlib\n",
    "import sys\n",
    "import matplotlib.pyplot as plt\n",
    "sys.path.insert(0,r\"C:\\Users\\benhu\\Documents\\Github\\radwatch-analysis\")\n",
    "\n",
    "import analysis_methods as am\n",
    "import ROI\n",
    "importlib.reload(am)\n",
    "importlib.reload(ROI)\n",
    "\n",
    "filename = 'UCB1901PetraleSole'\n",
    "c = __import__(\"UCB1901PetraleSoleConfig\")"
   ]
  },
  {
   "cell_type": "code",
   "execution_count": 2,
   "metadata": {},
   "outputs": [
    {
     "name": "stdout",
     "output_type": "stream",
     "text": [
      "SpeFile: Reading file C:\\Users\\benhu\\Desktop\\Research\\DataFiles\\fishsamples2019\\\\UCB1901PetraleSole.spe\n"
     ]
    },
    {
     "ename": "FileNotFoundError",
     "evalue": "[Errno 2] No such file or directory: 'C:\\\\Users\\\\benhu\\\\Desktop\\\\Research\\\\DataFiles\\\\fishsamples2019\\\\\\\\UCB1901PetraleSole.spe'",
     "output_type": "error",
     "traceback": [
      "\u001b[1;31m---------------------------------------------------------------------------\u001b[0m",
      "\u001b[1;31mFileNotFoundError\u001b[0m                         Traceback (most recent call last)",
      "Input \u001b[1;32mIn [2]\u001b[0m, in \u001b[0;36m<cell line: 17>\u001b[1;34m()\u001b[0m\n\u001b[0;32m      7\u001b[0m source_energies \u001b[38;5;241m=\u001b[39m [\u001b[38;5;241m605\u001b[39m, \u001b[38;5;241m609\u001b[39m, \u001b[38;5;241m662\u001b[39m, \u001b[38;5;241m1460\u001b[39m, \u001b[38;5;241m2614\u001b[39m]\n\u001b[0;32m      9\u001b[0m params \u001b[38;5;241m=\u001b[39m {\n\u001b[0;32m     10\u001b[0m     \u001b[38;5;124m'\u001b[39m\u001b[38;5;124m605\u001b[39m\u001b[38;5;124m'\u001b[39m: [\u001b[38;5;241m1\u001b[39m, [[\u001b[38;5;241m-\u001b[39m\u001b[38;5;241m2\u001b[39m, \u001b[38;5;241m-\u001b[39m\u001b[38;5;241m1\u001b[39m], [\u001b[38;5;241m-\u001b[39m\u001b[38;5;241m0.75\u001b[39m, \u001b[38;5;241m1.25\u001b[39m], [\u001b[38;5;241m1\u001b[39m, \u001b[38;5;241m2\u001b[39m]]],\n\u001b[0;32m     11\u001b[0m     \u001b[38;5;124m'\u001b[39m\u001b[38;5;124m609\u001b[39m\u001b[38;5;124m'\u001b[39m: [\u001b[38;5;241m5\u001b[39m, [[\u001b[38;5;241m-\u001b[39m\u001b[38;5;241m2\u001b[39m, \u001b[38;5;241m-\u001b[39m\u001b[38;5;241m1\u001b[39m], [\u001b[38;5;241m-\u001b[39m\u001b[38;5;241m0.75\u001b[39m, \u001b[38;5;241m0.75\u001b[39m], [\u001b[38;5;241m1\u001b[39m, \u001b[38;5;241m2\u001b[39m]]],\n\u001b[1;32m   (...)\u001b[0m\n\u001b[0;32m     14\u001b[0m     \u001b[38;5;124m'\u001b[39m\u001b[38;5;124m2614\u001b[39m\u001b[38;5;124m'\u001b[39m: [\u001b[38;5;241m20\u001b[39m, [[\u001b[38;5;241m-\u001b[39m\u001b[38;5;241m2\u001b[39m, \u001b[38;5;241m-\u001b[39m\u001b[38;5;241m1\u001b[39m], [\u001b[38;5;241m-\u001b[39m\u001b[38;5;241m0.4\u001b[39m, \u001b[38;5;241m0.75\u001b[39m], [\u001b[38;5;241m1\u001b[39m, \u001b[38;5;241m2\u001b[39m]]],\n\u001b[0;32m     15\u001b[0m }\n\u001b[1;32m---> 17\u001b[0m spec \u001b[38;5;241m=\u001b[39m \u001b[43mSpectrum\u001b[49m\u001b[38;5;241;43m.\u001b[39;49m\u001b[43mfrom_file\u001b[49m\u001b[43m(\u001b[49m\u001b[43mspectrum\u001b[49m\u001b[43m)\u001b[49m\n\u001b[0;32m     18\u001b[0m bgspec \u001b[38;5;241m=\u001b[39m Spectrum\u001b[38;5;241m.\u001b[39mfrom_file(background)\n\u001b[0;32m     19\u001b[0m counts \u001b[38;5;241m=\u001b[39m spec\u001b[38;5;241m.\u001b[39mcounts_vals\n",
      "File \u001b[1;32m~\\anaconda3\\lib\\site-packages\\becquerel\\core\\spectrum.py:592\u001b[0m, in \u001b[0;36mSpectrum.from_file\u001b[1;34m(cls, infilename, verbose)\u001b[0m\n\u001b[0;32m    590\u001b[0m     data, cal \u001b[38;5;241m=\u001b[39m parsers\u001b[38;5;241m.\u001b[39mspc\u001b[38;5;241m.\u001b[39mread(infilename, verbose\u001b[38;5;241m=\u001b[39mverbose)\n\u001b[0;32m    591\u001b[0m \u001b[38;5;28;01melif\u001b[39;00m ext\u001b[38;5;241m.\u001b[39mlower() \u001b[38;5;241m==\u001b[39m \u001b[38;5;124m\"\u001b[39m\u001b[38;5;124m.spe\u001b[39m\u001b[38;5;124m\"\u001b[39m:\n\u001b[1;32m--> 592\u001b[0m     data, cal \u001b[38;5;241m=\u001b[39m \u001b[43mparsers\u001b[49m\u001b[38;5;241;43m.\u001b[39;49m\u001b[43mspe\u001b[49m\u001b[38;5;241;43m.\u001b[39;49m\u001b[43mread\u001b[49m\u001b[43m(\u001b[49m\u001b[43minfilename\u001b[49m\u001b[43m,\u001b[49m\u001b[43m \u001b[49m\u001b[43mverbose\u001b[49m\u001b[38;5;241;43m=\u001b[39;49m\u001b[43mverbose\u001b[49m\u001b[43m)\u001b[49m\n\u001b[0;32m    593\u001b[0m \u001b[38;5;28;01melse\u001b[39;00m:\n\u001b[0;32m    594\u001b[0m     \u001b[38;5;28;01mraise\u001b[39;00m \u001b[38;5;167;01mNotImplementedError\u001b[39;00m(\u001b[38;5;124mf\u001b[39m\u001b[38;5;124m\"\u001b[39m\u001b[38;5;124mFile type \u001b[39m\u001b[38;5;132;01m{\u001b[39;00mext\u001b[38;5;132;01m}\u001b[39;00m\u001b[38;5;124m can not be read\u001b[39m\u001b[38;5;124m\"\u001b[39m)\n",
      "File \u001b[1;32m~\\anaconda3\\lib\\site-packages\\becquerel\\parsers\\spe.py:46\u001b[0m, in \u001b[0;36mread\u001b[1;34m(filename, verbose)\u001b[0m\n\u001b[0;32m     44\u001b[0m channels \u001b[38;5;241m=\u001b[39m []\n\u001b[0;32m     45\u001b[0m cal_coeff \u001b[38;5;241m=\u001b[39m []\n\u001b[1;32m---> 46\u001b[0m \u001b[38;5;28;01mwith\u001b[39;00m \u001b[38;5;28;43mopen\u001b[39;49m\u001b[43m(\u001b[49m\u001b[43mfilename\u001b[49m\u001b[43m)\u001b[49m \u001b[38;5;28;01mas\u001b[39;00m f:\n\u001b[0;32m     47\u001b[0m     \u001b[38;5;66;03m# read & remove newlines from end of each line\u001b[39;00m\n\u001b[0;32m     48\u001b[0m     lines \u001b[38;5;241m=\u001b[39m [line\u001b[38;5;241m.\u001b[39mstrip() \u001b[38;5;28;01mfor\u001b[39;00m line \u001b[38;5;129;01min\u001b[39;00m f\u001b[38;5;241m.\u001b[39mreadlines()]\n\u001b[0;32m     49\u001b[0m     i \u001b[38;5;241m=\u001b[39m \u001b[38;5;241m0\u001b[39m\n",
      "\u001b[1;31mFileNotFoundError\u001b[0m: [Errno 2] No such file or directory: 'C:\\\\Users\\\\benhu\\\\Desktop\\\\Research\\\\DataFiles\\\\fishsamples2019\\\\\\\\UCB1901PetraleSole.spe'"
     ]
    }
   ],
   "source": [
    "specname = 'UCB1901PetraleSole' + '.spe'\n",
    "path = r'C:\\Users\\benhu\\Desktop\\Research\\DataFiles\\fishsamples2019'\n",
    "spectrum = path + r'\\\\' + specname\n",
    "background = r'C:\\Users\\benhu\\Desktop\\Research\\DataFiles\\fishsamples2019\\background.spe'\n",
    "livetime = 173962 #s\n",
    "wetweight = 519.9 #g\n",
    "source_energies = [605, 609, 662, 1460, 2614]\n",
    "\n",
    "params = {\n",
    "    '605': [1, [[-2, -1], [-0.75, 1.25], [1, 2]]],\n",
    "    '609': [5, [[-2, -1], [-0.75, 0.75], [1, 2]]],\n",
    "    '662': [5, [[-2, -1], [-0.4, 0.4], [1, 2]]],\n",
    "    '1460': [15, [[-2, -1], [-0.5, 0.75], [1, 2]]],\n",
    "    '2614': [20, [[-2, -1], [-0.4, 0.75], [1, 2]]],\n",
    "}\n",
    "\n",
    "spec = Spectrum.from_file(spectrum)\n",
    "bgspec = Spectrum.from_file(background)\n",
    "counts = spec.counts_vals\n",
    "energies = spec.bin_centers_kev\n",
    "\n",
    "roi = ROI.ROI(spec, bgspec, source_energies, 0)"
   ]
  },
  {
   "cell_type": "code",
   "execution_count": null,
   "metadata": {},
   "outputs": [],
   "source": [
    "#np.where(spec.bin_centers_kev==605)\n",
    "mask = (spec.bin_centers_kev > 600)&(spec.bin_centers_kev < 620)"
   ]
  },
  {
   "cell_type": "code",
   "execution_count": null,
   "metadata": {},
   "outputs": [],
   "source": [
    "plt.plot(spec.bin_centers_kev[mask], spec.counts_vals[mask])"
   ]
  },
  {
   "cell_type": "code",
   "execution_count": null,
   "metadata": {},
   "outputs": [],
   "source": [
    "roi.find_peak_energies()\n",
    "roi.roi_pars"
   ]
  },
  {
   "cell_type": "code",
   "execution_count": null,
   "metadata": {},
   "outputs": [],
   "source": [
    "for key in params:\n",
    "    roi.set_sideband(int(key), params[key][0], params[key][1])\n",
    "\n",
    "roi.set_sideband(605, 4, [[-2, -1], [-0.75, 0.5], [2, 4]])\n",
    "roi.set_sideband(609, 5, [[-2, -1], [-0.75, 0.75], [1, 2]])\n",
    "roi.set_sideband(662, 5, [[-2, -1], [-0.4, 0.4], [1, 2]])\n",
    "roi.set_sideband(1460, 15, [[-2, -1], [-0.5, 0.75], [1, 2]])\n",
    "roi.set_sideband(2614, 20, [[-2, -1], [-0.4, 0.75], [1, 2]])\n",
    "\n",
    "roi.plot_peak_region(spec, source_energies, 605)\n",
    "roi.plot_peak_region(spec, source_energies, 609)\n",
    "roi.plot_peak_region(spec, source_energies, 662)\n",
    "roi.plot_peak_region(spec, source_energies, 1460)\n",
    "roi.plot_peak_region(spec, source_energies, 2614)"
   ]
  },
  {
   "cell_type": "code",
   "execution_count": null,
   "metadata": {},
   "outputs": [],
   "source": [
    "roi_counts, roi_unc = roi.get_counts()\n",
    "print(roi_counts)\n",
    "print(roi_unc)\n",
    "\n",
    "eff_func = am.Efficiency()\n",
    "eff_func.set_parameters()"
   ]
  },
  {
   "cell_type": "code",
   "execution_count": null,
   "metadata": {},
   "outputs": [],
   "source": [
    "efficiency = []\n",
    "efficiencyunc = []\n",
    "for i in source_energies:\n",
    "    efficiency.append(eff_func.get_eff(i))\n",
    "    efficiencyunc.append(eff_func.get_eff_error(i))\n",
    "\n",
    "countrate = [i / livetime for i in roi_counts]\n",
    "uncrate = [i / livetime for i in roi_unc]\n",
    "\n",
    "print(efficiency)\n",
    "print(countrate)\n",
    "print(uncrate)"
   ]
  },
  {
   "cell_type": "code",
   "execution_count": null,
   "metadata": {},
   "outputs": [],
   "source": [
    "sactivity, sactunc = [(i / j) / wetweight for i, j in zip(countrate, efficiency)], [(i / j) / wetweight for i, j in zip(uncrate, efficiency)]\n",
    "for i, j, k in zip(source_energies, sactivity, sactunc):\n",
    "    print(\"Specific activity at\", i, \"keV:\", j, \"±\", k, \"Bq/g (wet weight)\")"
   ]
  },
  {
   "cell_type": "code",
   "execution_count": null,
   "metadata": {},
   "outputs": [],
   "source": []
  }
 ],
 "metadata": {
  "kernelspec": {
   "display_name": "Python 3 (ipykernel)",
   "language": "python",
   "name": "python3"
  },
  "language_info": {
   "codemirror_mode": {
    "name": "ipython",
    "version": 3
   },
   "file_extension": ".py",
   "mimetype": "text/x-python",
   "name": "python",
   "nbconvert_exporter": "python",
   "pygments_lexer": "ipython3",
   "version": "3.9.12"
  }
 },
 "nbformat": 4,
 "nbformat_minor": 4
}

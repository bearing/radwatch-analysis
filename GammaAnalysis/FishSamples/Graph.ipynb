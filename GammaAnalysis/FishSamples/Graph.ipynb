{
 "cells": [
  {
   "cell_type": "code",
   "execution_count": 1,
   "metadata": {},
   "outputs": [],
   "source": [
    "import numpy as np\n",
    "import plotly.graph_objects as go"
   ]
  },
  {
   "cell_type": "code",
   "execution_count": 2,
   "metadata": {},
   "outputs": [],
   "source": [
    "sample_names = [\"Petrale Sole 1\",\n",
    "                \"Halibut\",\n",
    "                \"Tilapia\",\n",
    "                \"Rockfish\",\n",
    "                \"Rock Cod\",\n",
    "                \"Catfish\",\n",
    "                \"Petrale Sole 2\",\n",
    "                \"Wild King Salmon\",\n",
    "                \"SwordFish\",\n",
    "                \"Oyster\"\n",
    "               ]"
   ]
  },
  {
   "cell_type": "code",
   "execution_count": 3,
   "metadata": {},
   "outputs": [],
   "source": [
    "data1 = np.loadtxt(open(\"UCB1901PetraleSoleData.csv\", \"r\"), delimiter=\",\")\n",
    "data2 = np.loadtxt(open(\"UCB1902HalibutData.csv\", \"r\"), delimiter=\",\")\n",
    "data3 = np.loadtxt(open(\"UCB1903TilapiaData.csv\", \"r\"), delimiter=\",\")\n",
    "data4 = np.loadtxt(open(\"UCB1904RockfishData.csv\", \"r\"), delimiter=\",\")\n",
    "data5 = np.loadtxt(open(\"UCB1905RockCodData.csv\", \"r\"), delimiter=\",\")\n",
    "data6 = np.loadtxt(open(\"UCB1906CatfishData.csv\", \"r\"), delimiter=\",\")\n",
    "data7 = np.loadtxt(open(\"UCB1907PetraleSoleData.csv\", \"r\"), delimiter=\",\")\n",
    "data8 = np.loadtxt(open(\"UCB1908WildKingSalmonData.csv\", \"r\"), delimiter=\",\")\n",
    "data9 = np.loadtxt(open(\"UCB1909SwordFishData.csv\", \"r\"), delimiter=\",\")\n",
    "data10 = np.loadtxt(open(\"UCB1910OysterData.csv\", \"r\"), delimiter=\",\")"
   ]
  },
  {
   "cell_type": "code",
   "execution_count": 4,
   "metadata": {},
   "outputs": [],
   "source": [
    "isotope_names = [\"Cs-134\",\"Bi-214\",\"Cs-137\",\"K-40\",\"Tl-208\"]"
   ]
  },
  {
   "cell_type": "code",
   "execution_count": 5,
   "metadata": {},
   "outputs": [
    {
     "name": "stdout",
     "output_type": "stream",
     "text": [
      "0.06593714490877729 > -0.004368322777553267\n",
      "0.10581607217544745 > 0.09070631003809582\n",
      "0.07568989129821695 > -0.014587234807158728\n",
      "0.040422351380820766 > 0.025378176808564554\n",
      "0.08659884846808148 > -0.7958501606557724\n",
      "0.08740399007077344 > 0.028746422422927725\n",
      "0.6687526275026034 > -1.0507318378247645\n",
      "0.06225543734769286 > -0.06768805125795967\n",
      "0.0458267407689494 > -0.012434610277756088\n",
      "0.6632354322246363 > -0.7410133624592218\n",
      "1.3636778479338045 > 0.14900146867865252\n",
      "1.5976169774591256 > 1.035642733345087\n",
      "2.0503167388694967 > -1.2835713834639249\n",
      "1.041808629066773 > -0.466913720175161\n",
      "0.43654338667120196 > 0.09549167953641012\n",
      "1.1242199995516275 > -0.2788712367678383\n",
      "0.7836603580103432 > 0.4760597814476263\n",
      "1.3754458340976177 > 0.6760779045881882\n",
      "1.0727764201140688 > -0.3278582770408434\n",
      "1.591157576167697 > 1.1575884348884655\n",
      "8.608459692195945 > -2.337897353499567\n"
     ]
    }
   ],
   "source": [
    "cs134_act = [data1[0,1],data2[0,1],data3[0,1],data4[0,1],data5[0,1],data6[0,1],data7[0,1],data8[0,1],data9[0,1],data10[0,1]]\n",
    "cs134_unc = [data1[0,2],data2[0,2],data3[0,2],data4[0,2],data5[0,2],data6[0,2],data7[0,2],data8[0,2],data9[0,2],data10[0,2]]\n",
    "\n",
    "bi214_act = [data1[1,1],data2[1,1],data3[1,1],data4[1,1],data5[1,1],data6[1,1],data7[1,1],data8[1,1],data9[1,1],data10[1,1]]\n",
    "bi214_unc = [data1[1,2],data2[1,2],data3[1,2],data4[1,2],data5[1,2],data6[1,2],data7[1,2],data8[1,2],data9[1,2],data10[1,2]]\n",
    "\n",
    "cs137_act = [data1[2,1],data2[2,1],data3[2,1],data4[2,1],data5[2,1],data6[2,1],data7[2,1],data8[2,1],data9[2,1],data10[2,1]]\n",
    "cs137_unc = [data1[2,2],data2[2,2],data3[2,2],data4[2,2],data5[2,2],data6[2,2],data7[2,2],data8[2,2],data9[2,2],data10[2,2]]\n",
    "\n",
    "k40_act = [data1[3,1],data2[3,1],data3[3,1],data4[3,1],data5[3,1],data6[3,1],data7[3,1],data8[3,1],data9[3,1],data10[3,1]]\n",
    "k40_unc = [data1[3,2],data2[3,2],data3[3,2],data4[3,2],data5[3,2],data6[3,2],data7[3,2],data8[3,2],data9[3,2],data10[3,2]]\n",
    "\n",
    "tl208_act = [data1[4,1],data2[4,1],data3[4,1],data4[4,1],data5[4,1],data6[4,1],data7[4,1],data8[4,1],data9[4,1],data10[4,1]]\n",
    "tl208_unc = [3*data1[4,2],3*data2[4,2],3*data3[4,2],3*data4[4,2],3*data5[4,2],3*data6[4,2],3*data7[4,2],3*data8[4,2],3*data9[4,2],3*data10[4,2]]\n",
    "\n",
    "activities = [cs134_act, bi214_act, cs137_act, k40_act, tl208_act]\n",
    "uncertainties = [cs134_unc, bi214_unc, cs137_unc, k40_unc, tl208_unc]\n",
    "#for eachactivity in activities:\n",
    "    #for i in range(len(eachactivity)):\n",
    "        #if eachactivity[i] < 0:\n",
    "            #eachactivity[i] = 0.00000001\n",
    "            \n",
    "#If data point is \"consistent with 0\" (uncertainty greater than measured value), set measured value as close to 0 as possible, and expand uncertainty to 2 sigma\n",
    "for i in range(len(activities)):\n",
    "    for j in range(len(activities[i])):\n",
    "        if uncertainties[i][j] > activities[i][j]:\n",
    "            print(uncertainties[i][j], \">\", activities[i][j])\n",
    "            activities[i][j] = 0.00000001\n",
    "            uncertainties[i][j] = uncertainties[i][j] * 2 + activities[i][j]"
   ]
  },
  {
   "cell_type": "code",
   "execution_count": 17,
   "metadata": {},
   "outputs": [
    {
     "data": {
      "application/vnd.plotly.v1+json": {
       "config": {
        "plotlyServerURL": "https://plot.ly"
       },
       "data": [
        {
         "error_y": {
          "array": [
           0.9195943636860814,
           1.2101500773234146,
           0.8657799977571883,
           0.7150425274616857,
           0.9190434344444192,
           0.6790895004009374,
           0.6729390710646747,
           1.708725917160823,
           0.7971420710842865,
           2.727355705867609
          ],
          "color": "#8f0a00",
          "type": "data"
         },
         "marker": {
          "color": "#db0000"
         },
         "name": "K-40",
         "type": "bar",
         "x": [
          "Petrale Sole 1",
          "Halibut",
          "Tilapia",
          "Rockfish",
          "Rock Cod",
          "Catfish",
          "Petrale Sole 2",
          "Wild King Salmon",
          "SwordFish",
          "Oyster"
         ],
         "y": [
          16.823346332441968,
          30.400380161731242,
          16.158051660856106,
          15.971731685732529,
          26.352325175095405,
          13.071425177214545,
          15.110137563169815,
          15.21095447827376,
          13.250577165808371,
          1e-08
         ]
        },
        {
         "error_y": {
          "array": [
           0.07518687009875095,
           0.21163215435089489,
           0.1513797925964339,
           0.08084471276164153,
           0.17319770693616296,
           0.04679517450762222,
           0.0990950383958519,
           0.17480799014154688,
           0.03981326793478307,
           1.3375052650052068
          ],
          "color": "#c26400",
          "type": "data"
         },
         "marker": {
          "color": "#f27d00"
         },
         "name": "Bi-214",
         "type": "bar",
         "x": [
          "Petrale Sole 1",
          "Halibut",
          "Tilapia",
          "Rockfish",
          "Rock Cod",
          "Catfish",
          "Petrale Sole 2",
          "Wild King Salmon",
          "SwordFish",
          "Oyster"
         ],
         "y": [
          0.18776563867683008,
          1e-08,
          1e-08,
          1e-08,
          1e-08,
          0.08847154118323446,
          0.1089850704386828,
          1e-08,
          0.2249347597824915,
          1e-08
         ]
        },
        {
         "error_y": {
          "array": [
           3.195233964918251,
           4.100633487738993,
           2.083617268133546,
           0.873086783342404,
           2.248440009103255,
           1.5673207260206863,
           2.7508916781952353,
           2.1455528502281376,
           3.182315162335394,
           17.21691939439189
          ],
          "color": "#9A8300",
          "type": "data"
         },
         "marker": {
          "color": "#F0CC00"
         },
         "name": "Tl-208",
         "type": "bar",
         "x": [
          "Petrale Sole 1",
          "Halibut",
          "Tilapia",
          "Rockfish",
          "Rock Cod",
          "Catfish",
          "Petrale Sole 2",
          "Wild King Salmon",
          "SwordFish",
          "Oyster"
         ],
         "y": [
          1e-08,
          1e-08,
          1e-08,
          1e-08,
          1e-08,
          1e-08,
          1e-08,
          1e-08,
          1e-08,
          1e-08
         ]
        },
        {
         "error_y": {
          "array": [
           0.06343421204815194,
           0.08324214518600431,
           0.12451088469538571,
           0.04184959266939643,
           0.10041095236069067,
           0.0916534915378988,
           0.09119720233017099,
           0.10097712965358009,
           0.03444425827009845,
           1.3264708744492726
          ],
          "color": "#009c17",
          "type": "data"
         },
         "marker": {
          "color": "#14D500"
         },
         "name": "Cs-137",
         "type": "bar",
         "x": [
          "Petrale Sole 1",
          "Halibut",
          "Tilapia",
          "Rockfish",
          "Rock Cod",
          "Catfish",
          "Petrale Sole 2",
          "Wild King Salmon",
          "SwordFish",
          "Oyster"
         ],
         "y": [
          0.29181828536863547,
          0.11672354600556271,
          1e-08,
          0.32187731866114433,
          0.6640925111322945,
          1e-08,
          0.20965381816384185,
          0.45021936912013055,
          0.10632232968359998,
          1e-08
         ]
        },
        {
         "error_y": {
          "array": [
           0.055881015102205896,
           0.07204343746433928,
           0.05393287484214995,
           0.031056005143596077,
           0.10041295396392812,
           0.031211666581577688,
           0.060578867433739886,
           0.13187429981755458,
           0.02983499726994084,
           0.8606795039681857
          ],
          "color": "#0059a6",
          "type": "data"
         },
         "marker": {
          "color": "#0083f5"
         },
         "name": "Cs-134",
         "type": "bar",
         "x": [
          "Petrale Sole 1",
          "Halibut",
          "Tilapia",
          "Rockfish",
          "Rock Cod",
          "Catfish",
          "Petrale Sole 2",
          "Wild King Salmon",
          "SwordFish",
          "Oyster"
         ],
         "y": [
          0.36863403174518244,
          0.5755859245074042,
          0.31533679800116476,
          0.2134060630642781,
          0.9181633224411343,
          0.08595757052940041,
          0.38932005172513356,
          1e-08,
          0.17764383090038666,
          2.8195721591223823
         ]
        }
       ],
       "layout": {
        "barmode": "group",
        "paper_bgcolor": "#ffffff",
        "plot_bgcolor": "#ffffff",
        "template": {
         "data": {
          "bar": [
           {
            "error_x": {
             "color": "#2a3f5f"
            },
            "error_y": {
             "color": "#2a3f5f"
            },
            "marker": {
             "line": {
              "color": "#E5ECF6",
              "width": 0.5
             }
            },
            "type": "bar"
           }
          ],
          "barpolar": [
           {
            "marker": {
             "line": {
              "color": "#E5ECF6",
              "width": 0.5
             }
            },
            "type": "barpolar"
           }
          ],
          "carpet": [
           {
            "aaxis": {
             "endlinecolor": "#2a3f5f",
             "gridcolor": "white",
             "linecolor": "white",
             "minorgridcolor": "white",
             "startlinecolor": "#2a3f5f"
            },
            "baxis": {
             "endlinecolor": "#2a3f5f",
             "gridcolor": "white",
             "linecolor": "white",
             "minorgridcolor": "white",
             "startlinecolor": "#2a3f5f"
            },
            "type": "carpet"
           }
          ],
          "choropleth": [
           {
            "colorbar": {
             "outlinewidth": 0,
             "ticks": ""
            },
            "type": "choropleth"
           }
          ],
          "contour": [
           {
            "colorbar": {
             "outlinewidth": 0,
             "ticks": ""
            },
            "colorscale": [
             [
              0,
              "#0d0887"
             ],
             [
              0.1111111111111111,
              "#46039f"
             ],
             [
              0.2222222222222222,
              "#7201a8"
             ],
             [
              0.3333333333333333,
              "#9c179e"
             ],
             [
              0.4444444444444444,
              "#bd3786"
             ],
             [
              0.5555555555555556,
              "#d8576b"
             ],
             [
              0.6666666666666666,
              "#ed7953"
             ],
             [
              0.7777777777777778,
              "#fb9f3a"
             ],
             [
              0.8888888888888888,
              "#fdca26"
             ],
             [
              1,
              "#f0f921"
             ]
            ],
            "type": "contour"
           }
          ],
          "contourcarpet": [
           {
            "colorbar": {
             "outlinewidth": 0,
             "ticks": ""
            },
            "type": "contourcarpet"
           }
          ],
          "heatmap": [
           {
            "colorbar": {
             "outlinewidth": 0,
             "ticks": ""
            },
            "colorscale": [
             [
              0,
              "#0d0887"
             ],
             [
              0.1111111111111111,
              "#46039f"
             ],
             [
              0.2222222222222222,
              "#7201a8"
             ],
             [
              0.3333333333333333,
              "#9c179e"
             ],
             [
              0.4444444444444444,
              "#bd3786"
             ],
             [
              0.5555555555555556,
              "#d8576b"
             ],
             [
              0.6666666666666666,
              "#ed7953"
             ],
             [
              0.7777777777777778,
              "#fb9f3a"
             ],
             [
              0.8888888888888888,
              "#fdca26"
             ],
             [
              1,
              "#f0f921"
             ]
            ],
            "type": "heatmap"
           }
          ],
          "heatmapgl": [
           {
            "colorbar": {
             "outlinewidth": 0,
             "ticks": ""
            },
            "colorscale": [
             [
              0,
              "#0d0887"
             ],
             [
              0.1111111111111111,
              "#46039f"
             ],
             [
              0.2222222222222222,
              "#7201a8"
             ],
             [
              0.3333333333333333,
              "#9c179e"
             ],
             [
              0.4444444444444444,
              "#bd3786"
             ],
             [
              0.5555555555555556,
              "#d8576b"
             ],
             [
              0.6666666666666666,
              "#ed7953"
             ],
             [
              0.7777777777777778,
              "#fb9f3a"
             ],
             [
              0.8888888888888888,
              "#fdca26"
             ],
             [
              1,
              "#f0f921"
             ]
            ],
            "type": "heatmapgl"
           }
          ],
          "histogram": [
           {
            "marker": {
             "colorbar": {
              "outlinewidth": 0,
              "ticks": ""
             }
            },
            "type": "histogram"
           }
          ],
          "histogram2d": [
           {
            "colorbar": {
             "outlinewidth": 0,
             "ticks": ""
            },
            "colorscale": [
             [
              0,
              "#0d0887"
             ],
             [
              0.1111111111111111,
              "#46039f"
             ],
             [
              0.2222222222222222,
              "#7201a8"
             ],
             [
              0.3333333333333333,
              "#9c179e"
             ],
             [
              0.4444444444444444,
              "#bd3786"
             ],
             [
              0.5555555555555556,
              "#d8576b"
             ],
             [
              0.6666666666666666,
              "#ed7953"
             ],
             [
              0.7777777777777778,
              "#fb9f3a"
             ],
             [
              0.8888888888888888,
              "#fdca26"
             ],
             [
              1,
              "#f0f921"
             ]
            ],
            "type": "histogram2d"
           }
          ],
          "histogram2dcontour": [
           {
            "colorbar": {
             "outlinewidth": 0,
             "ticks": ""
            },
            "colorscale": [
             [
              0,
              "#0d0887"
             ],
             [
              0.1111111111111111,
              "#46039f"
             ],
             [
              0.2222222222222222,
              "#7201a8"
             ],
             [
              0.3333333333333333,
              "#9c179e"
             ],
             [
              0.4444444444444444,
              "#bd3786"
             ],
             [
              0.5555555555555556,
              "#d8576b"
             ],
             [
              0.6666666666666666,
              "#ed7953"
             ],
             [
              0.7777777777777778,
              "#fb9f3a"
             ],
             [
              0.8888888888888888,
              "#fdca26"
             ],
             [
              1,
              "#f0f921"
             ]
            ],
            "type": "histogram2dcontour"
           }
          ],
          "mesh3d": [
           {
            "colorbar": {
             "outlinewidth": 0,
             "ticks": ""
            },
            "type": "mesh3d"
           }
          ],
          "parcoords": [
           {
            "line": {
             "colorbar": {
              "outlinewidth": 0,
              "ticks": ""
             }
            },
            "type": "parcoords"
           }
          ],
          "pie": [
           {
            "automargin": true,
            "type": "pie"
           }
          ],
          "scatter": [
           {
            "marker": {
             "colorbar": {
              "outlinewidth": 0,
              "ticks": ""
             }
            },
            "type": "scatter"
           }
          ],
          "scatter3d": [
           {
            "line": {
             "colorbar": {
              "outlinewidth": 0,
              "ticks": ""
             }
            },
            "marker": {
             "colorbar": {
              "outlinewidth": 0,
              "ticks": ""
             }
            },
            "type": "scatter3d"
           }
          ],
          "scattercarpet": [
           {
            "marker": {
             "colorbar": {
              "outlinewidth": 0,
              "ticks": ""
             }
            },
            "type": "scattercarpet"
           }
          ],
          "scattergeo": [
           {
            "marker": {
             "colorbar": {
              "outlinewidth": 0,
              "ticks": ""
             }
            },
            "type": "scattergeo"
           }
          ],
          "scattergl": [
           {
            "marker": {
             "colorbar": {
              "outlinewidth": 0,
              "ticks": ""
             }
            },
            "type": "scattergl"
           }
          ],
          "scattermapbox": [
           {
            "marker": {
             "colorbar": {
              "outlinewidth": 0,
              "ticks": ""
             }
            },
            "type": "scattermapbox"
           }
          ],
          "scatterpolar": [
           {
            "marker": {
             "colorbar": {
              "outlinewidth": 0,
              "ticks": ""
             }
            },
            "type": "scatterpolar"
           }
          ],
          "scatterpolargl": [
           {
            "marker": {
             "colorbar": {
              "outlinewidth": 0,
              "ticks": ""
             }
            },
            "type": "scatterpolargl"
           }
          ],
          "scatterternary": [
           {
            "marker": {
             "colorbar": {
              "outlinewidth": 0,
              "ticks": ""
             }
            },
            "type": "scatterternary"
           }
          ],
          "surface": [
           {
            "colorbar": {
             "outlinewidth": 0,
             "ticks": ""
            },
            "colorscale": [
             [
              0,
              "#0d0887"
             ],
             [
              0.1111111111111111,
              "#46039f"
             ],
             [
              0.2222222222222222,
              "#7201a8"
             ],
             [
              0.3333333333333333,
              "#9c179e"
             ],
             [
              0.4444444444444444,
              "#bd3786"
             ],
             [
              0.5555555555555556,
              "#d8576b"
             ],
             [
              0.6666666666666666,
              "#ed7953"
             ],
             [
              0.7777777777777778,
              "#fb9f3a"
             ],
             [
              0.8888888888888888,
              "#fdca26"
             ],
             [
              1,
              "#f0f921"
             ]
            ],
            "type": "surface"
           }
          ],
          "table": [
           {
            "cells": {
             "fill": {
              "color": "#EBF0F8"
             },
             "line": {
              "color": "white"
             }
            },
            "header": {
             "fill": {
              "color": "#C8D4E3"
             },
             "line": {
              "color": "white"
             }
            },
            "type": "table"
           }
          ]
         },
         "layout": {
          "annotationdefaults": {
           "arrowcolor": "#2a3f5f",
           "arrowhead": 0,
           "arrowwidth": 1
          },
          "autotypenumbers": "strict",
          "coloraxis": {
           "colorbar": {
            "outlinewidth": 0,
            "ticks": ""
           }
          },
          "colorscale": {
           "diverging": [
            [
             0,
             "#8e0152"
            ],
            [
             0.1,
             "#c51b7d"
            ],
            [
             0.2,
             "#de77ae"
            ],
            [
             0.3,
             "#f1b6da"
            ],
            [
             0.4,
             "#fde0ef"
            ],
            [
             0.5,
             "#f7f7f7"
            ],
            [
             0.6,
             "#e6f5d0"
            ],
            [
             0.7,
             "#b8e186"
            ],
            [
             0.8,
             "#7fbc41"
            ],
            [
             0.9,
             "#4d9221"
            ],
            [
             1,
             "#276419"
            ]
           ],
           "sequential": [
            [
             0,
             "#0d0887"
            ],
            [
             0.1111111111111111,
             "#46039f"
            ],
            [
             0.2222222222222222,
             "#7201a8"
            ],
            [
             0.3333333333333333,
             "#9c179e"
            ],
            [
             0.4444444444444444,
             "#bd3786"
            ],
            [
             0.5555555555555556,
             "#d8576b"
            ],
            [
             0.6666666666666666,
             "#ed7953"
            ],
            [
             0.7777777777777778,
             "#fb9f3a"
            ],
            [
             0.8888888888888888,
             "#fdca26"
            ],
            [
             1,
             "#f0f921"
            ]
           ],
           "sequentialminus": [
            [
             0,
             "#0d0887"
            ],
            [
             0.1111111111111111,
             "#46039f"
            ],
            [
             0.2222222222222222,
             "#7201a8"
            ],
            [
             0.3333333333333333,
             "#9c179e"
            ],
            [
             0.4444444444444444,
             "#bd3786"
            ],
            [
             0.5555555555555556,
             "#d8576b"
            ],
            [
             0.6666666666666666,
             "#ed7953"
            ],
            [
             0.7777777777777778,
             "#fb9f3a"
            ],
            [
             0.8888888888888888,
             "#fdca26"
            ],
            [
             1,
             "#f0f921"
            ]
           ]
          },
          "colorway": [
           "#636efa",
           "#EF553B",
           "#00cc96",
           "#ab63fa",
           "#FFA15A",
           "#19d3f3",
           "#FF6692",
           "#B6E880",
           "#FF97FF",
           "#FECB52"
          ],
          "font": {
           "color": "#2a3f5f"
          },
          "geo": {
           "bgcolor": "white",
           "lakecolor": "white",
           "landcolor": "#E5ECF6",
           "showlakes": true,
           "showland": true,
           "subunitcolor": "white"
          },
          "hoverlabel": {
           "align": "left"
          },
          "hovermode": "closest",
          "mapbox": {
           "style": "light"
          },
          "paper_bgcolor": "white",
          "plot_bgcolor": "#E5ECF6",
          "polar": {
           "angularaxis": {
            "gridcolor": "white",
            "linecolor": "white",
            "ticks": ""
           },
           "bgcolor": "#E5ECF6",
           "radialaxis": {
            "gridcolor": "white",
            "linecolor": "white",
            "ticks": ""
           }
          },
          "scene": {
           "xaxis": {
            "backgroundcolor": "#E5ECF6",
            "gridcolor": "white",
            "gridwidth": 2,
            "linecolor": "white",
            "showbackground": true,
            "ticks": "",
            "zerolinecolor": "white"
           },
           "yaxis": {
            "backgroundcolor": "#E5ECF6",
            "gridcolor": "white",
            "gridwidth": 2,
            "linecolor": "white",
            "showbackground": true,
            "ticks": "",
            "zerolinecolor": "white"
           },
           "zaxis": {
            "backgroundcolor": "#E5ECF6",
            "gridcolor": "white",
            "gridwidth": 2,
            "linecolor": "white",
            "showbackground": true,
            "ticks": "",
            "zerolinecolor": "white"
           }
          },
          "shapedefaults": {
           "line": {
            "color": "#2a3f5f"
           }
          },
          "ternary": {
           "aaxis": {
            "gridcolor": "white",
            "linecolor": "white",
            "ticks": ""
           },
           "baxis": {
            "gridcolor": "white",
            "linecolor": "white",
            "ticks": ""
           },
           "bgcolor": "#E5ECF6",
           "caxis": {
            "gridcolor": "white",
            "linecolor": "white",
            "ticks": ""
           }
          },
          "title": {
           "x": 0.05
          },
          "xaxis": {
           "automargin": true,
           "gridcolor": "white",
           "linecolor": "white",
           "ticks": "",
           "title": {
            "standoff": 15
           },
           "zerolinecolor": "white",
           "zerolinewidth": 2
          },
          "yaxis": {
           "automargin": true,
           "gridcolor": "white",
           "linecolor": "white",
           "ticks": "",
           "title": {
            "standoff": 15
           },
           "zerolinecolor": "white",
           "zerolinewidth": 2
          }
         }
        },
        "title": {
         "text": "2019 Fish Samples",
         "x": 0.475,
         "xanchor": "center"
        },
        "xaxis": {
         "linecolor": "#000000",
         "title": {
          "text": "Fish Species"
         }
        },
        "yaxis": {
         "gridcolor": "#000000",
         "linecolor": "#000000",
         "range": [
          -4,
          3
         ],
         "tickvals": [
          0.0001,
          0.001,
          0.01,
          0.1,
          1,
          10,
          100
         ],
         "title": {
          "text": "Specific Activity (Bq/kg)"
         },
         "type": "log"
        }
       }
      },
      "text/html": [
       "<div>                            <div id=\"5eedc10b-8a60-4f1b-b716-a2e63c26d591\" class=\"plotly-graph-div\" style=\"height:525px; width:100%;\"></div>            <script type=\"text/javascript\">                require([\"plotly\"], function(Plotly) {                    window.PLOTLYENV=window.PLOTLYENV || {};                                    if (document.getElementById(\"5eedc10b-8a60-4f1b-b716-a2e63c26d591\")) {                    Plotly.newPlot(                        \"5eedc10b-8a60-4f1b-b716-a2e63c26d591\",                        [{\"error_y\": {\"array\": [0.9195943636860814, 1.2101500773234146, 0.8657799977571883, 0.7150425274616857, 0.9190434344444192, 0.6790895004009374, 0.6729390710646747, 1.708725917160823, 0.7971420710842865, 2.727355705867609], \"color\": \"#8f0a00\", \"type\": \"data\"}, \"marker\": {\"color\": \"#db0000\"}, \"name\": \"K-40\", \"type\": \"bar\", \"x\": [\"Petrale Sole 1\", \"Halibut\", \"Tilapia\", \"Rockfish\", \"Rock Cod\", \"Catfish\", \"Petrale Sole 2\", \"Wild King Salmon\", \"SwordFish\", \"Oyster\"], \"y\": [16.823346332441968, 30.400380161731242, 16.158051660856106, 15.971731685732529, 26.352325175095405, 13.071425177214545, 15.110137563169815, 15.21095447827376, 13.250577165808371, 1e-08]}, {\"error_y\": {\"array\": [0.07518687009875095, 0.21163215435089489, 0.1513797925964339, 0.08084471276164153, 0.17319770693616296, 0.04679517450762222, 0.0990950383958519, 0.17480799014154688, 0.03981326793478307, 1.3375052650052068], \"color\": \"#c26400\", \"type\": \"data\"}, \"marker\": {\"color\": \"#f27d00\"}, \"name\": \"Bi-214\", \"type\": \"bar\", \"x\": [\"Petrale Sole 1\", \"Halibut\", \"Tilapia\", \"Rockfish\", \"Rock Cod\", \"Catfish\", \"Petrale Sole 2\", \"Wild King Salmon\", \"SwordFish\", \"Oyster\"], \"y\": [0.18776563867683008, 1e-08, 1e-08, 1e-08, 1e-08, 0.08847154118323446, 0.1089850704386828, 1e-08, 0.2249347597824915, 1e-08]}, {\"error_y\": {\"array\": [3.195233964918251, 4.100633487738993, 2.083617268133546, 0.873086783342404, 2.248440009103255, 1.5673207260206863, 2.7508916781952353, 2.1455528502281376, 3.182315162335394, 17.21691939439189], \"color\": \"#9A8300\", \"type\": \"data\"}, \"marker\": {\"color\": \"#F0CC00\"}, \"name\": \"Tl-208\", \"type\": \"bar\", \"x\": [\"Petrale Sole 1\", \"Halibut\", \"Tilapia\", \"Rockfish\", \"Rock Cod\", \"Catfish\", \"Petrale Sole 2\", \"Wild King Salmon\", \"SwordFish\", \"Oyster\"], \"y\": [1e-08, 1e-08, 1e-08, 1e-08, 1e-08, 1e-08, 1e-08, 1e-08, 1e-08, 1e-08]}, {\"error_y\": {\"array\": [0.06343421204815194, 0.08324214518600431, 0.12451088469538571, 0.04184959266939643, 0.10041095236069067, 0.0916534915378988, 0.09119720233017099, 0.10097712965358009, 0.03444425827009845, 1.3264708744492726], \"color\": \"#009c17\", \"type\": \"data\"}, \"marker\": {\"color\": \"#14D500\"}, \"name\": \"Cs-137\", \"type\": \"bar\", \"x\": [\"Petrale Sole 1\", \"Halibut\", \"Tilapia\", \"Rockfish\", \"Rock Cod\", \"Catfish\", \"Petrale Sole 2\", \"Wild King Salmon\", \"SwordFish\", \"Oyster\"], \"y\": [0.29181828536863547, 0.11672354600556271, 1e-08, 0.32187731866114433, 0.6640925111322945, 1e-08, 0.20965381816384185, 0.45021936912013055, 0.10632232968359998, 1e-08]}, {\"error_y\": {\"array\": [0.055881015102205896, 0.07204343746433928, 0.05393287484214995, 0.031056005143596077, 0.10041295396392812, 0.031211666581577688, 0.060578867433739886, 0.13187429981755458, 0.02983499726994084, 0.8606795039681857], \"color\": \"#0059a6\", \"type\": \"data\"}, \"marker\": {\"color\": \"#0083f5\"}, \"name\": \"Cs-134\", \"type\": \"bar\", \"x\": [\"Petrale Sole 1\", \"Halibut\", \"Tilapia\", \"Rockfish\", \"Rock Cod\", \"Catfish\", \"Petrale Sole 2\", \"Wild King Salmon\", \"SwordFish\", \"Oyster\"], \"y\": [0.36863403174518244, 0.5755859245074042, 0.31533679800116476, 0.2134060630642781, 0.9181633224411343, 0.08595757052940041, 0.38932005172513356, 1e-08, 0.17764383090038666, 2.8195721591223823]}],                        {\"barmode\": \"group\", \"paper_bgcolor\": \"#ffffff\", \"plot_bgcolor\": \"#ffffff\", \"template\": {\"data\": {\"bar\": [{\"error_x\": {\"color\": \"#2a3f5f\"}, \"error_y\": {\"color\": \"#2a3f5f\"}, \"marker\": {\"line\": {\"color\": \"#E5ECF6\", \"width\": 0.5}}, \"type\": \"bar\"}], \"barpolar\": [{\"marker\": {\"line\": {\"color\": \"#E5ECF6\", \"width\": 0.5}}, \"type\": \"barpolar\"}], \"carpet\": [{\"aaxis\": {\"endlinecolor\": \"#2a3f5f\", \"gridcolor\": \"white\", \"linecolor\": \"white\", \"minorgridcolor\": \"white\", \"startlinecolor\": \"#2a3f5f\"}, \"baxis\": {\"endlinecolor\": \"#2a3f5f\", \"gridcolor\": \"white\", \"linecolor\": \"white\", \"minorgridcolor\": \"white\", \"startlinecolor\": \"#2a3f5f\"}, \"type\": \"carpet\"}], \"choropleth\": [{\"colorbar\": {\"outlinewidth\": 0, \"ticks\": \"\"}, \"type\": \"choropleth\"}], \"contour\": [{\"colorbar\": {\"outlinewidth\": 0, \"ticks\": \"\"}, \"colorscale\": [[0.0, \"#0d0887\"], [0.1111111111111111, \"#46039f\"], [0.2222222222222222, \"#7201a8\"], [0.3333333333333333, \"#9c179e\"], [0.4444444444444444, \"#bd3786\"], [0.5555555555555556, \"#d8576b\"], [0.6666666666666666, \"#ed7953\"], [0.7777777777777778, \"#fb9f3a\"], [0.8888888888888888, \"#fdca26\"], [1.0, \"#f0f921\"]], \"type\": \"contour\"}], \"contourcarpet\": [{\"colorbar\": {\"outlinewidth\": 0, \"ticks\": \"\"}, \"type\": \"contourcarpet\"}], \"heatmap\": [{\"colorbar\": {\"outlinewidth\": 0, \"ticks\": \"\"}, \"colorscale\": [[0.0, \"#0d0887\"], [0.1111111111111111, \"#46039f\"], [0.2222222222222222, \"#7201a8\"], [0.3333333333333333, \"#9c179e\"], [0.4444444444444444, \"#bd3786\"], [0.5555555555555556, \"#d8576b\"], [0.6666666666666666, \"#ed7953\"], [0.7777777777777778, \"#fb9f3a\"], [0.8888888888888888, \"#fdca26\"], [1.0, \"#f0f921\"]], \"type\": \"heatmap\"}], \"heatmapgl\": [{\"colorbar\": {\"outlinewidth\": 0, \"ticks\": \"\"}, \"colorscale\": [[0.0, \"#0d0887\"], [0.1111111111111111, \"#46039f\"], [0.2222222222222222, \"#7201a8\"], [0.3333333333333333, \"#9c179e\"], [0.4444444444444444, \"#bd3786\"], [0.5555555555555556, \"#d8576b\"], [0.6666666666666666, \"#ed7953\"], [0.7777777777777778, \"#fb9f3a\"], [0.8888888888888888, \"#fdca26\"], [1.0, \"#f0f921\"]], \"type\": \"heatmapgl\"}], \"histogram\": [{\"marker\": {\"colorbar\": {\"outlinewidth\": 0, \"ticks\": \"\"}}, \"type\": \"histogram\"}], \"histogram2d\": [{\"colorbar\": {\"outlinewidth\": 0, \"ticks\": \"\"}, \"colorscale\": [[0.0, \"#0d0887\"], [0.1111111111111111, \"#46039f\"], [0.2222222222222222, \"#7201a8\"], [0.3333333333333333, \"#9c179e\"], [0.4444444444444444, \"#bd3786\"], [0.5555555555555556, \"#d8576b\"], [0.6666666666666666, \"#ed7953\"], [0.7777777777777778, \"#fb9f3a\"], [0.8888888888888888, \"#fdca26\"], [1.0, \"#f0f921\"]], \"type\": \"histogram2d\"}], \"histogram2dcontour\": [{\"colorbar\": {\"outlinewidth\": 0, \"ticks\": \"\"}, \"colorscale\": [[0.0, \"#0d0887\"], [0.1111111111111111, \"#46039f\"], [0.2222222222222222, \"#7201a8\"], [0.3333333333333333, \"#9c179e\"], [0.4444444444444444, \"#bd3786\"], [0.5555555555555556, \"#d8576b\"], [0.6666666666666666, \"#ed7953\"], [0.7777777777777778, \"#fb9f3a\"], [0.8888888888888888, \"#fdca26\"], [1.0, \"#f0f921\"]], \"type\": \"histogram2dcontour\"}], \"mesh3d\": [{\"colorbar\": {\"outlinewidth\": 0, \"ticks\": \"\"}, \"type\": \"mesh3d\"}], \"parcoords\": [{\"line\": {\"colorbar\": {\"outlinewidth\": 0, \"ticks\": \"\"}}, \"type\": \"parcoords\"}], \"pie\": [{\"automargin\": true, \"type\": \"pie\"}], \"scatter\": [{\"marker\": {\"colorbar\": {\"outlinewidth\": 0, \"ticks\": \"\"}}, \"type\": \"scatter\"}], \"scatter3d\": [{\"line\": {\"colorbar\": {\"outlinewidth\": 0, \"ticks\": \"\"}}, \"marker\": {\"colorbar\": {\"outlinewidth\": 0, \"ticks\": \"\"}}, \"type\": \"scatter3d\"}], \"scattercarpet\": [{\"marker\": {\"colorbar\": {\"outlinewidth\": 0, \"ticks\": \"\"}}, \"type\": \"scattercarpet\"}], \"scattergeo\": [{\"marker\": {\"colorbar\": {\"outlinewidth\": 0, \"ticks\": \"\"}}, \"type\": \"scattergeo\"}], \"scattergl\": [{\"marker\": {\"colorbar\": {\"outlinewidth\": 0, \"ticks\": \"\"}}, \"type\": \"scattergl\"}], \"scattermapbox\": [{\"marker\": {\"colorbar\": {\"outlinewidth\": 0, \"ticks\": \"\"}}, \"type\": \"scattermapbox\"}], \"scatterpolar\": [{\"marker\": {\"colorbar\": {\"outlinewidth\": 0, \"ticks\": \"\"}}, \"type\": \"scatterpolar\"}], \"scatterpolargl\": [{\"marker\": {\"colorbar\": {\"outlinewidth\": 0, \"ticks\": \"\"}}, \"type\": \"scatterpolargl\"}], \"scatterternary\": [{\"marker\": {\"colorbar\": {\"outlinewidth\": 0, \"ticks\": \"\"}}, \"type\": \"scatterternary\"}], \"surface\": [{\"colorbar\": {\"outlinewidth\": 0, \"ticks\": \"\"}, \"colorscale\": [[0.0, \"#0d0887\"], [0.1111111111111111, \"#46039f\"], [0.2222222222222222, \"#7201a8\"], [0.3333333333333333, \"#9c179e\"], [0.4444444444444444, \"#bd3786\"], [0.5555555555555556, \"#d8576b\"], [0.6666666666666666, \"#ed7953\"], [0.7777777777777778, \"#fb9f3a\"], [0.8888888888888888, \"#fdca26\"], [1.0, \"#f0f921\"]], \"type\": \"surface\"}], \"table\": [{\"cells\": {\"fill\": {\"color\": \"#EBF0F8\"}, \"line\": {\"color\": \"white\"}}, \"header\": {\"fill\": {\"color\": \"#C8D4E3\"}, \"line\": {\"color\": \"white\"}}, \"type\": \"table\"}]}, \"layout\": {\"annotationdefaults\": {\"arrowcolor\": \"#2a3f5f\", \"arrowhead\": 0, \"arrowwidth\": 1}, \"autotypenumbers\": \"strict\", \"coloraxis\": {\"colorbar\": {\"outlinewidth\": 0, \"ticks\": \"\"}}, \"colorscale\": {\"diverging\": [[0, \"#8e0152\"], [0.1, \"#c51b7d\"], [0.2, \"#de77ae\"], [0.3, \"#f1b6da\"], [0.4, \"#fde0ef\"], [0.5, \"#f7f7f7\"], [0.6, \"#e6f5d0\"], [0.7, \"#b8e186\"], [0.8, \"#7fbc41\"], [0.9, \"#4d9221\"], [1, \"#276419\"]], \"sequential\": [[0.0, \"#0d0887\"], [0.1111111111111111, \"#46039f\"], [0.2222222222222222, \"#7201a8\"], [0.3333333333333333, \"#9c179e\"], [0.4444444444444444, \"#bd3786\"], [0.5555555555555556, \"#d8576b\"], [0.6666666666666666, \"#ed7953\"], [0.7777777777777778, \"#fb9f3a\"], [0.8888888888888888, \"#fdca26\"], [1.0, \"#f0f921\"]], \"sequentialminus\": [[0.0, \"#0d0887\"], [0.1111111111111111, \"#46039f\"], [0.2222222222222222, \"#7201a8\"], [0.3333333333333333, \"#9c179e\"], [0.4444444444444444, \"#bd3786\"], [0.5555555555555556, \"#d8576b\"], [0.6666666666666666, \"#ed7953\"], [0.7777777777777778, \"#fb9f3a\"], [0.8888888888888888, \"#fdca26\"], [1.0, \"#f0f921\"]]}, \"colorway\": [\"#636efa\", \"#EF553B\", \"#00cc96\", \"#ab63fa\", \"#FFA15A\", \"#19d3f3\", \"#FF6692\", \"#B6E880\", \"#FF97FF\", \"#FECB52\"], \"font\": {\"color\": \"#2a3f5f\"}, \"geo\": {\"bgcolor\": \"white\", \"lakecolor\": \"white\", \"landcolor\": \"#E5ECF6\", \"showlakes\": true, \"showland\": true, \"subunitcolor\": \"white\"}, \"hoverlabel\": {\"align\": \"left\"}, \"hovermode\": \"closest\", \"mapbox\": {\"style\": \"light\"}, \"paper_bgcolor\": \"white\", \"plot_bgcolor\": \"#E5ECF6\", \"polar\": {\"angularaxis\": {\"gridcolor\": \"white\", \"linecolor\": \"white\", \"ticks\": \"\"}, \"bgcolor\": \"#E5ECF6\", \"radialaxis\": {\"gridcolor\": \"white\", \"linecolor\": \"white\", \"ticks\": \"\"}}, \"scene\": {\"xaxis\": {\"backgroundcolor\": \"#E5ECF6\", \"gridcolor\": \"white\", \"gridwidth\": 2, \"linecolor\": \"white\", \"showbackground\": true, \"ticks\": \"\", \"zerolinecolor\": \"white\"}, \"yaxis\": {\"backgroundcolor\": \"#E5ECF6\", \"gridcolor\": \"white\", \"gridwidth\": 2, \"linecolor\": \"white\", \"showbackground\": true, \"ticks\": \"\", \"zerolinecolor\": \"white\"}, \"zaxis\": {\"backgroundcolor\": \"#E5ECF6\", \"gridcolor\": \"white\", \"gridwidth\": 2, \"linecolor\": \"white\", \"showbackground\": true, \"ticks\": \"\", \"zerolinecolor\": \"white\"}}, \"shapedefaults\": {\"line\": {\"color\": \"#2a3f5f\"}}, \"ternary\": {\"aaxis\": {\"gridcolor\": \"white\", \"linecolor\": \"white\", \"ticks\": \"\"}, \"baxis\": {\"gridcolor\": \"white\", \"linecolor\": \"white\", \"ticks\": \"\"}, \"bgcolor\": \"#E5ECF6\", \"caxis\": {\"gridcolor\": \"white\", \"linecolor\": \"white\", \"ticks\": \"\"}}, \"title\": {\"x\": 0.05}, \"xaxis\": {\"automargin\": true, \"gridcolor\": \"white\", \"linecolor\": \"white\", \"ticks\": \"\", \"title\": {\"standoff\": 15}, \"zerolinecolor\": \"white\", \"zerolinewidth\": 2}, \"yaxis\": {\"automargin\": true, \"gridcolor\": \"white\", \"linecolor\": \"white\", \"ticks\": \"\", \"title\": {\"standoff\": 15}, \"zerolinecolor\": \"white\", \"zerolinewidth\": 2}}}, \"title\": {\"text\": \"2019 Fish Samples\", \"x\": 0.475, \"xanchor\": \"center\"}, \"xaxis\": {\"linecolor\": \"#000000\", \"title\": {\"text\": \"Fish Species\"}}, \"yaxis\": {\"gridcolor\": \"#000000\", \"linecolor\": \"#000000\", \"range\": [-4, 3], \"tickvals\": [0.0001, 0.001, 0.01, 0.1, 1, 10, 100], \"title\": {\"text\": \"Specific Activity (Bq/kg)\"}, \"type\": \"log\"}},                        {\"responsive\": true}                    ).then(function(){\n",
       "                            \n",
       "var gd = document.getElementById('5eedc10b-8a60-4f1b-b716-a2e63c26d591');\n",
       "var x = new MutationObserver(function (mutations, observer) {{\n",
       "        var display = window.getComputedStyle(gd).display;\n",
       "        if (!display || display === 'none') {{\n",
       "            console.log([gd, 'removed!']);\n",
       "            Plotly.purge(gd);\n",
       "            observer.disconnect();\n",
       "        }}\n",
       "}});\n",
       "\n",
       "// Listen for the removal of the full notebook cells\n",
       "var notebookContainer = gd.closest('#notebook-container');\n",
       "if (notebookContainer) {{\n",
       "    x.observe(notebookContainer, {childList: true});\n",
       "}}\n",
       "\n",
       "// Listen for the clearing of the current output cell\n",
       "var outputEl = gd.closest('.output');\n",
       "if (outputEl) {{\n",
       "    x.observe(outputEl, {childList: true});\n",
       "}}\n",
       "\n",
       "                        })                };                });            </script>        </div>"
      ]
     },
     "metadata": {},
     "output_type": "display_data"
    }
   ],
   "source": [
    "fig = go.Figure()\n",
    "fig.add_trace(go.Bar(\n",
    "    x=sample_names,\n",
    "    y=k40_act,\n",
    "    error_y=dict(type='data', array=k40_unc, color=\"#8f0a00\"),\n",
    "    name=isotope_names[3],\n",
    "    marker_color=\"#db0000\"\n",
    "))\n",
    "fig.add_trace(go.Bar(\n",
    "    x=sample_names,\n",
    "    y=bi214_act,\n",
    "    error_y=dict(type='data', array=bi214_unc, color=\"#c26400\"),\n",
    "    name=isotope_names[1],\n",
    "    marker_color=\"#f27d00\"\n",
    "))\n",
    "fig.add_trace(go.Bar(\n",
    "    x=sample_names,\n",
    "    y=tl208_act,\n",
    "    error_y=dict(type='data', array=tl208_unc, color=\"#9A8300\"),\n",
    "    name=isotope_names[4],\n",
    "    marker_color=\"#F0CC00\"\n",
    "))\n",
    "fig.add_trace(go.Bar(\n",
    "    x=sample_names,\n",
    "    y=cs137_act,\n",
    "    error_y=dict(type='data', array=cs137_unc, color=\"#009c17\"),\n",
    "    name=isotope_names[2],\n",
    "    marker_color=\"#14D500\"\n",
    "))\n",
    "fig.add_trace(go.Bar(\n",
    "    x=sample_names,\n",
    "    y=cs134_act,\n",
    "    error_y=dict(type='data', array=cs134_unc, color=\"#0059a6\"),\n",
    "    name=isotope_names[0],\n",
    "    marker_color=\"#0083f5\"\n",
    "))\n",
    "fig.update_layout(barmode='group',\n",
    "                title={\n",
    "                    'text': \"2019 Fish Samples\",\n",
    "                    'x':0.475,\n",
    "                    'xanchor': 'center'},\n",
    "                xaxis_title=\"Fish Species\",\n",
    "                yaxis_title=\"Specific Activity (Bq/kg)\",\n",
    "                paper_bgcolor=\"#ffffff\",\n",
    "                plot_bgcolor=\"#ffffff\"\n",
    ")\n",
    "#fig.add_annotation(\n",
    "  #showarrow=True,\n",
    "  #arrowhead=3,\n",
    "  #arrowsize=1,\n",
    "  #arrowwidth=1,\n",
    "  #arrowcolor='black'\n",
    "#)\n",
    "#fig.update_xaxes(showgrid=True, gridwidth=1, gridcolor='LightPink')\n",
    "tickvalues = [0.0001, 0.001, 0.01, 0.1, 1, 10, 100]\n",
    "fig.update_yaxes(type=\"log\", range=[-4, 3], gridcolor='#000000', linecolor='#000000', tickvals=tickvalues)\n",
    "fig.update_xaxes(linecolor='#000000')\n",
    "fig.show()"
   ]
  },
  {
   "cell_type": "code",
   "execution_count": null,
   "metadata": {},
   "outputs": [],
   "source": []
  }
 ],
 "metadata": {
  "kernelspec": {
   "display_name": "Python 3",
   "language": "python",
   "name": "python3"
  },
  "language_info": {
   "codemirror_mode": {
    "name": "ipython",
    "version": 3
   },
   "file_extension": ".py",
   "mimetype": "text/x-python",
   "name": "python",
   "nbconvert_exporter": "python",
   "pygments_lexer": "ipython3",
   "version": "3.7.7"
  }
 },
 "nbformat": 4,
 "nbformat_minor": 4
}

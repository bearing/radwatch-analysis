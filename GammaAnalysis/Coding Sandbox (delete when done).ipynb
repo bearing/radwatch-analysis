{
 "cells": [
  {
   "cell_type": "code",
   "execution_count": 1,
   "metadata": {},
   "outputs": [
    {
     "name": "stderr",
     "output_type": "stream",
     "text": [
      "C:\\Users\\benhu\\Anaconda3\\envs\\py365\\lib\\site-packages\\numba-0.52.0-py3.7-win-amd64.egg\\numba\\core\\types\\__init__.py:108: DeprecationWarning: `np.long` is a deprecated alias for `np.compat.long`. Use `np.compat.long` by itself, which is identical in behavior, to silence this warning. In the likely event your code does not need to work on Python 2 you can use the builtin ``int`` for which ``np.compat.long`` is itself an alias. If you specifically wanted the numpy scalar type, use `np.int_` here.\n",
      "  long_ = _make_signed(np.long)\n",
      "C:\\Users\\benhu\\Anaconda3\\envs\\py365\\lib\\site-packages\\numba-0.52.0-py3.7-win-amd64.egg\\numba\\core\\types\\__init__.py:109: DeprecationWarning: `np.long` is a deprecated alias for `np.compat.long`. Use `np.compat.long` by itself, which is identical in behavior, to silence this warning. In the likely event your code does not need to work on Python 2 you can use the builtin ``int`` for which ``np.compat.long`` is itself an alias. If you specifically wanted the numpy scalar type, use `np.int_` here.\n",
      "  ulong = _make_unsigned(np.long)\n",
      "C:\\Users\\benhu\\Anaconda3\\envs\\py365\\lib\\site-packages\\numba-0.52.0-py3.7-win-amd64.egg\\numba\\np\\arrayobj.py:3843: DeprecationWarning: `np.int` is a deprecated alias for the builtin `int`. Use `int` by itself, which is identical in behavior, to silence this warning. If you specifically wanted the numpy scalar type, use `np.int_` here.\n",
      "  NPY_TY = getattr(types, \"int%s\" % (8 * np.dtype(np.int).itemsize))\n",
      "C:\\Users\\benhu\\Anaconda3\\envs\\py365\\lib\\site-packages\\lmfit-1.0.1-py3.7.egg\\lmfit\\minimizer.py:24: DeprecationWarning: The module numpy.dual is deprecated.  Instead of using dual, use the functions directly from numpy or scipy.\n",
      "  from numpy.dual import inv\n",
      "C:\\Users\\benhu\\Anaconda3\\envs\\py365\\lib\\site-packages\\lmfit-1.0.1-py3.7.egg\\lmfit\\models.py:16: DeprecationWarning: `np.float` is a deprecated alias for the builtin `float`. Use `float` by itself, which is identical in behavior, to silence this warning. If you specifically wanted the numpy scalar type, use `np.float_` here.\n",
      "  tiny = np.finfo(np.float).eps\n"
     ]
    },
    {
     "data": {
      "text/plain": [
       "<module 'analysis_methods' from 'C:\\\\Users\\\\benhu\\\\Desktop\\\\Research\\\\radwatch-analysis\\\\analysis_methods.py'>"
      ]
     },
     "execution_count": 1,
     "metadata": {},
     "output_type": "execute_result"
    }
   ],
   "source": [
    "import becquerel as bq\n",
    "from becquerel import Spectrum\n",
    "from becquerel.tools import Isotope, IsotopeQuantity, NeutronIrradiation\n",
    "import datetime\n",
    "import numpy as np\n",
    "import scipy.integrate as integrate\n",
    "import math as m\n",
    "import importlib\n",
    "import pandas as pd\n",
    "import sys\n",
    "import os\n",
    "import csv\n",
    "import matplotlib.pyplot as plt\n",
    "import time\n",
    "sys.path.insert(0,r\"C:\\Users\\benhu\\Desktop\\Research\\radwatch-analysis\")\n",
    "\n",
    "import analysis_methods as am\n",
    "importlib.reload(am)"
   ]
  },
  {
   "cell_type": "code",
   "execution_count": 2,
   "metadata": {},
   "outputs": [
    {
     "name": "stderr",
     "output_type": "stream",
     "text": [
      "C:\\Users\\benhu\\AppData\\Roaming\\Python\\Python37\\site-packages\\ipykernel\\ipkernel.py:283: DeprecationWarning: `should_run_async` will not call `transform_cell` automatically in the future. Please pass the result to `transformed_cell` argument and any exception that happen during thetransform in `preprocessing_exc_tuple` in IPython 7.17 and above.\n",
      "  and should_run_async(code)\n",
      "c:\\users\\benhu\\desktop\\research\\becquerel\\becquerel\\parsers\\spectrum_file.py:57: DeprecationWarning: `np.float` is a deprecated alias for the builtin `float`. Use `float` by itself, which is identical in behavior, to silence this warning. If you specifically wanted the numpy scalar type, use `np.float_` here.\n",
      "  self.channels = np.array([], dtype=np.float)\n",
      "c:\\users\\benhu\\desktop\\research\\becquerel\\becquerel\\parsers\\spectrum_file.py:58: DeprecationWarning: `np.float` is a deprecated alias for the builtin `float`. Use `float` by itself, which is identical in behavior, to silence this warning. If you specifically wanted the numpy scalar type, use `np.float_` here.\n",
      "  self.data = np.array([], dtype=np.float)\n",
      "c:\\users\\benhu\\desktop\\research\\becquerel\\becquerel\\parsers\\spectrum_file.py:61: DeprecationWarning: `np.float` is a deprecated alias for the builtin `float`. Use `float` by itself, which is identical in behavior, to silence this warning. If you specifically wanted the numpy scalar type, use `np.float_` here.\n",
      "  self.energies = np.array([], dtype=np.float)\n",
      "c:\\users\\benhu\\desktop\\research\\becquerel\\becquerel\\parsers\\spe_file.py:65: DeprecationWarning: `np.float` is a deprecated alias for the builtin `float`. Use `float` by itself, which is identical in behavior, to silence this warning. If you specifically wanted the numpy scalar type, use `np.float_` here.\n",
      "  self.channels = np.array([], dtype=np.float)\n",
      "c:\\users\\benhu\\desktop\\research\\becquerel\\becquerel\\parsers\\spe_file.py:66: DeprecationWarning: `np.float` is a deprecated alias for the builtin `float`. Use `float` by itself, which is identical in behavior, to silence this warning. If you specifically wanted the numpy scalar type, use `np.float_` here.\n",
      "  self.data = np.array([], dtype=np.float)\n"
     ]
    },
    {
     "name": "stdout",
     "output_type": "stream",
     "text": [
      "SpeFile: Reading file C:\\Users\\benhu\\Desktop\\Research\\DataFiles\\UCB087_Wild_King_Salmon_2.Spe\n",
      "SpeFile: Reading file C:\\Users\\benhu\\Desktop\\Research\\DataFiles\\UCB096_Backgorund_2_13_17.Spe\n"
     ]
    }
   ],
   "source": [
    "source_energies = np.array([609, 1460, 2614]);\n",
    "energies_list = np.array(['609 Peak','1460 Peak','2614 Peak']);\n",
    "spectrum = r'C:\\Users\\benhu\\Desktop\\Research\\DataFiles\\UCB087_Wild_King_Salmon_2.Spe'\n",
    "background = r'C:\\Users\\benhu\\Desktop\\Research\\DataFiles\\UCB096_Backgorund_2_13_17.Spe'\n",
    "spec = Spectrum.from_file(spectrum)\n",
    "bgspec = Spectrum.from_file(background)\n",
    "counts = spec.counts_vals\n",
    "energies = spec.bin_centers_kev"
   ]
  },
  {
   "cell_type": "code",
   "execution_count": 60,
   "metadata": {},
   "outputs": [
    {
     "name": "stderr",
     "output_type": "stream",
     "text": [
      "C:\\Users\\benhu\\AppData\\Roaming\\Python\\Python37\\site-packages\\ipykernel\\ipkernel.py:283: DeprecationWarning: `should_run_async` will not call `transform_cell` automatically in the future. Please pass the result to `transformed_cell` argument and any exception that happen during thetransform in `preprocessing_exc_tuple` in IPython 7.17 and above.\n",
      "  and should_run_async(code)\n"
     ]
    }
   ],
   "source": [
    "def f_near(a,a0):\n",
    "    idx = np.abs(a-a0).argmin()\n",
    "    return idx\n",
    "\n",
    "def plot_peak_region(roi, spectrum, source_energies, key):\n",
    "    roi.find_peak_energies()\n",
    "    target_peaks = roi.target_peaks\n",
    "    spec = spectrum\n",
    "    counts = spec.counts_vals\n",
    "    energies = spec.bin_centers_kev\n",
    "    idx = f_near(energies,key) \n",
    "    roi_low = idx - 50\n",
    "    roi_high = idx + 50\n",
    "\n",
    "    plot_counts = counts[roi_low:roi_high]\n",
    "    plot_energies = energies[roi_low:roi_high]\n",
    "        \n",
    "    roi_low_bins,roi_peak_bins,roi_high_bins = roi.get_roi_windows(roi.roi_pars[\"%s\" %key])\n",
    "    rlow = roi_low_bins[0][0]\n",
    "    rhi = roi_high_bins[0][-1]\n",
    "    plot_counts = counts[rlow:rhi]\n",
    "    plot_energies = energies[rlow:rhi]\n",
    "\n",
    "    rlow = roi_low_bins[0][0]\n",
    "    rhi = roi_low_bins[0][-1]\n",
    "    low_counts = counts[rlow:rhi]\n",
    "    low_energies = energies[rlow:rhi]\n",
    "\n",
    "    rlow = roi_high_bins[0][0]\n",
    "    rhi = roi_high_bins[0][-1]\n",
    "    high_counts = counts[rlow:rhi]\n",
    "    high_energies = energies[rlow:rhi]\n",
    "\n",
    "    rlow = roi_peak_bins[0][0]\n",
    "    rhi = roi_peak_bins[0][-1]\n",
    "    peak_counts = counts[rlow:rhi]\n",
    "    peak_energies = energies[rlow:rhi]\n",
    "\n",
    "    fig,ax = plt.subplots()\n",
    "    ax.plot(plot_energies,plot_counts)\n",
    "    ax.fill_between(low_energies,0,low_counts,facecolor = 'green',interpolate=True)\n",
    "    ax.fill_between(high_energies,0,high_counts,facecolor = 'red',interpolate=True)\n",
    "    ax.fill_between(peak_energies,0,peak_counts,facecolor = 'blue',interpolate=True)\n",
    "    ax.set_yscale('log')\n",
    "    plt.title(\"%s Peak\" %key)"
   ]
  },
  {
   "cell_type": "code",
   "execution_count": 29,
   "metadata": {},
   "outputs": [],
   "source": [
    "class ROI(object):\n",
    "    def __init__ (self, spec, bg, e_peaks, sub_type):\n",
    "        self.spec = spec\n",
    "        self.bg = bg\n",
    "        self.sub_type = sub_type\n",
    "        if sub_type == 0:\n",
    "            self.bgsub = self.spec\n",
    "        else:\n",
    "            self.bgsub = self.spec - self.bg\n",
    "        self.target_peaks = e_peaks\n",
    "        \n",
    "        self.roi_pars = {}\n",
    "        for i in range(len(self.target_peaks)):\n",
    "            self.roi_pars[\"%s\" %self.target_peaks[i]] = [self.target_peaks[i], 5, [[-2, -1], [-0.5, 0.5], [1, 2]]]\n",
    "            \n",
    "    def set_sideband(self, peak_energy, delta_e, window):\n",
    "        assert type(peak_energy) == int or type(peak_energy) == float, \"First argument should be the value of the target peak that you want to set sidebands for.\"\n",
    "        assert type(delta_e) == int or type(delta_e) == float, \"Second argument should be a number designating delta_E.\"\n",
    "        assert len(window) == 3 and len(window[0]) == 2 and len(window[1]) == 2 and len(window[2]) == 2, \"Third argument should be a list of lists designating the window in the format of: [[#, #], [#, #], [#, #]]\"\n",
    "        \n",
    "        self.roi_pars[\"%s\" %peak_energy][1] = delta_e\n",
    "        self.roi_pars[\"%s\" %peak_energy][2] = window\n",
    "            \n",
    "    def find_peak_energies(self):\n",
    "        for peak_energy in self.roi_pars:\n",
    "            idx = (self.spec.bin_centers_kev > self.roi_pars[peak_energy][0]+self.roi_pars[\"%s\" %peak_energy][2][1][0]*self.roi_pars[\"%s\" %peak_energy][1])*(self.spec.bin_centers_kev < self.roi_pars[peak_energy][0]+self.roi_pars[\"%s\" %peak_energy][2][1][1]*self.roi_pars[\"%s\" %peak_energy][1])\n",
    "            bins = np.where(idx)\n",
    "            local_idx = np.argmax(self.spec.counts[bins])\n",
    "            index = bins[0][0] + local_idx\n",
    "            self.roi_pars[\"%s\" %peak_energy][0] = round(self.spec.bin_centers_kev[index])\n",
    "\n",
    "    def get_roi_windows(self, key):\n",
    "        index = []\n",
    "        for i in range(3):\n",
    "            index.append(np.where((self.bgsub.bin_centers_kev > key[0]+key[2][i][0]*key[1])*(self.bgsub.energies_kev < key[0]+key[2][i][1]*key[1])))\n",
    "        return index\n",
    "    \n",
    "    def get_counts(self):\n",
    "        net_counts = []\n",
    "        uncertainties = []\n",
    "        for key in self.roi_pars:\n",
    "            bins = self.get_roi_windows(self.roi_pars[key])\n",
    "            if self.sub_type == 1:\n",
    "                counts = []\n",
    "                for i in range(len(bins)):\n",
    "                    counts.append(np.sum(self.bgsub.cps_vals[bins[i][0][0]:bins[i][0][-1]]) * self.spec.livetime)\n",
    "                bg = (counts[0] + counts[2])/2\n",
    "                net_counts.append(counts[1] - bg)\n",
    "                print(\"Peak counts at\", self.roi_pars[key][0], \"keV:\", counts[1])\n",
    "                print(\"Background counts:\", self.roi_pars[key][0], \"keV:\", bg)\n",
    "\n",
    "            else:\n",
    "                bgcounts = []\n",
    "                for i in range(len(bins)):\n",
    "                    counts.append(np.sum(self.bg.cps_vals[bins[i][0][0]:bins[i][0][-1]]) * self.spec.livetime)\n",
    "                backgroundbg = (bgcounts[0] + bgcounts[2]) / 2\n",
    "                inet_countsbg = bgcounts[1] - backgroundbg\n",
    "                print('background spec sidebands', backgroundbg)\n",
    "                print('bg peak counts',bgcounts[1])\n",
    "\n",
    "                speccounts = []\n",
    "                for i in range(len(bins)):\n",
    "                    counts.append(np.sum(self.spec.cps_vals[bins[i][0][0]:bins[i][0][-1]]) * self.spec.livetime)\n",
    "                backgroundspec = (speccounts[0] + speccounts[2]) / 2\n",
    "                inet_counts = (speccounts[1] - backgroundspec) - inet_countsbg\n",
    "                net_counts.append(inet_counts)\n",
    "                print(\"signal bg\", backgroundspec)\n",
    "                print(\"signal peak\", speccounts[1])\n",
    "\n",
    "            unccounts = [[], []]\n",
    "            #[[tot_speclow, counts_target_gross, tot_spechigh], [tot_bglow, counts_bg_gross, tot_bghigh]]\n",
    "            for i in range(len(bins)):\n",
    "                unccounts[0].append(np.sum(self.spec.cps_vals[bins[i][0][0]:bins[i][0][-1]]) * self.spec.livetime)\n",
    "                unccounts[1].append(np.sum(self.bg.cps_vals[bins[i][0][0]:bins[i][0][-1]]) * self.spec.livetime)\n",
    "            s_target_gross = (unccounts[0][1]) ** 0.5\n",
    "            s_ROI_spec = ((unccounts[0][2] + unccounts[0][0]) ** 0.5) / 2\n",
    "            s_bg_gross = (unccounts[1][1]) ** 0.5\n",
    "            s_ROI_bg = ((unccounts[1][2] + unccounts[1][0]) ** 0.5) / 2\n",
    "            s = (s_target_gross**2 + s_ROI_spec**2 + s_bg_gross**2 + s_ROI_bg**2) ** 0.5\n",
    "            uncertainties.append(s)\n",
    "        \n",
    "        return net_counts,uncertainties"
   ]
  },
  {
   "cell_type": "code",
   "execution_count": 5,
   "metadata": {},
   "outputs": [],
   "source": [
    "#roi0 = ROI(spec, bgspec, [source_energies.item(0)], 1)\n",
    "#roi0.find_peak_energies('')\n",
    "#roi0_counts, roi0_unc = roi0.get_counts()\n",
    "\n",
    "#index0 = f_near(energies, source_energies[0])\n",
    "#plt.plot(energies[index0-50:index0+50], counts[index0-50:index0+50])\n",
    "#plt.yscale('log')\n",
    "\n",
    "#delta_e0 = 5\n",
    "#window0 = np.array([[-2, -1], [-0.15, 0.45], [1, 2]])\n",
    "#roi0.set_sideband(delta_e0,window0)\n",
    "\n",
    "#plot_peak_region(roi0, spec, source_energies, energies_list.item(0))"
   ]
  },
  {
   "cell_type": "code",
   "execution_count": 30,
   "metadata": {},
   "outputs": [
    {
     "name": "stdout",
     "output_type": "stream",
     "text": [
      "Peak counts at 609 keV: 326.0\n",
      "Background counts: 609 keV: 295.0\n",
      "Peak counts at 1461 keV: 26094.999999999993\n",
      "Background counts: 1461 keV: 60.5\n",
      "Peak counts at 2615 keV: -23.999999999999996\n",
      "Background counts: 2615 keV: 2.5\n"
     ]
    }
   ],
   "source": [
    "roi = ROI(spec, bgspec, source_energies, 1)\n",
    "roi.find_peak_energies()\n",
    "roi_counts, roi_unc = roi.get_counts()\n",
    "executionTime = (time.time() - startTime)"
   ]
  },
  {
   "cell_type": "code",
   "execution_count": 82,
   "metadata": {},
   "outputs": [
    {
     "name": "stderr",
     "output_type": "stream",
     "text": [
      "C:\\Users\\benhu\\AppData\\Roaming\\Python\\Python37\\site-packages\\ipykernel\\ipkernel.py:283: DeprecationWarning: `should_run_async` will not call `transform_cell` automatically in the future. Please pass the result to `transformed_cell` argument and any exception that happen during thetransform in `preprocessing_exc_tuple` in IPython 7.17 and above.\n",
      "  and should_run_async(code)\n",
      "c:\\users\\benhu\\desktop\\research\\becquerel\\becquerel\\core\\spectrum.py:440: DeprecationWarning: energies_kev is deprecated and will be removed in a future release. Use bin_centers_kev instead.\n",
      "  DeprecationWarning)\n",
      "c:\\users\\benhu\\desktop\\research\\becquerel\\becquerel\\core\\spectrum.py:440: DeprecationWarning: energies_kev is deprecated and will be removed in a future release. Use bin_centers_kev instead.\n",
      "  DeprecationWarning)\n",
      "c:\\users\\benhu\\desktop\\research\\becquerel\\becquerel\\core\\spectrum.py:440: DeprecationWarning: energies_kev is deprecated and will be removed in a future release. Use bin_centers_kev instead.\n",
      "  DeprecationWarning)\n"
     ]
    },
    {
     "data": {
      "image/png": "[encoded data removed]",
      "text/plain": [
       "<Figure size 432x288 with 1 Axes>"
      ]
     },
     "metadata": {
      "needs_background": "light"
     },
     "output_type": "display_data"
    },
    {
     "data": {
      "image/png": "[encoded data removed]",
      "text/plain": [
       "<Figure size 432x288 with 1 Axes>"
      ]
     },
     "metadata": {
      "needs_background": "light"
     },
     "output_type": "display_data"
    },
    {
     "data": {
      "image/png": "[encoded data removed]",
      "text/plain": [
       "<Figure size 432x288 with 1 Axes>"
      ]
     },
     "metadata": {
      "needs_background": "light"
     },
     "output_type": "display_data"
    }
   ],
   "source": [
    "roi.set_sideband(609, 5, [[-2, -0.925], [-0.15, 0.45], [1.1, 2]])\n",
    "roi.set_sideband(1460, 5, [[-2, -1], [-0.5, 0.725], [1, 2]])\n",
    "roi.set_sideband(2614, 5, [[-2, -1], [-0.575, 0.675], [1, 2]])\n",
    "\n",
    "plot_peak_region(roi, spec, source_energies, 609)\n",
    "plot_peak_region(roi, spec, source_energies, 1460)\n",
    "plot_peak_region(roi, spec, source_energies, 2614)"
   ]
  },
  {
   "cell_type": "code",
   "execution_count": 11,
   "metadata": {},
   "outputs": [
    {
     "data": {
      "text/plain": [
       "'609 Peak'"
      ]
     },
     "execution_count": 11,
     "metadata": {},
     "output_type": "execute_result"
    }
   ],
   "source": []
  },
  {
   "cell_type": "code",
   "execution_count": 89,
   "metadata": {},
   "outputs": [
    {
     "name": "stdout",
     "output_type": "stream",
     "text": [
      "Peak counts at 609 keV: 379.0\n",
      "Background counts: 609 keV: 157.0\n",
      "Peak counts at 1461 keV: 26161.0\n",
      "Background counts: 1461 keV: 29.500000000000007\n",
      "Peak counts at 2615 keV: -23.999999999999996\n",
      "Background counts: 2615 keV: 2.5\n",
      "[222.0, 26131.5, -26.499999999999996]\n",
      "[48.703182647543684, 167.1204655330998, 30.079062485390065]\n",
      "Execution time:3.6251494884490967 s\n"
     ]
    }
   ],
   "source": [
    "startTime = time.time()\n",
    "roi = ROI(spec, bgspec, source_energies, 1)\n",
    "roi.find_peak_energies()\n",
    "roi.set_sideband(609, 3, [[-3, -2], [-1, 1], [2, 3]])\n",
    "roi.set_sideband(1460, 3, [[-3, -2], [-1, 1], [2, 3]])\n",
    "roi_counts, roi_unc = roi.get_counts()\n",
    "executionTime = (time.time() - startTime)\n",
    "print(roi_counts)\n",
    "print(roi_unc)\n",
    "print('Execution time:' + str(executionTime), 's')"
   ]
  },
  {
   "cell_type": "code",
   "execution_count": 48,
   "metadata": {},
   "outputs": [
    {
     "data": {
      "text/plain": [
       "{'609': [609, 3, [[-3, -2], [-1, 1], [2, 3]]],\n",
       " '1460': [1461, 3, [[-3, -2], [-1, 1], [2, 3]]],\n",
       " '2614': [2615, 5, [[-2, -1], [-0.5, 0.5], [1, 2]]]}"
      ]
     },
     "execution_count": 48,
     "metadata": {},
     "output_type": "execute_result"
    }
   ],
   "source": [
    "roi.set_sideband(609, 3, [[-3, -2], [-1, 1], [2, 3]])\n",
    "roi.set_sideband(1460, 3, [[-3, -2], [-1, 1], [2, 3]])\n",
    "roi.roi_pars"
   ]
  },
  {
   "cell_type": "code",
   "execution_count": null,
   "metadata": {},
   "outputs": [],
   "source": [
    "roi.bgsub.cps_vals"
   ]
  },
  {
   "cell_type": "code",
   "execution_count": null,
   "metadata": {},
   "outputs": [],
   "source": [
    "class listing:\n",
    "    def __init__(self, lst):\n",
    "        self.values = {}\n",
    "        for i in range(len(lst)):\n",
    "            self.values[\"%s\" %lst[i]] = []\n",
    "\n",
    "           \n",
    "first = listing([1, 4, 3])"
   ]
  },
  {
   "cell_type": "code",
   "execution_count": null,
   "metadata": {},
   "outputs": [],
   "source": [
    "print(first.values)\n",
    "print(first.values['1'])"
   ]
  },
  {
   "cell_type": "code",
   "execution_count": null,
   "metadata": {},
   "outputs": [],
   "source": [
    "npa = np.array([1, 2, 3]);\n",
    "npa.tolist()"
   ]
  },
  {
   "cell_type": "code",
   "execution_count": null,
   "metadata": {},
   "outputs": [],
   "source": [
    "[\"%s\" %1]"
   ]
  },
  {
   "cell_type": "code",
   "execution_count": null,
   "metadata": {},
   "outputs": [],
   "source": [
    "a_dict = {'color': [0, 1], 'fruit': [1, 2], 'pet': [3, 5]}\n",
    "\n",
    "for i in a_dict:\n",
    "    print(a_dict[i])"
   ]
  },
  {
   "cell_type": "code",
   "execution_count": 13,
   "metadata": {},
   "outputs": [
    {
     "name": "stdout",
     "output_type": "stream",
     "text": [
      "<__main__.ROI object at 0x00000150743424C8>\n"
     ]
    }
   ],
   "source": [
    "print(roi)"
   ]
  },
  {
   "cell_type": "code",
   "execution_count": 90,
   "metadata": {},
   "outputs": [
    {
     "data": {
      "text/plain": [
       "[[1]]"
      ]
     },
     "execution_count": 90,
     "metadata": {},
     "output_type": "execute_result"
    }
   ],
   "source": [
    "class ROI(object):\n",
    "\tdef __init__ (self, spec, bg, e_peaks,sub_type):\n",
    "\t\tself.spec = spec\n",
    "\t\tself.bg = bg\n",
    "\t\tself.sub_type = sub_type\n",
    "\t\tif sub_type == 0:\n",
    "\t\t\tself.bgsub = self.spec\n",
    "\t\telse:\n",
    "\t\t\tself.bgsub = self.spec - self.bg\n",
    "\t\tself.target_peaks = e_peaks\n",
    "\t\tself.delta_E = 5\n",
    "\t\tself.window = np.array([[-2, -1], [-0.5, 0.5], [1, 2]])\n",
    "\n",
    "\tdef set_sideband (self, delta_e, window):\n",
    "\t\tif (np.array(window).ndim != 2 or len(window) != 3):\n",
    "\t\t\tprint (\"Wrong input dimension.\")\n",
    "\t\t\treturn\n",
    "\n",
    "\t\tself.delta_E = delta_e\n",
    "\t\tself.window = np.array(window)\n",
    "\n",
    "\tdef find_peak_energies (self):\n",
    "\t\tfor i, target_peak in enumerate(self.target_peaks):\n",
    "\t\t\tidx = (self.spec.bin_centers_kev > target_peak+self.window[1,0]*self.delta_E)*(self.spec.bin_centers_kev < target_peak+self.window[1,1]*self.delta_E)\n",
    "\t\t\tbins = np.where(idx)\n",
    "\t\t\tlocal_idx = np.argmax(self.spec.counts[bins])\n",
    "\t\t\tindex = bins[0][0] + local_idx\n",
    "\t\t\tself.target_peaks[i] = round(self.spec.bin_centers_kev[index])\n",
    "\n",
    "\tdef get_roi_windows(self, target_peak):\n",
    "\t\tidx = (self.bgsub.bin_centers_kev > target_peak+self.window[0,0]*self.delta_E)*(self.bgsub.energies_kev < target_peak+self.window[0,1]*self.delta_E)\n",
    "\t\tprev_bins = np.where(idx)\n",
    "\t\tidx = (self.bgsub.bin_centers_kev > target_peak+self.window[1,0]*self.delta_E)*(self.bgsub.energies_kev < target_peak+self.window[1,1]*self.delta_E)\n",
    "\t\tcurr_bins = np.where(idx)\n",
    "\t\tidx = (self.bgsub.bin_centers_kev > target_peak+self.window[2,0]*self.delta_E)*(self.bgsub.energies_kev < target_peak+self.window[2,1]*self.delta_E)\n",
    "\t\tpost_bins = np.where(idx)\n",
    "\t\treturn \tprev_bins,curr_bins,post_bins\n",
    "\n",
    "\tdef get_counts (self):\n",
    "\t\tnet_counts = []\n",
    "\t\tuncertainties = []\n",
    "\t\tif self.sub_type == 1:\n",
    "\t\t\tfor target_peak in self.target_peaks:\n",
    "\t\t\t\tprev_bins, curr_bins, post_bins = self.get_roi_windows(target_peak)\n",
    "\t\t\t\tcounts_1 = np.sum(self.bgsub.cps_vals[prev_bins[0][0]:prev_bins[0][-1]]) * self.spec.livetime\n",
    "\t\t\t\tcounts_2 = np.sum(self.bgsub.cps_vals[post_bins[0][0]:post_bins[0][-1]]) * self.spec.livetime\n",
    "\t\t\t\tcounts_target = np.sum(self.bgsub.cps_vals[curr_bins[0][0]:curr_bins[0][-1]]) * self.spec.livetime\n",
    "\t\t\t\tbackground = (counts_1 + counts_2)/2\n",
    "\t\t\t\tinet_counts = counts_target - background\n",
    "\t\t\t\tnet_counts.append(inet_counts)\n",
    "\t\t\t\tprint(\"peak counts\",counts_target)\n",
    "\t\t\t\tprint(\"bg counts\",background)\n",
    "\n",
    "\t\telse:\n",
    "\t\t\tfor target_peak in self.target_peaks:\n",
    "\t\t\t\tprev_bins, curr_bins, post_bins = self.get_roi_windows(target_peak)\n",
    "\t\t\t\tcounts_1bg = np.sum(self.bg.cps_vals[prev_bins[0][0]:prev_bins[0][-1]]) * self.spec.livetime\n",
    "\t\t\t\tcounts_2bg = np.sum(self.bg.cps_vals[post_bins[0][0]:post_bins[0][-1]]) * self.spec.livetime\n",
    "\t\t\t\tcounts_targetbg = np.sum(self.bg.cps_vals[curr_bins[0][0]:curr_bins[0][-1]]) * self.spec.livetime\n",
    "\t\t\t\tbackgroundbg = (counts_1bg + counts_2bg)/2\n",
    "\t\t\t\tinet_countsbg = counts_targetbg - backgroundbg\n",
    "\t\t\t\tprint('background spec sidebands', backgroundbg)\n",
    "\t\t\t\tprint('bg peak counts',counts_targetbg)\n",
    "\n",
    "\t\t\t\tcounts_1spec = np.sum(self.spec.cps_vals[prev_bins[0][0]:prev_bins[0][-1]]) * self.spec.livetime\n",
    "\t\t\t\tcounts_2spec = np.sum(self.spec.cps_vals[post_bins[0][0]:post_bins[0][-1]]) * self.spec.livetime\n",
    "\t\t\t\tcounts_targetspec = np.sum(self.spec.cps_vals[curr_bins[0][0]:curr_bins[0][-1]]) * self.spec.livetime\n",
    "\t\t\t\tbackgroundspec = (counts_1spec + counts_2spec)/2\n",
    "\t\t\t\tinet_countsspec = counts_targetspec - backgroundspec\n",
    "\t\t\t\tinet_counts = inet_countsspec - inet_countsbg\n",
    "\t\t\t\tnet_counts.append(inet_counts)\n",
    "\t\t\t\tprint(\"signal bg\", backgroundspec)\n",
    "\t\t\t\tprint(\"signal peak\", counts_targetspec)\n",
    "\n",
    "\t\tfor target_peak in self.target_peaks:\n",
    "\t\t\tprev_bins, curr_bins, post_bins = self.get_roi_windows(target_peak)\n",
    "\t\t\t#uncertainty\n",
    "\t\t\tcounts_target_gross = np.sum(self.spec.cps_vals[curr_bins[0][0]:curr_bins[0][-1]]) * self.spec.livetime\n",
    "\t\t\tcounts_target_gross = np.sum(self.spec.cps_vals[curr_bins[0][0]:curr_bins[0][-1]]) * self.spec.livetime\n",
    "\t\t\tcounts_target_gross = np.sum(self.spec.cps_vals[curr_bins[0][0]:curr_bins[0][-1]]) * self.spec.livetime\n",
    "\t\t\ttot_speclow = np.sum(self.spec.cps_vals[prev_bins[0][0]:prev_bins[0][-1]]) * self.spec.livetime\n",
    "\t\t\ttot_spechigh = np.sum(self.spec.cps_vals[post_bins[0][0]:post_bins[0][-1]]) * self.spec.livetime\n",
    "\t\t\tcounts_bg_gross = np.sum(self.bg.cps_vals[curr_bins[0][0]:curr_bins[0][-1]]) * self.spec.livetime\n",
    "\t\t\tcounts_bg_gross = np.sum(self.bg.cps_vals[curr_bins[0][0]:curr_bins[0][-1]]) * self.spec.livetime\n",
    "\t\t\tcounts_bg_gross = np.sum(self.bg.cps_vals[curr_bins[0][0]:curr_bins[0][-1]]) * self.spec.livetime\n",
    "\t\t\ttot_bglow = np.sum(self.bg.cps_vals[prev_bins[0][0]:prev_bins[0][-1]]) * self.spec.livetime\n",
    "\t\t\ttot_bglow = np.sum(self.bg.cps_vals[prev_bins[0][0]:prev_bins[0][-1]]) * self.spec.livetime\n",
    "\t\t\ttot_bglow = np.sum(self.bg.cps_vals[prev_bins[0][0]:prev_bins[0][-1]]) * self.spec.livetime\n",
    "\t\t\ttot_bghigh = np.sum(self.bg.cps_vals[post_bins[0][0]:post_bins[0][-1]]) * self.spec.livetime\n",
    "\t\t\ttot_bghigh = np.sum(self.bg.cps_vals[post_bins[0][0]:post_bins[0][-1]]) * self.spec.livetime\n",
    "\t\t\ttot_bghigh = np.sum(self.bg.cps_vals[post_bins[0][0]:post_bins[0][-1]]) * self.spec.livetime\n",
    "\t\t\ts_target_gross = m.sqrt(counts_target_gross)\n",
    "\t\t\ts_ROI_spec = m.sqrt(tot_spechigh + tot_speclow)/2\n",
    "\t\t\ts_bg_gross = m.sqrt(counts_bg_gross)\n",
    "\t\t\ts_ROI_bg = m.sqrt(tot_bghigh + tot_bglow)/2\n",
    "\t\t\ts = m.sqrt(s_target_gross**2 + s_ROI_spec**2 + s_bg_gross**2 + s_ROI_bg**2)\n",
    "\t\t\tuncertainties.append(s)\n",
    "\t\treturn net_counts,uncertainties"
   ]
  },
  {
   "cell_type": "markdown",
   "metadata": {},
   "source": [
    " "
   ]
  }
 ],
 "metadata": {
  "kernelspec": {
   "display_name": "py365",
   "language": "python",
   "name": "py365"
  },
  "language_info": {
   "codemirror_mode": {
    "name": "ipython",
    "version": 3
   },
   "file_extension": ".py",
   "mimetype": "text/x-python",
   "name": "python",
   "nbconvert_exporter": "python",
   "pygments_lexer": "ipython3",
   "version": "3.7.9"
  }
 },
 "nbformat": 4,
 "nbformat_minor": 4
}

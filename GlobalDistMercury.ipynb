{
 "cells": [
  {
   "cell_type": "code",
   "execution_count": 1,
   "metadata": {
    "collapsed": true
   },
   "outputs": [],
   "source": [
    "from mpl_toolkits.basemap import Basemap\n",
    "import numpy as np\n",
    "import numpy.ma as ma\n",
    "import matplotlib.pyplot as plt\n",
    "import pandas as pd\n",
    "import folium\n",
    "from folium import IFrame\n",
    "import base64\n",
    "import matplotlib.pyplot as plt"
   ]
  },
  {
   "cell_type": "code",
   "execution_count": 10,
   "metadata": {
    "collapsed": true
   },
   "outputs": [],
   "source": [
    "#Section that creates the map\n",
    "data3 = pd.DataFrame({\n",
    "   'lat':[111,140, -95, -135, 122, 123, 126,-9, 78,5,123,-175,-67,-112],\n",
    "   'lon':[12,36, 22, 53, 24, 23, 33,55, 10,57,30,60,5,24],\n",
    "   'name':['Vietnam', 'Japan', 'Mexico', 'Canada', 'Taiwan', \n",
    "           'Taiwan','Korea','Scotland','India','Norway','China','Arctic','Venezuela','Mexico'],\n",
    "   'value':[0.035,0.234,0.024,0.22,0.09,0.064,0.09,0.0085, 0.066,0.048,0.02,0.15,0.047,0.75]\n",
    "})\n",
    "data3\n",
    " \n",
    "# Make an empty map\n",
    "m3 = folium.Map(location=[20,0], tiles=\"Mapbox Bright\",zoom_start=2)\n",
    " \n",
    "# I can add marker one by one on the map\n",
    "for i in range(0,len(data3)):\n",
    "   folium.Circle(\n",
    "      location=[data3.iloc[i]['lon'], data3.iloc[i]['lat']],\n",
    "      popup=str(data3.iloc[i]['value'])+' ppm',\n",
    "      radius=data3.iloc[i]['value']*1000000.0,\n",
    "      color='salmon',\n",
    "      fill=True,\n",
    "      fill_color='salmon'\n",
    "   ).add_to(m3)\n"
   ]
  },
  {
   "cell_type": "code",
   "execution_count": 11,
   "metadata": {
    "collapsed": true
   },
   "outputs": [],
   "source": [
    "#Section that creates the first chart\n",
    "#Pink Grouper\n",
    "station = '42'\n",
    "resolution, width, height = 75, 9.5, 5\n",
    "\n",
    "elements = ['Sodium', 'Potassium', 'Cobalt', 'Selenium', 'Bromine',\n",
    "           'Cesium', 'Mercury']\n",
    "\n",
    "ppm = [176.69, 1473.66, 0.166, 1.51, 5.83, 0.09, 0.75]\n",
    "x = np.linspace(1,len(ppm),len(ppm))\n",
    "sys_unc = [80.61, 754.35, 0.084, 0.15, 1.92, 0.024, 0.093]\n",
    "stat_unc = [4.79, 98.09, 0.022, 0.10, 0.21, 0.013, 0.023]\n",
    "tot_unc = []\n",
    "for i in x:\n",
    "    val = (sys_unc[int(i)-1]**2+stat_unc[int(i)-1]**2)**0.5\n",
    "    tot_unc.append(val)\n",
    "\n",
    "mpl_fig = plt.figure(figsize=(9.25,3))\n",
    "ax = mpl_fig.add_subplot(111)\n",
    "w=0.25\n",
    "p1 = ax.bar(x, ppm, w, color='powderblue', label='Element')\n",
    "\n",
    "#reference values (based on averages)\n",
    "ppm2 = [860, 1000, 0.3, 0.58, 13, 0.01, 1.205]\n",
    "\n",
    "#regulatory limits for the elements\n",
    "limits = [0, 0, 8.48, 11.3, 0, 0, 1]\n",
    "\n",
    "#reference graph\n",
    "p2 = ax.bar(x+0.25, ppm2, w, color='lightsalmon', edgecolor='red', alpha=0.3, label='Reference')\n",
    "#error bars\n",
    "p3 = plt.errorbar(x, ppm, yerr=tot_unc, fmt='.', ecolor='steelblue', capthick=1, capsize=2)\n",
    "#limits graph\n",
    "p4 = ax.bar(x-0.25, limits, w, color='lightslategray', edgecolor='k', label='Limit')\n",
    "\n",
    "plt.xlabel('Element')\n",
    "plt.ylabel('Concentration in ppm')\n",
    "plt.title('Element ppm of Sample 16: Pink grouper steak from MEXICO')\n",
    "plt.legend()\n",
    "plt.xticks(x, elements)\n",
    "ax.set_yscale('log')\n",
    "\n",
    "png = 'mpld3_{}.png'.format(station)\n",
    "mpl_fig.savefig(png, dpi=resolution)\n",
    "\n",
    "encoded = base64.b64encode(open(png, 'rb').read()).decode()\n",
    "\n",
    "encoded2 = base64.b64encode(open('pinkGrouper.jpeg', 'rb').read()).decode()\n"
   ]
  },
  {
   "cell_type": "code",
   "execution_count": 13,
   "metadata": {
    "collapsed": true
   },
   "outputs": [],
   "source": [
    "#Section that creates the first pop up\n",
    "html=\"\"\"\n",
    "    <body style=\"border:3px; border-style:solid; border-color:navy; padding: 1em;\">\n",
    "    <h2>Pink Grouper </h2><br>\n",
    "     <img src=\"data:image/png;base64,{}\">\n",
    "    <p>\n",
    "        <b>Location:</b>Mexico </p>\n",
    "        <img src=\"data:image/jpeg;base64,{}\" style=\"width:400px;height:200px;\" alt=\"Mexico Concentrations\">\n",
    "        <p><b>Average size:</b> 5.67 kg</p>\n",
    "        <p><b>Concentration:</b> 0.75 ppm</p>\n",
    "        <p><b>Limit:</b> 1 ppm</p>\n",
    "     <p>   \n",
    "        Although the mercury concentrations appears high in this region, the reason for the high concentration\n",
    "        isn't due to geographical location but instead due to the species of fish. The other species located in the\n",
    "        region is the Cardinal snapper, which has a much lower detected concentrstion. The difference between the \n",
    "        two fish is the size; while the snapper is about the length of a forearm, the grouper is about the size of \n",
    "        a human torso. Since mercury is a bioaccumulate (accumulates as a fish goes up in the food chain), it is \n",
    "        common to find high levels of mercury in larger fish species.\n",
    "    </p>\n",
    "    </body>\n",
    "    \"\"\".format\n",
    "iframe = IFrame(html(encoded,encoded2), width=(width*resolution)+20, height=(height*resolution)+20)\n",
    "popup = folium.Popup(iframe, max_width=2650)\n",
    "\n",
    "folium.Marker([24,-112], popup=popup).add_to(m3)\n",
    "\n",
    "m3.save('MercuryMap.html')"
   ]
  },
  {
   "cell_type": "code",
   "execution_count": null,
   "metadata": {
    "collapsed": true
   },
   "outputs": [],
   "source": []
  }
 ],
 "metadata": {
  "kernelspec": {
   "display_name": "Python 3",
   "language": "python",
   "name": "python3"
  },
  "language_info": {
   "codemirror_mode": {
    "name": "ipython",
    "version": 3
   },
   "file_extension": ".py",
   "mimetype": "text/x-python",
   "name": "python",
   "nbconvert_exporter": "python",
   "pygments_lexer": "ipython3",
   "version": "3.4.5"
  }
 },
 "nbformat": 4,
 "nbformat_minor": 2
}

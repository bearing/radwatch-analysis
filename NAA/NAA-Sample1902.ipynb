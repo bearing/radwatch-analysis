{
 "cells": [
  {
   "cell_type": "code",
   "execution_count": 5,
   "metadata": {},
   "outputs": [],
   "source": [
    "import becquerel as bq\n",
    "from becquerel import Spectrum\n",
    "from becquerel.tools.isotope import Isotope\n",
    "from becquerel.tools.isotope_qty import IsotopeQuantity, NeutronIrradiation\n",
    "import datetime\n",
    "import numpy as np\n",
    "import scipy.integrate as integrate\n",
    "import math as m\n",
    "import importlib\n",
    "import pandas as pd\n",
    "import sys\n",
    "import os\n",
    "import csv\n",
    "import matplotlib.pyplot as plt\n",
    "import re\n",
    "sys.path.insert(0,r'C:\\Users\\ahanks\\DoseNet\\radwatch-analysis')"
   ]
  },
  {
   "cell_type": "code",
   "execution_count": 6,
   "metadata": {},
   "outputs": [
    {
     "ename": "ModuleNotFoundError",
     "evalue": "No module named 'PF'",
     "output_type": "error",
     "traceback": [
      "\u001b[1;31m---------------------------------------------------------------------------\u001b[0m",
      "\u001b[1;31mModuleNotFoundError\u001b[0m                       Traceback (most recent call last)",
      "\u001b[1;32m<ipython-input-6-d8dd5da53490>\u001b[0m in \u001b[0;36m<module>\u001b[1;34m\u001b[0m\n\u001b[1;32m----> 1\u001b[1;33m \u001b[1;32mimport\u001b[0m \u001b[0mPF\u001b[0m\u001b[1;33m\u001b[0m\u001b[1;33m\u001b[0m\u001b[0m\n\u001b[0m\u001b[0;32m      2\u001b[0m \u001b[1;32mimport\u001b[0m \u001b[0mnaa_isotope_analyzer\u001b[0m \u001b[1;32mas\u001b[0m \u001b[0mnaa\u001b[0m\u001b[1;33m\u001b[0m\u001b[1;33m\u001b[0m\u001b[0m\n\u001b[0;32m      3\u001b[0m \u001b[1;32mimport\u001b[0m \u001b[0manalysis_methods\u001b[0m \u001b[1;32mas\u001b[0m \u001b[0mam\u001b[0m\u001b[1;33m\u001b[0m\u001b[1;33m\u001b[0m\u001b[0m\n\u001b[0;32m      4\u001b[0m \u001b[1;32mimport\u001b[0m \u001b[0mROI\u001b[0m\u001b[1;33m\u001b[0m\u001b[1;33m\u001b[0m\u001b[0m\n\u001b[0;32m      5\u001b[0m \u001b[0mimportlib\u001b[0m\u001b[1;33m.\u001b[0m\u001b[0mreload\u001b[0m\u001b[1;33m(\u001b[0m\u001b[0mPF\u001b[0m\u001b[1;33m)\u001b[0m\u001b[1;33m\u001b[0m\u001b[1;33m\u001b[0m\u001b[0m\n",
      "\u001b[1;31mModuleNotFoundError\u001b[0m: No module named 'PF'"
     ]
    }
   ],
   "source": [
    "import PF\n",
    "import naa_isotope_analyzer as naa\n",
    "import analysis_methods as am\n",
    "import ROI\n",
    "importlib.reload(PF)\n",
    "importlib.reload(naa)\n",
    "importlib.reload(am)\n",
    "importlib.reload(ROI)"
   ]
  },
  {
   "cell_type": "code",
   "execution_count": null,
   "metadata": {},
   "outputs": [],
   "source": [
    "def get_isotopes(energies):\n",
    "    hl_cut = 600 #in becq.fetch decay radiation\n",
    "    br_cut =4.0\n",
    "    df = naa.naa_isotope_analyzer(energies,hl_cut,br_cut,deltae=5.0)\n",
    "    \n",
    "    return df"
   ]
  },
  {
   "cell_type": "code",
   "execution_count": null,
   "metadata": {},
   "outputs": [],
   "source": [
    "sample_masses = [1.0,1.1,1.0,1.1,1.0,1.0,1.1,1.0,0.9,1.0]\n",
    "sample_fish = [\"Petrale Sole 1\",\"Halibut\",\"Tilapia\",\"Rockfish\",\"Rock Cod\",\"Catfish\",\"Petrale Sole 2\",\n",
    "               \"Wild King Salmon\",\"Swordfish\",\"Oysters\"]\n",
    "sample_mass_unc = 0.1"
   ]
  },
  {
   "cell_type": "code",
   "execution_count": null,
   "metadata": {},
   "outputs": [],
   "source": [
    "sample_index = 1"
   ]
  },
  {
   "cell_type": "code",
   "execution_count": null,
   "metadata": {},
   "outputs": [],
   "source": [
    "#use the ecal and bgspec from google drive\n",
    "#implement choosing between relevant ecal and bg for diff sample groups\n",
    "path = r\"C:\\Users\\ahanks\\Google Drive\\RadWatch\\Gamma\\Gamma Spectra\\Fish Samples 2019\"\n",
    "e_cal = np.loadtxt(path + r\"\\NAA\\11-19-2019-Calibration.Ent\")\n",
    "bgspec =  Spectrum.from_file(path + r\"\\NAA\\Background_Spectrum_12_20_19.Spe\")"
   ]
  },
  {
   "cell_type": "code",
   "execution_count": null,
   "metadata": {
    "scrolled": true
   },
   "outputs": [],
   "source": [
    "#specs for testing\n",
    "sample_name = r\"\\NAA\\ucb19\"\n",
    "if sample_index < 9:\n",
    "    sample_name = sample_name + \"0\"\n",
    "sample_name = sample_name + str(sample_index+1)\n",
    "print(sample_name)\n",
    "spec_30 = Spectrum.from_file(path+sample_name + \"-30min.Spe\")\n",
    "spec_03 = Spectrum.from_file(path+sample_name + \"-3hr.Spe\")\n",
    "spec_24 = Spectrum.from_file(path+sample_name+\"-24hr.Spe\")"
   ]
  },
  {
   "cell_type": "code",
   "execution_count": null,
   "metadata": {},
   "outputs": [],
   "source": [
    "specs= [spec_30,spec_03,spec_24]\n",
    "cal_specs = []\n",
    "for i in range(len(specs)):\n",
    "    specs[i].calibrate_like(bgspec)\n",
    "    cal_specs.append(specs[i])"
   ]
  },
  {
   "cell_type": "code",
   "execution_count": null,
   "metadata": {
    "scrolled": true
   },
   "outputs": [],
   "source": [
    "energies = []\n",
    "for i in range(len(cal_specs)):\n",
    "    energies.append(am.get_energies(cal_specs[i])) #peak finding method, bq.peakfinder\n"
   ]
  },
  {
   "cell_type": "code",
   "execution_count": null,
   "metadata": {},
   "outputs": [],
   "source": [
    "print(energies)"
   ]
  },
  {
   "cell_type": "code",
   "execution_count": null,
   "metadata": {},
   "outputs": [],
   "source": [
    "energy_shift = 3"
   ]
  },
  {
   "cell_type": "code",
   "execution_count": null,
   "metadata": {
    "scrolled": true
   },
   "outputs": [],
   "source": [
    "iso_dfs =[]\n",
    "#isotope analyzer improvement\n",
    "for e in energies:\n",
    "    e = e + energy_shift\n",
    "    iso_dfs.append(get_isotopes(e))"
   ]
  },
  {
   "cell_type": "code",
   "execution_count": null,
   "metadata": {},
   "outputs": [],
   "source": [
    "print(energies)\n",
    "iso_dfs[2]"
   ]
  },
  {
   "cell_type": "code",
   "execution_count": null,
   "metadata": {},
   "outputs": [],
   "source": [
    "eff_func = am.Efficiency()\n",
    "eff_func.set_parameters()"
   ]
  },
  {
   "cell_type": "code",
   "execution_count": null,
   "metadata": {},
   "outputs": [],
   "source": [
    "counts = []\n",
    "\n",
    "uncertainties =[]\n",
    "\n",
    "icounts = []\n",
    "iuncertainties = []\n",
    "#uses PF.PF \n",
    "for i in range(len(cal_specs)):\n",
    "    icounts, iuncertainties = am.get_counts(cal_specs[i],bgspec,energies[i])\n",
    "    counts.append(icounts)\n",
    "    uncertainties.append(np.sqrt(icounts))"
   ]
  },
  {
   "cell_type": "markdown",
   "metadata": {},
   "source": [
    "roi = ROI.ROI(cal_specs[0], bgspec, energies[0], sub_type = 0)\n",
    "delta_e0 = 5\n",
    "window0 = np.array([[-2, -1], [-0.5, 0.5], [1, 2]])\n",
    "roi.set_sideband(delta_e0,window0)\n",
    "roi.find_peak_energies()\n",
    "target_peaks = roi.target_peaks\n",
    "roi_result0,roi_uncer0 = roi.get_counts()\n",
    "#peakfit = PF.PF(spectrum,background,source_energies)\n",
    "#pf_result = peakfit.get_counts()\n",
    "print(target_peaks)\n",
    "print('ROI result:',roi_result0)\n",
    "print('uncertainties:',roi_uncer0)"
   ]
  },
  {
   "cell_type": "code",
   "execution_count": null,
   "metadata": {},
   "outputs": [],
   "source": [
    "print(energies[0])\n",
    "print(counts[0])\n",
    "print(uncertainties[0])# the uncertainties are all over the place or equal to the real value\n",
    "print(energies[1])\n",
    "print(counts[1])\n",
    "print(uncertainties[1])# the uncertainties are all over the place or equal to the real value\n"
   ]
  },
  {
   "cell_type": "code",
   "execution_count": null,
   "metadata": {},
   "outputs": [],
   "source": [
    "ec = np.array([[ene, counts[i]/eff_func.get_eff(ene),uncertainties[i]/eff_func.get_eff(ene)] for (i, ene) in enumerate(energies)])"
   ]
  },
  {
   "cell_type": "code",
   "execution_count": null,
   "metadata": {},
   "outputs": [],
   "source": [
    "print(\"These are for spectrum 1\")\n",
    "print(\"the energies are\",ec[0,0])\n",
    "print(\"the true counts are\",ec[0,1])\n",
    "print(\"the unc on the true counts are\",ec[0,2])"
   ]
  },
  {
   "cell_type": "code",
   "execution_count": null,
   "metadata": {},
   "outputs": [],
   "source": [
    "print(ec[1][0])\n",
    "print(iso_dfs[1].energies[0])"
   ]
  },
  {
   "cell_type": "code",
   "execution_count": null,
   "metadata": {
    "scrolled": true
   },
   "outputs": [],
   "source": [
    "spectra = 0\n",
    "for s in range(3):\n",
    "    iso_dfs[s]['counts'] = \"0\"\n",
    "    iso_dfs[s]['count_unc'] = \"0\"\n",
    "\n",
    "    for j, e in enumerate(iso_dfs[s]['energies']):\n",
    "        iso_dfs[s]['counts'][j] = np.zeros(len(e))\n",
    "        iso_dfs[s]['count_unc'][j] = np.zeros(len(e))\n",
    "\n",
    "    for i, det_ene in enumerate(ec[s][0]):\n",
    "        for j, em_enes in enumerate(iso_dfs[s]['energies']):\n",
    "            for k, in_ene in enumerate(em_enes):\n",
    "                if (det_ene+energy_shift) == in_ene:\n",
    "                    iso_dfs[s]['counts'][j][k] = round(ec[s][1][i])\n",
    "                    iso_dfs[s]['count_unc'][j][k] = round(ec[s][2][i])"
   ]
  },
  {
   "cell_type": "code",
   "execution_count": null,
   "metadata": {},
   "outputs": [],
   "source": [
    "for i,df in enumerate(iso_dfs):\n",
    "    df['cps'] = df['counts']/cal_specs[i].livetime\n",
    "    df['cps_unc'] = df['count_unc']/cal_specs[i].livetime\n",
    "    df = df.drop('counts',1)\n",
    "    iso_dfs[i] = df.drop('count_unc',1)\n",
    "iso_dfs[0]"
   ]
  },
  {
   "cell_type": "code",
   "execution_count": null,
   "metadata": {},
   "outputs": [],
   "source": [
    "iso_dfs[1]"
   ]
  },
  {
   "cell_type": "code",
   "execution_count": null,
   "metadata": {},
   "outputs": [],
   "source": [
    "#iso_dfs[1] = iso_dfs[1].drop([4])\n",
    "#iso_dfs[1]"
   ]
  },
  {
   "cell_type": "code",
   "execution_count": null,
   "metadata": {},
   "outputs": [],
   "source": [
    "iso_dfs[2]"
   ]
  },
  {
   "cell_type": "code",
   "execution_count": null,
   "metadata": {},
   "outputs": [],
   "source": [
    "iso_dfs[2] = iso_dfs[2].drop([0,1,2,3,4,8])\n",
    "iso_dfs[2]"
   ]
  },
  {
   "cell_type": "code",
   "execution_count": null,
   "metadata": {},
   "outputs": [],
   "source": [
    "for df in iso_dfs:\n",
    "    Activities = []\n",
    "    act_unc = []\n",
    "    for i in range(len(df['cps'])):\n",
    "        Activities.append(np.sum(df['cps'].iloc[i])/np.sum(df['branching_ratios'].iloc[i]))\n",
    "        act_unc.append(np.sqrt(np.sum(np.power(df['cps_unc'].iloc[i],2)))/np.sum(df['branching_ratios'].iloc[i]))\n",
    "    df['Activity'] = Activities\n",
    "    df['Act_unc'] = act_unc"
   ]
  },
  {
   "cell_type": "code",
   "execution_count": null,
   "metadata": {},
   "outputs": [],
   "source": [
    "iso_dfs[0] #a list of activities and activity uncertainties in df"
   ]
  },
  {
   "cell_type": "code",
   "execution_count": null,
   "metadata": {},
   "outputs": [],
   "source": [
    "t0 = cal_specs[0].start_time.timestamp() - (4*24*60*60) #time of irrad\n",
    "print(t0)"
   ]
  },
  {
   "cell_type": "code",
   "execution_count": null,
   "metadata": {},
   "outputs": [],
   "source": [
    "flux = 2*10**11 #from davis trigger reactor\n",
    "Tirrad = 1 *3600 #sec irradiated\n",
    "irr_start = '2019-11-08 09:14:00'\n",
    "irr_stop = '2019-11-08 10:14:00'"
   ]
  },
  {
   "cell_type": "code",
   "execution_count": null,
   "metadata": {},
   "outputs": [],
   "source": [
    "new_dfs = am.calculate_concentration(iso_dfs,'Activity','mass(g)',flux,irr_start,irr_stop,cal_specs)"
   ]
  },
  {
   "cell_type": "code",
   "execution_count": null,
   "metadata": {},
   "outputs": [],
   "source": [
    "new_dfs = am.calculate_concentration(iso_dfs,'Act_unc','mass(g)-unc',flux,irr_start,irr_stop,cal_specs)"
   ]
  },
  {
   "cell_type": "code",
   "execution_count": null,
   "metadata": {},
   "outputs": [],
   "source": [
    "new_dfs[0]"
   ]
  },
  {
   "cell_type": "code",
   "execution_count": null,
   "metadata": {},
   "outputs": [],
   "source": [
    "for df in new_dfs:\n",
    "    df['ppm'] = df['mass(g)']/sample_masses[sample_index]*10000\n",
    "    df['ppm-unc'] = df['mass(g)-unc']/sample_masses[sample_index]*10000\n",
    "new_dfs[0]"
   ]
  },
  {
   "cell_type": "code",
   "execution_count": null,
   "metadata": {},
   "outputs": [],
   "source": [
    "import plotly.graph_objects as go"
   ]
  },
  {
   "cell_type": "code",
   "execution_count": null,
   "metadata": {},
   "outputs": [],
   "source": [
    "fig = go.Figure()\n",
    "fig.add_trace(go.Bar(\n",
    "    x=am.get_initial_isotopes(new_dfs[0]['isotopes']), y=new_dfs[0]['ppm'],\n",
    "    error_y=dict(type='data', array=new_dfs[0]['ppm-unc']),\n",
    "    name=\"30 min\"\n",
    "))\n",
    "fig.add_trace(go.Bar(\n",
    "    x=am.get_initial_isotopes(new_dfs[1]['isotopes']), y=new_dfs[1]['ppm'],\n",
    "    error_y=dict(type='data', array=new_dfs[1]['ppm-unc']),\n",
    "    name=\"3 hr\"\n",
    "))\n",
    "fig.add_trace(go.Bar(\n",
    "    x=am.get_initial_isotopes(new_dfs[2]['isotopes']), y=new_dfs[2]['ppm'],\n",
    "    error_y=dict(type='data', array=new_dfs[2]['ppm-unc']),\n",
    "    name=\"24 hr\"\n",
    "))\n",
    "fig.update_layout(barmode='group',\n",
    "                title={\n",
    "                    'text': sample_fish[sample_index],\n",
    "#                    'y':0.9,\n",
    "                    'x':0.5,\n",
    "                    'xanchor': 'center'},\n",
    "#                    'yanchor': 'top'},\n",
    "                xaxis_title=\"Isotope\",\n",
    "                yaxis_title=\"Concentration (ppm)\"\n",
    "#                font=dict(\n",
    "#                    family=\"Courier New, monospace\",\n",
    "#                    size=18,\n",
    "#                    color=\"RebeccaPurple\"\n",
    "#                )\n",
    ")\n",
    "fig.update_yaxes(type=\"log\")\n",
    "fig.show()"
   ]
  },
  {
   "cell_type": "code",
   "execution_count": null,
   "metadata": {},
   "outputs": [],
   "source": []
  }
 ],
 "metadata": {
  "kernelspec": {
   "display_name": "Python 3",
   "language": "python",
   "name": "python3"
  },
  "language_info": {
   "codemirror_mode": {
    "name": "ipython",
    "version": 3
   },
   "file_extension": ".py",
   "mimetype": "text/x-python",
   "name": "python",
   "nbconvert_exporter": "python",
   "pygments_lexer": "ipython3",
   "version": "3.7.4"
  }
 },
 "nbformat": 4,
 "nbformat_minor": 2
}

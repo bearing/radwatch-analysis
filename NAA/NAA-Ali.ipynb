{
 "cells": [
  {
   "cell_type": "code",
   "execution_count": 1,
   "metadata": {},
   "outputs": [],
   "source": [
    "import becquerel as bq\n",
    "from becquerel import Spectrum\n",
    "import numpy as np\n",
    "import scipy.integrate as integrate\n",
    "import math\n",
    "import importlib\n",
    "import pandas as pd\n",
    "import sys\n",
    "import matplotlib.pyplot as plt\n",
    "sys.path.insert(0,r'C:\\Users\\ahanks\\DoseNet\\radwatch-analysis')"
   ]
  },
  {
   "cell_type": "code",
   "execution_count": 2,
   "metadata": {
    "scrolled": true
   },
   "outputs": [
    {
     "data": {
      "text/plain": [
       "<module 'ROI' from 'C:\\\\Users\\\\ahanks\\\\DoseNet\\\\radwatch-analysis\\\\ROI.py'>"
      ]
     },
     "execution_count": 2,
     "metadata": {},
     "output_type": "execute_result"
    }
   ],
   "source": [
    "import PF\n",
    "import ROI\n",
    "importlib.reload(PF)\n",
    "importlib.reload(ROI)"
   ]
  },
  {
   "cell_type": "code",
   "execution_count": 3,
   "metadata": {},
   "outputs": [
    {
     "data": {
      "text/plain": [
       "<module 'naa_isotope_analyzer' from 'C:\\\\Users\\\\ahanks\\\\DoseNet\\\\radwatch-analysis\\\\naa_isotope_analyzer.py'>"
      ]
     },
     "execution_count": 3,
     "metadata": {},
     "output_type": "execute_result"
    }
   ],
   "source": [
    "import naa_isotope_analyzer as naa\n",
    "importlib.reload(naa)"
   ]
  },
  {
   "cell_type": "code",
   "execution_count": 4,
   "metadata": {},
   "outputs": [
    {
     "name": "stdout",
     "output_type": "stream",
     "text": [
      "SpeFile: Reading file C:\\Users\\ahanks\\Google Drive\\RadWatch\\Gamma\\Gamma Spectra\\Fish Samples 2019\\NAA\\Background_Spectrum_12_20_19.Spe\n",
      "SpeFile: Reading file C:\\Users\\ahanks\\Google Drive\\RadWatch\\Gamma\\Gamma Spectra\\Fish Samples 2019\\NAA\\ucb1901-30min.Spe\n"
     ]
    }
   ],
   "source": [
    "spec_filename = r'C:\\Users\\ahanks\\Google Drive\\RadWatch\\Gamma\\Gamma Spectra\\Fish Samples 2019\\NAA\\ucb1901-30min.Spe'\n",
    "ecal_filename = r'C:\\Users\\ahanks\\Google Drive\\RadWatch\\Gamma\\Gamma Spectra\\Fish Samples 2019\\NAA\\11-19-2019-Calibration.Ent'\n",
    "bg_spec = Spectrum.from_file(r\"C:\\Users\\ahanks\\Google Drive\\RadWatch\\Gamma\\Gamma Spectra\\Fish Samples 2019\\NAA\\Background_Spectrum_12_20_19.Spe\")\n",
    "spec_01_30 = Spectrum.from_file(spec_filename)"
   ]
  },
  {
   "cell_type": "code",
   "execution_count": null,
   "metadata": {},
   "outputs": [],
   "source": [
    "def apply_ecal(spec, ecal_filename):\n",
    "    e_cal = np.loadtxt(ecal_filename)\n",
    "    e_cal_energies=e_cal[:,0]\n",
    "    e_cal_channels=e_cal[:,1]\n",
    "    cal = bq.LinearEnergyCal.from_points(e_cal_channels,e_cal_energies)\n",
    "    spec.apply_calibration(cal)\n",
    "    return spec"
   ]
  },
  {
   "cell_type": "code",
   "execution_count": null,
   "metadata": {},
   "outputs": [],
   "source": [
    "def get_energies(spec):\n",
    "    kernel = bq.GaussianPeakFilter(4250,30, fwhm_at_0=10)\n",
    "    finder = bq.PeakFinder(spec, kernel)\n",
    "    plt.figure()\n",
    "    plt.plot(spec.counts_vals.clip(1e-1), label='Raw spectrum')\n",
    "    plt.plot(finder._peak_plus_bkg.clip(1e-1), label='Peaks+Continuum')\n",
    "    plt.plot(finder._bkg.clip(1e-1), label='Continuum')\n",
    "    plt.plot(finder._signal.clip(1e-1), label='Peaks')\n",
    "    plt.yscale('log')\n",
    "    plt.xlim(0, len(spec))\n",
    "    plt.ylim(3e-1)\n",
    "    plt.xlabel('Channels')\n",
    "    plt.ylabel('Counts')\n",
    "    plt.legend()\n",
    "    plt.tight_layout()\n",
    "    \n",
    "    finder.reset()\n",
    "    finder.find_peaks(min_snr=10, xmin=50)\n",
    "\n",
    "    plt.figure()\n",
    "    plt.title('find_peaks')\n",
    "    finder.plot()\n",
    "    plt.tight_layout()\n",
    "    \n",
    "    energies = np.take(spec.bin_edges_kev,finder.centroids)\n",
    "    print(finder.centroids)\n",
    "    print(energies)\n",
    "    return energies"
   ]
  },
  {
   "cell_type": "code",
   "execution_count": null,
   "metadata": {},
   "outputs": [],
   "source": [
    "def get_isotopes(energies):\n",
    "    hl_cut = 3600\n",
    "    br_cut =4.0\n",
    "    df = naa.naa_isotope_analyzer(energies.tolist(),hl_cut,br_cut)\n",
    "    \n",
    "    return df"
   ]
  },
  {
   "cell_type": "code",
   "execution_count": null,
   "metadata": {},
   "outputs": [],
   "source": [
    "spec_01_30 = apply_ecal(spec_01_30, ecal_filename)\n",
    "bg_spec = apply_ecal(bg_spec, ecal_filename)"
   ]
  },
  {
   "cell_type": "code",
   "execution_count": null,
   "metadata": {},
   "outputs": [],
   "source": [
    "spec1_energies = get_energies(spec_01_30)"
   ]
  },
  {
   "cell_type": "code",
   "execution_count": null,
   "metadata": {},
   "outputs": [],
   "source": [
    "spec1_energies = spec1_energies.tolist()"
   ]
  },
  {
   "cell_type": "code",
   "execution_count": null,
   "metadata": {},
   "outputs": [],
   "source": [
    "spec1_energies_corrected = spec1_energies[0:-2]\n",
    "spec1_energies_corrected[1] = 553.5\n",
    "spec1_energies_corrected.insert(2,560.1)\n",
    "spec1_energies_corrected"
   ]
  },
  {
   "cell_type": "code",
   "execution_count": null,
   "metadata": {},
   "outputs": [],
   "source": [
    "peakfitter = PF.PF(spec_01_30,bg_spec,np.array(spec1_energies_corrected))"
   ]
  },
  {
   "cell_type": "code",
   "execution_count": null,
   "metadata": {},
   "outputs": [],
   "source": [
    "pf_results = peakfitter.get_counts()\n",
    "pf_results"
   ]
  },
  {
   "cell_type": "code",
   "execution_count": null,
   "metadata": {},
   "outputs": [],
   "source": [
    "for i in range(len(pf_results)):\n",
    "    try:\n",
    "        peakfitter.fitters[i].custom_plot()\n",
    "    except:\n",
    "        pass"
   ]
  },
  {
   "cell_type": "code",
   "execution_count": null,
   "metadata": {},
   "outputs": [],
   "source": [
    "df = get_isotopes(spec_01_30)\n",
    "df"
   ]
  },
  {
   "cell_type": "code",
   "execution_count": null,
   "metadata": {},
   "outputs": [],
   "source": [
    "spec_filename = r\"C:\\Users\\Daniel\\Desktop\\Radwatch\\FishSamples2019\\ucb1901-3hr.Spe\"\n",
    "spec_01_03 = Spectrum.from_file(spec_filename)\n",
    "spec_01_03 = apply_ecal(spec_01_03,ecal_filename)\n",
    "df2 = get_isotopes(spec_01_03)"
   ]
  },
  {
   "cell_type": "code",
   "execution_count": null,
   "metadata": {},
   "outputs": [],
   "source": [
    "spec_filename = r\"C:\\Users\\Daniel\\Desktop\\Radwatch\\FishSamples2019\\ucb1901-24hr.Spe\"\n",
    "spec_01_24 = Spectrum.from_file(spec_filename)\n",
    "spec_01_24 = apply_ecal(spec_01_24,ecal_filename)\n",
    "df3 = get_isotopes(spec_01_24)\n",
    "df3"
   ]
  },
  {
   "cell_type": "code",
   "execution_count": null,
   "metadata": {},
   "outputs": [],
   "source": [
    "spec_filename = r\"C:\\Users\\Daniel\\Desktop\\Radwatch\\FishSamples2019\\ucb1902-30min.Spe\"\n",
    "spec_02_30 = Spectrum.from_file(spec_filename)\n",
    "spec_02_30 = apply_ecal(spec_02_30,ecal_filename)\n",
    "df4 = get_isotopes(spec_02_30)\n",
    "df4"
   ]
  },
  {
   "cell_type": "code",
   "execution_count": null,
   "metadata": {
    "scrolled": true
   },
   "outputs": [],
   "source": [
    "spec_filename = r\"C:\\Users\\Daniel\\Desktop\\Radwatch\\FishSamples2019\\ucb1902-3hr.Spe\"\n",
    "spec_02_03 = Spectrum.from_file(spec_filename)\n",
    "spec_02_03 = apply_ecal(spec_02_03,ecal_filename)\n",
    "df5 = get_isotopes(spec_02_03)\n",
    "df5"
   ]
  },
  {
   "cell_type": "code",
   "execution_count": null,
   "metadata": {},
   "outputs": [],
   "source": [
    "spec_filename = r\"C:\\Users\\Daniel\\Desktop\\Radwatch\\FishSamples2019\\ucb1902-24hr.Spe\"\n",
    "spec_02_24 = Spectrum.from_file(spec_filename)\n",
    "spec_02_24 = apply_ecal(spec_02_24,ecal_filename)\n",
    "df6 = get_isotopes(spec_02_24)\n",
    "df6"
   ]
  },
  {
   "cell_type": "code",
   "execution_count": null,
   "metadata": {},
   "outputs": [],
   "source": [
    "spec_filename = r\"C:\\Users\\Daniel\\Desktop\\Radwatch\\FishSamples2019\\ucb1903-30min.Spe\"\n",
    "spec_03_30 = Spectrum.from_file(spec_filename)\n",
    "spec_03_30 = apply_ecal(spec_03_30,ecal_filename)\n",
    "df7 = get_isotopes(spec_03_30)\n",
    "df7"
   ]
  },
  {
   "cell_type": "code",
   "execution_count": null,
   "metadata": {},
   "outputs": [],
   "source": [
    "spec_filename = r\"C:\\Users\\Daniel\\Desktop\\Radwatch\\FishSamples2019\\ucb1903-3hr.Spe\"\n",
    "spec_03_03 = Spectrum.from_file(spec_filename)\n",
    "spec_03_03 = apply_ecal(spec_03_03,ecal_filename)\n",
    "df8 = get_isotopes(spec_03_03)\n",
    "df8"
   ]
  },
  {
   "cell_type": "code",
   "execution_count": null,
   "metadata": {},
   "outputs": [],
   "source": [
    "spec_filename = r\"C:\\Users\\Daniel\\Desktop\\Radwatch\\FishSamples2019\\ucb1903-24hr.Spe\"\n",
    "spec_03_24 = Spectrum.from_file(spec_filename)\n",
    "spec_03_24 = apply_ecal(spec_03_24,ecal_filename)\n",
    "df9 = get_isotopes(spec_03_24)\n",
    "df9"
   ]
  },
  {
   "cell_type": "code",
   "execution_count": null,
   "metadata": {},
   "outputs": [],
   "source": [
    "spec_filename = r\"C:\\Users\\Daniel\\Desktop\\Radwatch\\FishSamples2019\\ucb1904-30min.Spe\"\n",
    "spec_04_30 = Spectrum.from_file(spec_filename)\n",
    "spec_04_30 = apply_ecal(spec_04_30,ecal_filename)\n",
    "df10 = get_isotopes(spec_04_30)\n",
    "df10"
   ]
  },
  {
   "cell_type": "code",
   "execution_count": null,
   "metadata": {},
   "outputs": [],
   "source": [
    "spec_filename = r\"C:\\Users\\Daniel\\Desktop\\Radwatch\\FishSamples2019\\ucb1904-3hr.Spe\"\n",
    "spec_04_03 = Spectrum.from_file(spec_filename)\n",
    "spec_04_03 = apply_ecal(spec_04_03,ecal_filename)\n",
    "df11 = get_isotopes(spec_04_03)\n",
    "df11"
   ]
  },
  {
   "cell_type": "code",
   "execution_count": null,
   "metadata": {},
   "outputs": [],
   "source": [
    "spec_filename = r\"C:\\Users\\Daniel\\Desktop\\Radwatch\\FishSamples2019\\ucb1904-24hr.Spe\"\n",
    "spec_04_24 = Spectrum.from_file(spec_filename)\n",
    "spec_04_24 = apply_ecal(spec_04_24,ecal_filename)\n",
    "df12 = get_isotopes(spec_04_24)\n",
    "df12"
   ]
  },
  {
   "cell_type": "code",
   "execution_count": null,
   "metadata": {},
   "outputs": [],
   "source": [
    "spec_filename = r\"C:\\Users\\Daniel\\Desktop\\Radwatch\\FishSamples2019\\ucb1905-30min.Spe\"\n",
    "spec_05_30 = Spectrum.from_file(spec_filename)\n",
    "spec_05_30 = apply_ecal(spec_05_30,ecal_filename)\n",
    "df13 = get_isotopes(spec_05_30)\n",
    "df13"
   ]
  },
  {
   "cell_type": "code",
   "execution_count": null,
   "metadata": {},
   "outputs": [],
   "source": [
    "spec_filename = r\"C:\\Users\\Daniel\\Desktop\\Radwatch\\FishSamples2019\\ucb1905-3hr.Spe\"\n",
    "spec_05_03 = Spectrum.from_file(spec_filename)\n",
    "spec_05_03 = apply_ecal(spec_05_03,ecal_filename)\n",
    "df14 = get_isotopes(spec_05_03)\n",
    "df14"
   ]
  },
  {
   "cell_type": "code",
   "execution_count": null,
   "metadata": {},
   "outputs": [],
   "source": [
    "spec_filename = r\"C:\\Users\\Daniel\\Desktop\\Radwatch\\FishSamples2019\\ucb1905-24hr.Spe\"\n",
    "spec_05_24 = Spectrum.from_file(spec_filename)\n",
    "spec_05_24 = apply_ecal(spec_05_24,ecal_filename)\n",
    "df15 = get_isotopes(spec_05_24)\n",
    "df15"
   ]
  },
  {
   "cell_type": "code",
   "execution_count": null,
   "metadata": {},
   "outputs": [],
   "source": [
    "spec_filename = r\"C:\\Users\\Daniel\\Desktop\\Radwatch\\FishSamples2019\\ucb1906-30min.Spe\"\n",
    "spec_06_30 = Spectrum.from_file(spec_filename)\n",
    "spec_06_30 = apply_ecal(spec_06_30,ecal_filename)\n",
    "df16 = get_isotopes(spec_06_30)\n",
    "df16"
   ]
  },
  {
   "cell_type": "code",
   "execution_count": null,
   "metadata": {},
   "outputs": [],
   "source": [
    "spec_filename = r\"C:\\Users\\Daniel\\Desktop\\Radwatch\\FishSamples2019\\ucb1906-3hr.Spe\"\n",
    "spec_06_03 = Spectrum.from_file(spec_filename)\n",
    "spec_06_03 = apply_ecal(spec_06_03,ecal_filename)\n",
    "df17 = get_isotopes(spec_06_03)\n",
    "df17"
   ]
  },
  {
   "cell_type": "code",
   "execution_count": null,
   "metadata": {},
   "outputs": [],
   "source": [
    "spec_filename = r\"C:\\Users\\Daniel\\Desktop\\Radwatch\\FishSamples2019\\ucb1906-24hr.Spe\"\n",
    "spec_06_24 = Spectrum.from_file(spec_filename)\n",
    "spec_06_24 = apply_ecal(spec_06_24,ecal_filename)\n",
    "df18 = get_isotopes(spec_06_24)\n",
    "df18"
   ]
  },
  {
   "cell_type": "code",
   "execution_count": null,
   "metadata": {},
   "outputs": [],
   "source": [
    "spec_filename = r\"C:\\Users\\Daniel\\Desktop\\Radwatch\\FishSamples2019\\ucb1907-30min.Spe\"\n",
    "spec_07_30 = Spectrum.from_file(spec_filename)\n",
    "spec_07_30 = apply_ecal(spec_07_30,ecal_filename)\n",
    "df19 = get_isotopes(spec_07_30)\n",
    "df19"
   ]
  },
  {
   "cell_type": "code",
   "execution_count": null,
   "metadata": {},
   "outputs": [],
   "source": [
    "spec_filename = r\"C:\\Users\\Daniel\\Desktop\\Radwatch\\FishSamples2019\\ucb1907-3hr.Spe\"\n",
    "spec_07_03 = Spectrum.from_file(spec_filename)\n",
    "spec_07_03 = apply_ecal(spec_07_03,ecal_filename)\n",
    "df20 = get_isotopes(spec_07_03)\n",
    "df20"
   ]
  },
  {
   "cell_type": "code",
   "execution_count": null,
   "metadata": {},
   "outputs": [],
   "source": [
    "spec_filename = r\"C:\\Users\\Daniel\\Desktop\\Radwatch\\FishSamples2019\\ucb1907-24hr.Spe\"\n",
    "spec_07_24 = Spectrum.from_file(spec_filename)\n",
    "spec_07_24 = apply_ecal(spec_07_24,ecal_filename)\n",
    "df21 = get_isotopes(spec_07_24)\n",
    "df21"
   ]
  },
  {
   "cell_type": "code",
   "execution_count": null,
   "metadata": {},
   "outputs": [],
   "source": [
    "spec_filename = r\"C:\\Users\\Daniel\\Desktop\\Radwatch\\FishSamples2019\\ucb1908-30min.Spe\"\n",
    "spec_08_30 = Spectrum.from_file(spec_filename)\n",
    "spec_08_30 = apply_ecal(spec_08_30,ecal_filename)\n",
    "df22 = get_isotopes(spec_08_30)\n",
    "df22"
   ]
  },
  {
   "cell_type": "code",
   "execution_count": null,
   "metadata": {},
   "outputs": [],
   "source": [
    "spec_filename = r\"C:\\Users\\Daniel\\Desktop\\Radwatch\\FishSamples2019\\ucb1908-3hr.Spe\"\n",
    "spec_08_03 = Spectrum.from_file(spec_filename)\n",
    "spec_08_03 = apply_ecal(spec_08_03,ecal_filename)\n",
    "df23 = get_isotopes(spec_08_03)\n",
    "df23"
   ]
  },
  {
   "cell_type": "code",
   "execution_count": null,
   "metadata": {},
   "outputs": [],
   "source": [
    "spec_filename = r\"C:\\Users\\Daniel\\Desktop\\Radwatch\\FishSamples2019\\ucb1908-24hr.Spe\"\n",
    "spec_08_24 = Spectrum.from_file(spec_filename)\n",
    "spec_08_24 = apply_ecal(spec_08_24,ecal_filename)\n",
    "df24 = get_isotopes(spec_08_24)\n",
    "df24"
   ]
  },
  {
   "cell_type": "code",
   "execution_count": null,
   "metadata": {},
   "outputs": [],
   "source": [
    "spec_filename = r\"C:\\Users\\Daniel\\Desktop\\Radwatch\\FishSamples2019\\ucb1909-30min.Spe\"\n",
    "spec_09_30 = Spectrum.from_file(spec_filename)\n",
    "spec_09_30 = apply_ecal(spec_09_30,ecal_filename)\n",
    "df25 = get_isotopes(spec_09_30)\n",
    "df25"
   ]
  },
  {
   "cell_type": "code",
   "execution_count": null,
   "metadata": {},
   "outputs": [],
   "source": [
    "spec_filename = r\"C:\\Users\\Daniel\\Desktop\\Radwatch\\FishSamples2019\\ucb1909-3hr.Spe\"\n",
    "spec_09_03 = Spectrum.from_file(spec_filename)\n",
    "spec_09_03 = apply_ecal(spec_09_03,ecal_filename)\n",
    "df26 = get_isotopes(spec_09_03)\n",
    "df26"
   ]
  },
  {
   "cell_type": "code",
   "execution_count": null,
   "metadata": {},
   "outputs": [],
   "source": [
    "spec_filename = r\"C:\\Users\\Daniel\\Desktop\\Radwatch\\FishSamples2019\\ucb1909-24hr.Spe\"\n",
    "spec_09_24 = Spectrum.from_file(spec_filename)\n",
    "spec_09_24 = apply_ecal(spec_09_24,ecal_filename)\n",
    "df27 = get_isotopes(spec_09_24)\n",
    "df27"
   ]
  },
  {
   "cell_type": "code",
   "execution_count": null,
   "metadata": {},
   "outputs": [],
   "source": [
    "spec_filename = r\"C:\\Users\\Daniel\\Desktop\\Radwatch\\FishSamples2019\\ucb1910-30min.Spe\"\n",
    "spec_10_30 = Spectrum.from_file(spec_filename)\n",
    "spec_10_30 = apply_ecal(spec_10_30,ecal_filename)\n",
    "df28 = get_isotopes(spec_10_30)\n",
    "df28"
   ]
  },
  {
   "cell_type": "code",
   "execution_count": null,
   "metadata": {},
   "outputs": [],
   "source": [
    "spec_filename = r\"C:\\Users\\Daniel\\Desktop\\Radwatch\\FishSamples2019\\ucb1910-3hr.Spe\"\n",
    "spec_10_03 = Spectrum.from_file(spec_filename)\n",
    "spec_10_03 = apply_ecal(spec_10_03,ecal_filename)\n",
    "df29 = get_isotopes(spec_10_03)\n",
    "df29"
   ]
  },
  {
   "cell_type": "code",
   "execution_count": null,
   "metadata": {
    "scrolled": true
   },
   "outputs": [],
   "source": [
    "spec_filename = r\"C:\\Users\\Daniel\\Desktop\\Radwatch\\FishSamples2019\\ucb1910-24hr.Spe\"\n",
    "spec_10_24 = Spectrum.from_file(spec_filename)\n",
    "spec_10_24 = apply_ecal(spec_10_24,ecal_filename)\n",
    "df30 = get_isotopes(spec_10_24)\n",
    "df30"
   ]
  },
  {
   "cell_type": "code",
   "execution_count": null,
   "metadata": {},
   "outputs": [],
   "source": [
    "dataset = [df,df2,df3,df4,df5,df6,df7,df8,df9,df10,df11,df12,df13,df14,df15,df16,df17,df18,df19,df20,df21,df22,df23,df24,df25,df26,df27,df28,df29,df30]"
   ]
  },
  {
   "cell_type": "code",
   "execution_count": null,
   "metadata": {},
   "outputs": [],
   "source": [
    "dataset[2]"
   ]
  },
  {
   "cell_type": "code",
   "execution_count": null,
   "metadata": {},
   "outputs": [],
   "source": []
  }
 ],
 "metadata": {
  "kernelspec": {
   "display_name": "Python 3",
   "language": "python",
   "name": "python3"
  },
  "language_info": {
   "codemirror_mode": {
    "name": "ipython",
    "version": 3
   },
   "file_extension": ".py",
   "mimetype": "text/x-python",
   "name": "python",
   "nbconvert_exporter": "python",
   "pygments_lexer": "ipython3",
   "version": "3.7.3"
  }
 },
 "nbformat": 4,
 "nbformat_minor": 2
}

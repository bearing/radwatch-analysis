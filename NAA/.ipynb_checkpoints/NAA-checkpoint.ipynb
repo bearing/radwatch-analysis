{
 "cells": [
  {
   "cell_type": "code",
   "execution_count": 356,
   "metadata": {},
   "outputs": [],
   "source": [
    "import becquerel as bq\n",
    "from becquerel import Spectrum\n",
    "import numpy as np\n",
    "import scipy.integrate as integrate\n",
    "import math as m\n",
    "import importlib\n",
    "import pandas as pd\n",
    "import sys\n",
    "import matplotlib.pyplot as plt\n",
    "sys.path.insert(0,r\"C:\\Users\\Daniel\\Desktop\\Radwatch\\radwatch-analysis\")"
   ]
  },
  {
   "cell_type": "code",
   "execution_count": 357,
   "metadata": {},
   "outputs": [
    {
     "data": {
      "text/plain": [
       "<module 'ROI' from 'C:\\\\Users\\\\Daniel\\\\Desktop\\\\Radwatch\\\\radwatch-analysis\\\\ROI.py'>"
      ]
     },
     "execution_count": 357,
     "metadata": {},
     "output_type": "execute_result"
    }
   ],
   "source": [
    "import PF\n",
    "import naa_isotope_analyzer as naa\n",
    "import analysis_methods as am\n",
    "import ROI\n",
    "importlib.reload(PF)\n",
    "importlib.reload(naa)\n",
    "importlib.reload(am)\n",
    "importlib.reload(ROI)"
   ]
  },
  {
   "cell_type": "code",
   "execution_count": 358,
   "metadata": {
    "scrolled": true
   },
   "outputs": [
    {
     "name": "stdout",
     "output_type": "stream",
     "text": [
      "SpeFile: Reading file C:\\Users\\Daniel\\Desktop\\Radwatch\\FishSamples2019\\Background_Spectrum_12_20_19.Spe\n"
     ]
    }
   ],
   "source": [
    "ecal_filename = r\"C:\\Users\\Daniel\\Desktop\\Radwatch\\FishSamples2019\\11-19-2019-Calibration.Ent\"\n",
    "bg_spec = Spectrum.from_file(r\"C:\\Users\\Daniel\\Desktop\\Radwatch\\FishSamples2019\\Background_Spectrum_12_20_19.Spe\")\n",
    "e_cal = np.loadtxt(ecal_filename)\n",
    "#detector ϵ placeholder = .001\n",
    "#save daignostic plots as figures, save them for presentation and write up purposes"
   ]
  },
  {
   "cell_type": "code",
   "execution_count": 359,
   "metadata": {},
   "outputs": [],
   "source": [
    "def f_near(a,a0):\n",
    "    idx = np.abs(a - a0).argmin()\n",
    "    return idx"
   ]
  },
  {
   "cell_type": "code",
   "execution_count": 360,
   "metadata": {},
   "outputs": [],
   "source": [
    "def get_isotopes(energies):\n",
    "    hl_cut = 3600\n",
    "    br_cut =4.0\n",
    "    df = naa.naa_isotope_analyzer(energies.tolist(),hl_cut,br_cut)\n",
    "    \n",
    "    return df"
   ]
  },
  {
   "cell_type": "code",
   "execution_count": 361,
   "metadata": {},
   "outputs": [],
   "source": [
    "def sample_energies(spec_30,spec_03,spec_24,bg_spec,ecal_filename):  #break this out into a couple of methods, check if fits need to be updated, use modified fit results to get counts, and those counts at fixed peaks are inputs for the next step\n",
    "    #calibrate spectra\n",
    "    spec1 = apply_ecal(spec_30,ecal_filename)\n",
    "    spec2 = apply_ecal(spec_03, ecal_filename) #do energy cal outside and input calibrated spectra\n",
    "    spec3 = apply_ecal(spec_24, ecal_filename)\n",
    "    bg_spec = apply_ecal(bg_spec,ecal_filename)\n",
    "    \n",
    "    spec1_e = get_energies(spec1)\n",
    "    spec2_e = get_energies(spec2)\n",
    "    spec3_e = get_energies(spec3)\n",
    "    \n",
    "    s1_e = spec1_e.tolist()\n",
    "    s2_e = spec2_e.tolist()\n",
    "    s3_e = spec3_e.tolist()\n",
    "    \n",
    "    #find method to get rid of peaks in overflow bin\n",
    "    \n",
    "    s1_e = s1_e[0:-2]\n",
    "    s2_e = s2_e[0:-2]\n",
    "    s3_e = s3_e[0:-2]\n",
    "    print(\"spec 1 energies\", s1_e)\n",
    "    print(\"spec 2 energies\", s2_e)\n",
    "    \n",
    "    \n",
    "    energies = [list(map(int,s1_e)),list(map(int,s2_e)),list(map(int,s3_e))] #return list of final energies\n",
    "    #make counts lists a seperate function to determine which counts works or not\n",
    "    counts=[]\n",
    "    counts = counts.append([get_counts(spec_30,bg_spec)[0]]) #to get counts from list (also want uncertainties)\n",
    "    counts = counts.append(counts, [get_counts(spec_03,bg_spec)])\n",
    "    counts = counts.append(counts,[get_counts(spec_24,bg_spec)])\n",
    "    \n",
    "    #separate  function input energies and working counts\n",
    "    m1 = {'energies':energies[1],'counts':counts[1]}\n",
    "    m2 = {'energies':energies[2],'counts':counts[2]}\n",
    "    m3 = {'energies':energies[3],'counts':counts[3]}\n",
    "    \n",
    "    df1 = pd.DataFrame(m1)\n",
    "    df2 = pd.DataFrame(m2)\n",
    "    df3 = pd.DataFrame(m3)\n",
    "    \n",
    "    ordered_set = pd.merge_ordered(df1,df2,df3)\n",
    "    \n",
    "    #order energies from low to high, parsing through list, length of energy array for each spec will be dif\n",
    "    #associate the counts with an energy, if energy is a few kev off will they be considered different\n",
    "    #data frame for each spectrum, then combine and let pandas sort, group energies within range and convert to integers\n",
    "    #counts and uncertainties for sodium from 3 spectra (1 sample) and a function to c"
   ]
  },
  {
   "cell_type": "code",
   "execution_count": 362,
   "metadata": {},
   "outputs": [],
   "source": [
    "def plot_peak_region(spectrum,source_energies): #ruiqi code!\n",
    "    roi.find_peak_energies()\n",
    "    target_peaks = roi.target_peaks\n",
    "    print(target_peaks)\n",
    "    for i,j,isotope in zip(source_energies,target_peaks,source_isotopes):\n",
    "        spec = spectrum\n",
    "        counts = spec.counts_vals\n",
    "        energies = spec.energies_kev\n",
    "        idx = f_near(energies,i) \n",
    "        roi_low = idx - 50\n",
    "        roi_high = idx + 50\n",
    "\n",
    "        plot_counts = counts[roi_low:roi_high]\n",
    "        plot_energies = energies[roi_low:roi_high]\n",
    "\n",
    "        roi_low_bins,roi_peak_bins,roi_high_bins = roi.get_roi_windows(j)\n",
    "        rlow = roi_low_bins[0][0]\n",
    "        rhi = roi_high_bins[0][-1]\n",
    "        plot_counts = counts[rlow:rhi]\n",
    "        plot_energies = energies[rlow:rhi]\n",
    "\n",
    "        rlow = roi_low_bins[0][0]\n",
    "        rhi = roi_low_bins[0][-1]\n",
    "        low_counts = counts[rlow:rhi]\n",
    "        low_energies = energies[rlow:rhi]\n",
    "\n",
    "        rlow = roi_high_bins[0][0]\n",
    "        rhi = roi_high_bins[0][-1]\n",
    "        high_counts = counts[rlow:rhi]\n",
    "        high_energies = energies[rlow:rhi]\n",
    "\n",
    "        rlow = roi_peak_bins[0][0]\n",
    "        rhi = roi_peak_bins[0][-1]\n",
    "        peak_counts = counts[rlow:rhi]\n",
    "        peak_energies = energies[rlow:rhi]\n",
    "\n",
    "        fig,ax = plt.subplots()\n",
    "        ax.plot(plot_energies,plot_counts)\n",
    "        ax.fill_between(low_energies,0,low_counts,facecolor = 'green',interpolate=True)\n",
    "        ax.fill_between(high_energies,0,high_counts,facecolor = 'red',interpolate=True)\n",
    "        ax.fill_between(peak_energies,0,peak_counts,facecolor = 'blue',interpolate=True)\n",
    "        ax.set_yscale('log')\n",
    "        plt.title(isotope)"
   ]
  },
  {
   "cell_type": "code",
   "execution_count": 363,
   "metadata": {},
   "outputs": [
    {
     "name": "stdout",
     "output_type": "stream",
     "text": [
      "SpeFile: Reading file C:\\Users\\Daniel\\Desktop\\Radwatch\\FishSamples2019\\ucb1901-30min.Spe\n",
      "SpeFile: Reading file C:\\Users\\Daniel\\Desktop\\Radwatch\\FishSamples2019\\ucb1901-3hr.Spe\n",
      "SpeFile: Reading file C:\\Users\\Daniel\\Desktop\\Radwatch\\FishSamples2019\\ucb1901-24hr.Spe\n",
      "SpeFile: Reading file C:\\Users\\Daniel\\Desktop\\Radwatch\\FishSamples2019\\ucb1902-30min.Spe\n",
      "SpeFile: Reading file C:\\Users\\Daniel\\Desktop\\Radwatch\\FishSamples2019\\ucb1902-3hr.Spe\n",
      "SpeFile: Reading file C:\\Users\\Daniel\\Desktop\\Radwatch\\FishSamples2019\\ucb1902-24hr.Spe\n",
      "SpeFile: Reading file C:\\Users\\Daniel\\Desktop\\Radwatch\\FishSamples2019\\ucb1903-30min.Spe\n",
      "SpeFile: Reading file C:\\Users\\Daniel\\Desktop\\Radwatch\\FishSamples2019\\ucb1903-3hr.Spe\n",
      "SpeFile: Reading file C:\\Users\\Daniel\\Desktop\\Radwatch\\FishSamples2019\\ucb1903-24hr.Spe\n",
      "SpeFile: Reading file C:\\Users\\Daniel\\Desktop\\Radwatch\\FishSamples2019\\ucb1904-30min.Spe\n",
      "SpeFile: Reading file C:\\Users\\Daniel\\Desktop\\Radwatch\\FishSamples2019\\ucb1904-3hr.Spe\n",
      "SpeFile: Reading file C:\\Users\\Daniel\\Desktop\\Radwatch\\FishSamples2019\\ucb1904-24hr.Spe\n",
      "SpeFile: Reading file C:\\Users\\Daniel\\Desktop\\Radwatch\\FishSamples2019\\ucb1905-30min.Spe\n",
      "SpeFile: Reading file C:\\Users\\Daniel\\Desktop\\Radwatch\\FishSamples2019\\ucb1905-3hr.Spe\n",
      "SpeFile: Reading file C:\\Users\\Daniel\\Desktop\\Radwatch\\FishSamples2019\\ucb1905-24hr.Spe\n",
      "SpeFile: Reading file C:\\Users\\Daniel\\Desktop\\Radwatch\\FishSamples2019\\ucb1906-30min.Spe\n",
      "SpeFile: Reading file C:\\Users\\Daniel\\Desktop\\Radwatch\\FishSamples2019\\ucb1906-3hr.Spe\n",
      "SpeFile: Reading file C:\\Users\\Daniel\\Desktop\\Radwatch\\FishSamples2019\\ucb1906-24hr.Spe\n",
      "SpeFile: Reading file C:\\Users\\Daniel\\Desktop\\Radwatch\\FishSamples2019\\ucb1907-30min.Spe\n",
      "SpeFile: Reading file C:\\Users\\Daniel\\Desktop\\Radwatch\\FishSamples2019\\ucb1907-3hr.Spe\n",
      "SpeFile: Reading file C:\\Users\\Daniel\\Desktop\\Radwatch\\FishSamples2019\\ucb1907-24hr.Spe\n",
      "SpeFile: Reading file C:\\Users\\Daniel\\Desktop\\Radwatch\\FishSamples2019\\ucb1908-30min.Spe\n",
      "SpeFile: Reading file C:\\Users\\Daniel\\Desktop\\Radwatch\\FishSamples2019\\ucb1908-3hr.Spe\n",
      "SpeFile: Reading file C:\\Users\\Daniel\\Desktop\\Radwatch\\FishSamples2019\\ucb1908-24hr.Spe\n",
      "SpeFile: Reading file C:\\Users\\Daniel\\Desktop\\Radwatch\\FishSamples2019\\ucb1909-30min.Spe\n",
      "SpeFile: Reading file C:\\Users\\Daniel\\Desktop\\Radwatch\\FishSamples2019\\ucb1909-3hr.Spe\n",
      "SpeFile: Reading file C:\\Users\\Daniel\\Desktop\\Radwatch\\FishSamples2019\\ucb1909-24hr.Spe\n",
      "SpeFile: Reading file C:\\Users\\Daniel\\Desktop\\Radwatch\\FishSamples2019\\ucb1910-30min.Spe\n",
      "SpeFile: Reading file C:\\Users\\Daniel\\Desktop\\Radwatch\\FishSamples2019\\ucb1910-3hr.Spe\n",
      "SpeFile: Reading file C:\\Users\\Daniel\\Desktop\\Radwatch\\FishSamples2019\\ucb1910-24hr.Spe\n"
     ]
    }
   ],
   "source": [
    "spec_01_30 = Spectrum.from_file(r\"C:\\Users\\Daniel\\Desktop\\Radwatch\\FishSamples2019\\ucb1901-30min.Spe\")\n",
    "spec_01_03 = Spectrum.from_file(r\"C:\\Users\\Daniel\\Desktop\\Radwatch\\FishSamples2019\\ucb1901-3hr.Spe\")\n",
    "spec_01_24 = Spectrum.from_file(r\"C:\\Users\\Daniel\\Desktop\\Radwatch\\FishSamples2019\\ucb1901-24hr.Spe\")\n",
    "spec_02_30 = Spectrum.from_file(r\"C:\\Users\\Daniel\\Desktop\\Radwatch\\FishSamples2019\\ucb1902-30min.Spe\")\n",
    "spec_02_03 = Spectrum.from_file(r\"C:\\Users\\Daniel\\Desktop\\Radwatch\\FishSamples2019\\ucb1902-3hr.Spe\")\n",
    "spec_02_24 = Spectrum.from_file(r\"C:\\Users\\Daniel\\Desktop\\Radwatch\\FishSamples2019\\ucb1902-24hr.Spe\")\n",
    "spec_03_30 = Spectrum.from_file(r\"C:\\Users\\Daniel\\Desktop\\Radwatch\\FishSamples2019\\ucb1903-30min.Spe\")\n",
    "spec_03_03 = Spectrum.from_file(r\"C:\\Users\\Daniel\\Desktop\\Radwatch\\FishSamples2019\\ucb1903-3hr.Spe\")\n",
    "spec_03_24 = Spectrum.from_file(r\"C:\\Users\\Daniel\\Desktop\\Radwatch\\FishSamples2019\\ucb1903-24hr.Spe\")\n",
    "spec_04_30 = Spectrum.from_file(r\"C:\\Users\\Daniel\\Desktop\\Radwatch\\FishSamples2019\\ucb1904-30min.Spe\")\n",
    "spec_04_03 = Spectrum.from_file(r\"C:\\Users\\Daniel\\Desktop\\Radwatch\\FishSamples2019\\ucb1904-3hr.Spe\")\n",
    "spec_04_24 = Spectrum.from_file(r\"C:\\Users\\Daniel\\Desktop\\Radwatch\\FishSamples2019\\ucb1904-24hr.Spe\")\n",
    "spec_05_30 = Spectrum.from_file(r\"C:\\Users\\Daniel\\Desktop\\Radwatch\\FishSamples2019\\ucb1905-30min.Spe\")\n",
    "spec_05_03 = Spectrum.from_file(r\"C:\\Users\\Daniel\\Desktop\\Radwatch\\FishSamples2019\\ucb1905-3hr.Spe\")\n",
    "spec_05_24 = Spectrum.from_file(r\"C:\\Users\\Daniel\\Desktop\\Radwatch\\FishSamples2019\\ucb1905-24hr.Spe\")\n",
    "spec_06_30 = Spectrum.from_file(r\"C:\\Users\\Daniel\\Desktop\\Radwatch\\FishSamples2019\\ucb1906-30min.Spe\")\n",
    "spec_06_03 = Spectrum.from_file(r\"C:\\Users\\Daniel\\Desktop\\Radwatch\\FishSamples2019\\ucb1906-3hr.Spe\")\n",
    "spec_06_24 = Spectrum.from_file(r\"C:\\Users\\Daniel\\Desktop\\Radwatch\\FishSamples2019\\ucb1906-24hr.Spe\")\n",
    "spec_07_30 = Spectrum.from_file(r\"C:\\Users\\Daniel\\Desktop\\Radwatch\\FishSamples2019\\ucb1907-30min.Spe\")\n",
    "spec_07_03 = Spectrum.from_file(r\"C:\\Users\\Daniel\\Desktop\\Radwatch\\FishSamples2019\\ucb1907-3hr.Spe\")\n",
    "spec_07_24 = Spectrum.from_file(r\"C:\\Users\\Daniel\\Desktop\\Radwatch\\FishSamples2019\\ucb1907-24hr.Spe\")\n",
    "spec_08_30 = Spectrum.from_file(r\"C:\\Users\\Daniel\\Desktop\\Radwatch\\FishSamples2019\\ucb1908-30min.Spe\")\n",
    "spec_08_03 = Spectrum.from_file(r\"C:\\Users\\Daniel\\Desktop\\Radwatch\\FishSamples2019\\ucb1908-3hr.Spe\")\n",
    "spec_08_24 = Spectrum.from_file(r\"C:\\Users\\Daniel\\Desktop\\Radwatch\\FishSamples2019\\ucb1908-24hr.Spe\")\n",
    "spec_09_30 = Spectrum.from_file(r\"C:\\Users\\Daniel\\Desktop\\Radwatch\\FishSamples2019\\ucb1909-30min.Spe\")\n",
    "spec_09_03 = Spectrum.from_file(r\"C:\\Users\\Daniel\\Desktop\\Radwatch\\FishSamples2019\\ucb1909-3hr.Spe\")\n",
    "spec_09_24 = Spectrum.from_file(r\"C:\\Users\\Daniel\\Desktop\\Radwatch\\FishSamples2019\\ucb1909-24hr.Spe\")\n",
    "spec_10_30 = Spectrum.from_file(r\"C:\\Users\\Daniel\\Desktop\\Radwatch\\FishSamples2019\\ucb1910-30min.Spe\")\n",
    "spec_10_03 = Spectrum.from_file(r\"C:\\Users\\Daniel\\Desktop\\Radwatch\\FishSamples2019\\ucb1910-3hr.Spe\")\n",
    "spec_10_24 = Spectrum.from_file(r\"C:\\Users\\Daniel\\Desktop\\Radwatch\\FishSamples2019\\ucb1910-24hr.Spe\")"
   ]
  },
  {
   "cell_type": "code",
   "execution_count": 388,
   "metadata": {
    "scrolled": false
   },
   "outputs": [],
   "source": [
    "spectra_30 = [spec_01_30, spec_02_30, spec_03_30, spec_04_30,spec_05_30,spec_06_30,spec_07_30, spec_08_30,spec_09_30,spec_10_30]\n",
    "spectra_03 = [spec_01_03,spec_02_03,spec_03_03,spec_04_03,spec_05_03,spec_06_03,spec_07_03,spec_08_03,spec_09_03,spec_10_03]\n",
    "spectra_24 = [spec_01_24,spec_02_24,spec_03_24,spec_04_24,spec_05_24,spec_06_24,spec_06_24,spec_08_24,spec_09_24,spec_10_24]\n",
    "cal_specs1 = []\n",
    "cal_specs2 = []\n",
    "cal_specs3 =[]\n",
    "for i in range(len(spectra_30)):\n",
    "    cal_specs1.append(am.apply_ecal(spectra_30[i],e_cal))\n",
    "    cal_specs2.append(am.apply_ecal(spectra_03[i],e_cal))\n",
    "    cal_specs3.append(am.apply_ecal(spectra_24[i],e_cal))"
   ]
  },
  {
   "cell_type": "code",
   "execution_count": 369,
   "metadata": {},
   "outputs": [
    {
     "name": "stdout",
     "output_type": "stream",
     "text": [
      "1\n"
     ]
    }
   ],
   "source": [
    "print(len(cal_specs1))"
   ]
  },
  {
   "cell_type": "code",
   "execution_count": 370,
   "metadata": {},
   "outputs": [],
   "source": [
    "bg_spec = am.apply_ecal(bg_spec, e_cal)"
   ]
  },
  {
   "cell_type": "code",
   "execution_count": 371,
   "metadata": {
    "scrolled": false
   },
   "outputs": [
    {
     "data": {
      "image/png": "[encoded data removed]",
      "text/plain": [
       "<Figure size 432x288 with 1 Axes>"
      ]
     },
     "metadata": {
      "needs_background": "light"
     },
     "output_type": "display_data"
    },
    {
     "data": {
      "image/png": "[encoded data removed]",
      "text/plain": [
       "<Figure size 432x288 with 1 Axes>"
      ]
     },
     "metadata": {
      "needs_background": "light"
     },
     "output_type": "display_data"
    }
   ],
   "source": [
    "energies30 = []\n",
    "energies03 = []\n",
    "energies24 = []\n",
    "for i in range(len(cal_specs1)):\n",
    "    energies30.append(am.get_energies(cal_specs1[i]))\n",
    "    #energies03.append(am.get_energies(cal_specs2[i]))\n",
    "    #energies24.append(am.get_energies(cal_specs3[i]))\n",
    "#the remove last two energies doesn't work for many plots"
   ]
  },
  {
   "cell_type": "code",
   "execution_count": 365,
   "metadata": {
    "scrolled": true
   },
   "outputs": [
    {
     "name": "stdout",
     "output_type": "stream",
     "text": [
      "Verified Isotopes, [['ZN71'], ['BR82'], ['BR82'], ['TE131'], ['BR82'], ['BR82'], ['BR82'], ['BR82'], ['BR82'], ['NA24'], ['BR82'], ['K42'], [], []]\n",
      "Verified Isotopes, [['ZN71'], ['BR82'], ['BR82'], ['BR82'], ['BR82'], ['BR82'], ['BR82'], ['NA24'], ['K42'], [], []]\n",
      "[          isotopes                                energies  \\\n",
      "0             BR82  [556, 616, 695, 824, 1039, 1311, 1468]   \n",
      "1              K42                                  [1518]   \n",
      "2             ZN71                                   [508]   \n",
      "3  SE Unidentified                                  [1724]   \n",
      "4             NA24                                  [1362]   \n",
      "5            TE131                                   [653]   \n",
      "6            AC228                                   [773]   \n",
      "\n",
      "                                    branching ratios  \n",
      "0  [0.7170000000000001, 0.43700000000000006, 0.28...  \n",
      "1                                           [0.1808]  \n",
      "2                                            [0.287]  \n",
      "3                                           [[None]]  \n",
      "4                                         [0.999936]  \n",
      "5                                           [0.0418]  \n",
      "6                                           [0.0149]  ,   isotopes                    energies  \\\n",
      "0     BR82  [551, 616, 695, 824, 1312]   \n",
      "1      K42                      [1518]   \n",
      "2     ZN71                       [508]   \n",
      "3     NA24                      [1363]   \n",
      "4    AC228                       [773]   \n",
      "\n",
      "                                    branching ratios  \n",
      "0  [0.7170000000000001, 0.43700000000000006, 0.28...  \n",
      "1                                           [0.1808]  \n",
      "2                                            [0.287]  \n",
      "3                                         [0.999936]  \n",
      "4                                           [0.0149]  ]\n"
     ]
    }
   ],
   "source": [
    "iso_dfs =[]\n",
    "for e in energies30:\n",
    "    iso_dfs.append(get_isotopes(e))\n",
    "    \n",
    "print(iso_dfs)"
   ]
  },
  {
   "cell_type": "code",
   "execution_count": 430,
   "metadata": {},
   "outputs": [
    {
     "data": {
      "text/html": [
       "<div>\n",
       "<style scoped>\n",
       "    .dataframe tbody tr th:only-of-type {\n",
       "        vertical-align: middle;\n",
       "    }\n",
       "\n",
       "    .dataframe tbody tr th {\n",
       "        vertical-align: top;\n",
       "    }\n",
       "\n",
       "    .dataframe thead th {\n",
       "        text-align: right;\n",
       "    }\n",
       "</style>\n",
       "<table border=\"1\" class=\"dataframe\">\n",
       "  <thead>\n",
       "    <tr style=\"text-align: right;\">\n",
       "      <th></th>\n",
       "      <th>isotopes</th>\n",
       "      <th>energies</th>\n",
       "      <th>branching ratios</th>\n",
       "    </tr>\n",
       "  </thead>\n",
       "  <tbody>\n",
       "    <tr>\n",
       "      <td>0</td>\n",
       "      <td>BR82</td>\n",
       "      <td>[556, 616, 695, 824, 1039, 1311, 1468]</td>\n",
       "      <td>[0.7170000000000001, 0.43700000000000006, 0.28...</td>\n",
       "    </tr>\n",
       "    <tr>\n",
       "      <td>1</td>\n",
       "      <td>K42</td>\n",
       "      <td>[1518]</td>\n",
       "      <td>[0.1808]</td>\n",
       "    </tr>\n",
       "    <tr>\n",
       "      <td>2</td>\n",
       "      <td>ZN71</td>\n",
       "      <td>[508]</td>\n",
       "      <td>[0.287]</td>\n",
       "    </tr>\n",
       "    <tr>\n",
       "      <td>3</td>\n",
       "      <td>SE Unidentified</td>\n",
       "      <td>[1724]</td>\n",
       "      <td>[[None]]</td>\n",
       "    </tr>\n",
       "    <tr>\n",
       "      <td>4</td>\n",
       "      <td>NA24</td>\n",
       "      <td>[1362]</td>\n",
       "      <td>[0.999936]</td>\n",
       "    </tr>\n",
       "    <tr>\n",
       "      <td>5</td>\n",
       "      <td>TE131</td>\n",
       "      <td>[653]</td>\n",
       "      <td>[0.0418]</td>\n",
       "    </tr>\n",
       "    <tr>\n",
       "      <td>6</td>\n",
       "      <td>AC228</td>\n",
       "      <td>[773]</td>\n",
       "      <td>[0.0149]</td>\n",
       "    </tr>\n",
       "  </tbody>\n",
       "</table>\n",
       "</div>"
      ],
      "text/plain": [
       "          isotopes                                energies  \\\n",
       "0             BR82  [556, 616, 695, 824, 1039, 1311, 1468]   \n",
       "1              K42                                  [1518]   \n",
       "2             ZN71                                   [508]   \n",
       "3  SE Unidentified                                  [1724]   \n",
       "4             NA24                                  [1362]   \n",
       "5            TE131                                   [653]   \n",
       "6            AC228                                   [773]   \n",
       "\n",
       "                                    branching ratios  \n",
       "0  [0.7170000000000001, 0.43700000000000006, 0.28...  \n",
       "1                                           [0.1808]  \n",
       "2                                            [0.287]  \n",
       "3                                           [[None]]  \n",
       "4                                         [0.999936]  \n",
       "5                                           [0.0418]  \n",
       "6                                           [0.0149]  "
      ]
     },
     "execution_count": 430,
     "metadata": {},
     "output_type": "execute_result"
    }
   ],
   "source": [
    "iso_dfs[0]"
   ]
  },
  {
   "cell_type": "code",
   "execution_count": 389,
   "metadata": {},
   "outputs": [
    {
     "name": "stdout",
     "output_type": "stream",
     "text": [
      "[1364, 1364, 1364, 1364, 1364, 1364, 1364, 1364, 1364, 1364]\n",
      "10\n"
     ]
    }
   ],
   "source": [
    "na_energies=[]\n",
    "for i in range(len(cal_specs1)):\n",
    "    na_energies.append(1364)\n",
    "print((na_energies))\n",
    "print(len(cal_specs1))"
   ]
  },
  {
   "cell_type": "code",
   "execution_count": 431,
   "metadata": {},
   "outputs": [],
   "source": [
    "na_energies2=[]\n",
    "for i in range(len(cal_specs2)):\n",
    "    na_energies2.append(1364)\n",
    "\n",
    "na_energies3=[]\n",
    "for i in range(len(cal_specs3)):\n",
    "    na_energies3.append(1364)"
   ]
  },
  {
   "cell_type": "code",
   "execution_count": 400,
   "metadata": {},
   "outputs": [
    {
     "name": "stderr",
     "output_type": "stream",
     "text": [
      "C:\\Users\\Daniel\\Anaconda3\\lib\\site-packages\\becquerel-0.2.4-py3.7.egg\\becquerel\\core\\spectrum.py:726: SpectrumWarning: Subtraction of counts-based specta, spectra have been converted to CPS\n",
      "  'have been converted to CPS', SpectrumWarning)\n"
     ]
    }
   ],
   "source": [
    "counts30 = []\n",
    "uncertainties30 =[]\n",
    "for i in range(len(cal_specs1)):\n",
    "    icounts, iuncertainties = am.get_counts(cal_specs1[i],bg_spec,[na_energies[i]])\n",
    "    counts30.append(icounts)\n",
    "    uncertainties30.append(iuncertainties)"
   ]
  },
  {
   "cell_type": "code",
   "execution_count": 432,
   "metadata": {},
   "outputs": [
    {
     "name": "stderr",
     "output_type": "stream",
     "text": [
      "C:\\Users\\Daniel\\Anaconda3\\lib\\site-packages\\becquerel-0.2.4-py3.7.egg\\becquerel\\core\\spectrum.py:726: SpectrumWarning: Subtraction of counts-based specta, spectra have been converted to CPS\n",
      "  'have been converted to CPS', SpectrumWarning)\n"
     ]
    }
   ],
   "source": [
    "counts03 = []\n",
    "uncertainties03 = []\n",
    "counts24 =[]\n",
    "uncertainties24 = []\n",
    "for i in range(len(cal_specs2)):\n",
    "    icounts, iuncertainties = am.get_counts(cal_specs2[i],bg_spec,[na_energies2[i]])\n",
    "    counts03.append(icounts)\n",
    "    uncertainties03.append(iuncertainties)\n",
    "\n",
    "for i in range(len(cal_specs3)):\n",
    "    icounts, iuncertainties = am.get_counts(cal_specs3[i],bg_spec,[na_energies3[i]])\n",
    "    counts24.append(icounts)\n",
    "    uncertainties24.append(iuncertainties)\n"
   ]
  },
  {
   "cell_type": "code",
   "execution_count": 401,
   "metadata": {
    "scrolled": false
   },
   "outputs": [
    {
     "name": "stdout",
     "output_type": "stream",
     "text": [
      "[array([39203.07436179]), array([16088.33160133]), array([21663.21308646]), array([25039.90507205]), array([21936.69353382]), array([10648.65893519]), array([22459.44636496]), array([12904.13623936]), array([8864.73613622]), array([169287.69023292])]\n",
      "[array([346.19669573]), array([348.21778254]), array([21663.21308646]), array([205.18933448]), array([204.41266994]), array([10648.65893519]), array([195.82703079]), array([127.75987486]), array([98.59799803]), array([2454.65327232])]\n"
     ]
    }
   ],
   "source": [
    "print(counts30)#convert to cps\n",
    "print(uncertainties30)"
   ]
  },
  {
   "cell_type": "code",
   "execution_count": 312,
   "metadata": {
    "scrolled": true
   },
   "outputs": [
    {
     "name": "stdout",
     "output_type": "stream",
     "text": [
      "2019-11-13 16:22:08\n",
      "2019-11-14 10:23:52\n",
      "2019-11-18 11:59:26\n"
     ]
    }
   ],
   "source": [
    "print(cal_specs[0].start_time)\n",
    "print(cal_specs[1].start_time)\n",
    "print(cal_specs[2].start_time)"
   ]
  },
  {
   "cell_type": "code",
   "execution_count": 402,
   "metadata": {
    "scrolled": true
   },
   "outputs": [
    {
     "name": "stdout",
     "output_type": "stream",
     "text": [
      "[array([21.77948576]), array([8.937962]), array([12.03511838]), array([13.91105837]), array([12.18705196]), array([5.91592163]), array([12.4774702]), array([7.16896458]), array([4.92485341]), array([94.0487168])]\n",
      "[array([0.1923315]), array([0.19345432]), array([12.03511838]), array([0.11399407]), array([0.11356259]), array([5.91592163]), array([0.10879279]), array([0.07097771]), array([0.05477667]), array([1.36369626])]\n"
     ]
    }
   ],
   "source": [
    "cps=[]\n",
    "uncs =[]\n",
    "for i in range(len(cal_specs1)):\n",
    "    cps.append(counts30[i]/cal_specs1[i].livetime)\n",
    "    uncs.append(uncertainties30[i]/cal_specs1[i].livetime)\n",
    "print(cps)\n",
    "print(uncs)"
   ]
  },
  {
   "cell_type": "code",
   "execution_count": 443,
   "metadata": {},
   "outputs": [
    {
     "name": "stdout",
     "output_type": "stream",
     "text": [
      "[array([0.05544571]), array([0.00742469]), array([0.00140737]), array([0.00034563]), array([0.]), array([0.]), array([0.]), array([0.]), array([0.]), array([0.00021444])]\n"
     ]
    }
   ],
   "source": [
    "cps2 =[]\n",
    "uncs2 =[]\n",
    "cps3 =[]\n",
    "uncs3 = []\n",
    "\n",
    "for i in range(len(cal_specs2)):\n",
    "    cps2.append(counts03[i]/cal_specs2[i].livetime)\n",
    "    uncs2.append(uncertainties03[i]/cal_specs2[i].livetime)\n",
    "    \n",
    "for i in range(len(cal_specs3)):\n",
    "    cps3.append(counts24[i]/cal_specs3[i].livetime)\n",
    "    uncs3.append(uncertainties24[i]/cal_specs3[i].livetime)\n",
    "    \n",
    "print(cps3)"
   ]
  },
  {
   "cell_type": "code",
   "execution_count": 434,
   "metadata": {},
   "outputs": [
    {
     "name": "stdout",
     "output_type": "stream",
     "text": [
      "[4355, 1787, 2407, 2782, 2437, 1183, 2495, 1433, 984, 18809]\n",
      "[38, 38, 2407, 22, 22, 1183, 21, 14, 10, 272]\n"
     ]
    }
   ],
   "source": [
    "ϵ = .005\n",
    "br = 1\n",
    "A1=[]\n",
    "unc1 = []\n",
    "for i in range(len(counts30)):\n",
    "    A1.append(am.iso_activity(cps[i],br,ϵ))\n",
    "    unc1.append(am.iso_activity(uncs[i],br,ϵ))\n",
    "    \n",
    "A1 = [int(i) for i in A]\n",
    "unc1=[int(i) for i in unc]\n",
    "print(A1)\n",
    "print(unc1)"
   ]
  },
  {
   "cell_type": "code",
   "execution_count": 442,
   "metadata": {},
   "outputs": [
    {
     "name": "stdout",
     "output_type": "stream",
     "text": [
      "[1712, 700, 808, 785, 626, 222, 356, 180, 113, 1852]\n",
      "[11, 1, 0, 0, 0, 0, 0, 0, 0, 0]\n"
     ]
    }
   ],
   "source": [
    "A2=[]\n",
    "unc2 = []\n",
    "A3 = []\n",
    "unc3 =[]\n",
    "for i in range(len(counts03)):\n",
    "    A2.append(am.iso_activity(cps2[i],br,ϵ))\n",
    "    unc2.append(am.iso_activity(uncs2[i],br,ϵ))\n",
    "    \n",
    "A2 = [int(i) for i in A2]\n",
    "unc2=[int(i) for i in unc2]\n",
    "\n",
    "for i in range(len(counts24)):\n",
    "    A3.append(am.iso_activity(cps3[i],br,ϵ))\n",
    "    unc3.append(am.iso_activity(uncs3[i],br,ϵ))\n",
    "    \n",
    "A3 = [int(i) for i in A3]\n",
    "unc3=[int(i) for i in unc3]\n",
    "\n",
    "print(A2)\n",
    "print(A3)"
   ]
  },
  {
   "cell_type": "code",
   "execution_count": 404,
   "metadata": {},
   "outputs": [],
   "source": [
    "t0 = cal_specs[0].start_time.timestamp() - (4*24*60*60)"
   ]
  },
  {
   "cell_type": "code",
   "execution_count": 437,
   "metadata": {},
   "outputs": [
    {
     "name": "stdout",
     "output_type": "stream",
     "text": [
      "[345600.0, 347680.0, 349797.0, 352922.0, 355619.0, 357962.0, 359898.0, 362325.0, 364283.0, 366355.0]\n"
     ]
    }
   ],
   "source": [
    "dts=[]\n",
    "dts2 = []\n",
    "dts3 = []\n",
    "for i in range(len(cal_specs1)):\n",
    "    dts.append(am.get_dt(cal_specs1[i],t0))\n",
    "print(dts)\n",
    "\n",
    "for i in range(len(cal_specs2)):\n",
    "    dts2.append(am.get_dt(cal_specs2[i],t0))\n",
    "    \n",
    "for i in range(len(cal_specs3)):\n",
    "    dts3.append(am.get_dt(cal_specs3[i],t0))"
   ]
  },
  {
   "cell_type": "code",
   "execution_count": 408,
   "metadata": {},
   "outputs": [],
   "source": [
    "flux = 2*10**11 \n",
    "Tirrad = 1 *3600 #sec\n",
    "hl_na24 = 14.9 *3600 #sec\n",
    "xs_na24 = 0.531399 * (1*10**-24)\n",
    "M_A = 22.989769 #g/mol\n",
    "sample_wt = 1 #g\n",
    "iso_abundance =1 #100% na23"
   ]
  },
  {
   "cell_type": "code",
   "execution_count": 305,
   "metadata": {},
   "outputs": [
    {
     "name": "stdout",
     "output_type": "stream",
     "text": [
      "378887.5013053494 +/- 3306.0218253968487\n",
      "344564.0234349938 5434.128874266841\n"
     ]
    }
   ],
   "source": [
    "a0 =A[0]* m.exp(m.log(2)/hl_na24 * dt0)\n",
    "a1 = A[1]* m.exp(m.log(2)/hl_na24 * dt1)\n",
    "unc0 =unc[0]* m.exp(m.log(2)/hl_na24 * dt0)\n",
    "unc1 = unc[1]* m.exp(m.log(2)/hl_na24 * dt1)\n",
    "print(a0,\"+/-\",unc0)\n",
    "print(a1,unc1)"
   ]
  },
  {
   "cell_type": "code",
   "execution_count": 306,
   "metadata": {},
   "outputs": [
    {
     "name": "stdout",
     "output_type": "stream",
     "text": [
      "0.002925595061979251\n"
     ]
    }
   ],
   "source": [
    "na_weight0 = element_weight(A[0], M_A,iso_abundance,hl_na24,flux,xs_na24,Tirrad,dt0)\n",
    "na_weight1 = element_weight(A[1], M_A,iso_abundance,hl_na24,flux,xs_na24,Tirrad,dt1)\n",
    "na_weight2 = element_weight(A[2], M_A,iso_abundance,hl_na24,flux,xs_na24,Tirrad,dt2)\n",
    "print(na_weight0,na_weight1,na_weight2)"
   ]
  },
  {
   "cell_type": "code",
   "execution_count": 409,
   "metadata": {},
   "outputs": [],
   "source": [
    "na_ppm =[]\n",
    "na_uncs =[]\n",
    "for i in range(len(A)):\n",
    "    na_ppm.append(am.element_weight(A[i],M_A,iso_abundance,hl_na24,flux,xs_na24,Tirrad,dts[i])*1000000)\n",
    "    na_uncs.append(am.element_weight(unc[i],M_A,iso_abundance,hl_na24,flux,xs_na24,Tirrad,dts[i])*1000000)"
   ]
  },
  {
   "cell_type": "code",
   "execution_count": 446,
   "metadata": {},
   "outputs": [
    {
     "name": "stdout",
     "output_type": "stream",
     "text": [
      "[25.527580334147316, 26.22301970889546, 1707.087925089432, 16.24576309713092, 16.821929026227576, 932.3669644961145, 16.970175862142682, 11.673887739612315, 8.552160790369271, 238.93122789544972]\n"
     ]
    }
   ],
   "source": [
    "print(na_uncs)"
   ]
  },
  {
   "cell_type": "code",
   "execution_count": 427,
   "metadata": {},
   "outputs": [],
   "source": [
    "samples = [\"Petrale Sole 1\",\"Halibut\",\"Tilapia\",\"Rockfish\",\"Rock Cod\",\"Catfish\",\"Petrale Sole 2\", \"Wild King Salmon\",\"Swordfish\",\"Oyster\"]"
   ]
  },
  {
   "cell_type": "code",
   "execution_count": 456,
   "metadata": {},
   "outputs": [
    {
     "data": {
      "text/plain": [
       "Text(0, 0.5, 'Amount Na(PPM)')"
      ]
     },
     "execution_count": 456,
     "metadata": {},
     "output_type": "execute_result"
    },
    {
     "data": {
      "image/png": "[encoded data removed]",
      "text/plain": [
       "<Figure size 432x288 with 1 Axes>"
      ]
     },
     "metadata": {
      "needs_background": "light"
     },
     "output_type": "display_data"
    }
   ],
   "source": [
    "fig,ax=plt.subplots()\n",
    "plt.errorbar(samples,na_ppm,yerr = na_uncs,linestyle = \"None\", marker = \"o\",markersize = 5, capsize = 5, markerfacecolor =\"m\")\n",
    "plt.title(\"Sodium PPM in Fish Samples for 30min Measurements\")\n",
    "plt.grid(True)\n",
    "ax.tick_params(axis='x', rotation=45)\n",
    "plt.xlabel(\"Samples\")\n",
    "plt.ylabel(\"Amount Na(PPM)\")"
   ]
  },
  {
   "cell_type": "code",
   "execution_count": 438,
   "metadata": {},
   "outputs": [],
   "source": [
    "na_ppm2 =[]\n",
    "na_uncs2 =[]\n",
    "na_ppm3 = []\n",
    "na_uncs3 =[]\n",
    "for i in range(len(A2)):\n",
    "    na_ppm2.append(am.element_weight(A2[i],M_A,iso_abundance,hl_na24,flux,xs_na24,Tirrad,dts2[i])*1000000)\n",
    "    na_uncs2.append(am.element_weight(unc2[i],M_A,iso_abundance,hl_na24,flux,xs_na24,Tirrad,dts2[i])*1000000)\n",
    "    \n",
    "for i in range(len(A3)):\n",
    "    na_ppm3.append(am.element_weight(A3[i],M_A,iso_abundance,hl_na24,flux,xs_na24,Tirrad,dts3[i])*1000000)\n",
    "    na_uncs3.append(am.element_weight(unc3[i],M_A,iso_abundance,hl_na24,flux,xs_na24,Tirrad,dts3[i])*1000000)"
   ]
  },
  {
   "cell_type": "code",
   "execution_count": 453,
   "metadata": {},
   "outputs": [
    {
     "data": {
      "text/plain": [
       "Text(0, 0.5, 'Amount Na(PPM)')"
      ]
     },
     "execution_count": 453,
     "metadata": {},
     "output_type": "execute_result"
    },
    {
     "data": {
      "image/png": "[encoded data removed]",
      "text/plain": [
       "<Figure size 432x288 with 1 Axes>"
      ]
     },
     "metadata": {
      "needs_background": "light"
     },
     "output_type": "display_data"
    }
   ],
   "source": [
    "fig,ax=plt.subplots()\n",
    "plt.errorbar(samples,na_ppm2,yerr = na_uncs2,linestyle = \"None\", marker = \"o\",markersize = 5, capsize = 5,markerfacecolor =\"r\")\n",
    "plt.title(\"Sodium PPM in Fish Samples for 3 Hr Measurements\")\n",
    "plt.grid(True)\n",
    "ax.tick_params(axis='x', rotation=45)\n",
    "plt.xlabel(\"Samples\")\n",
    "plt.ylabel(\"Amount Na(PPM)\")"
   ]
  },
  {
   "cell_type": "code",
   "execution_count": 454,
   "metadata": {},
   "outputs": [
    {
     "data": {
      "text/plain": [
       "Text(0, 0.5, 'Amount Na(PPM)')"
      ]
     },
     "execution_count": 454,
     "metadata": {},
     "output_type": "execute_result"
    },
    {
     "data": {
      "image/png": "[encoded data removed]",
      "text/plain": [
       "<Figure size 432x288 with 1 Axes>"
      ]
     },
     "metadata": {
      "needs_background": "light"
     },
     "output_type": "display_data"
    }
   ],
   "source": [
    "fig,ax=plt.subplots()\n",
    "plt.errorbar(samples,na_ppm3,yerr = na_uncs3,linestyle = \"None\", marker = \"o\",markersize = 5, capsize = 5, markerfacecolor =\"c\")\n",
    "plt.title(\"Sodium PPM in Fish Samples for 24 Hr Measurements\")\n",
    "plt.grid(True)\n",
    "ax.tick_params(axis='x', rotation=45)\n",
    "plt.xlabel(\"Samples\")\n",
    "plt.ylabel(\"Amount Na(PPM)\")"
   ]
  },
  {
   "cell_type": "code",
   "execution_count": 479,
   "metadata": {},
   "outputs": [
    {
     "data": {
      "image/png": "[encoded data removed]",
      "text/plain": [
       "<Figure size 1080x576 with 1 Axes>"
      ]
     },
     "metadata": {
      "needs_background": "light"
     },
     "output_type": "display_data"
    }
   ],
   "source": [
    "fig, ax = plt.subplots()\n",
    "X = np.arange(len(samples))\n",
    "ax.bar(X + 0.00, na_ppm, yerr = na_uncs, color = 'r', width = 0.35, capsize =2, label =\"Na (ppm) 30 min\")\n",
    "ax.bar(X + 0.30, na_ppm2, yerr = na_uncs2, color = 'm', width = 0.35, capsize = 2, label = \"Na (ppm) 3 Hr\")\n",
    "ax.bar(X + 0.60, na_ppm3,yerr =na_uncs3, color = 'c', width = 0.35, capsize =2, label = \"Na (ppm) 24 Hr\")\n",
    "plt.grid(True)\n",
    "ax.set_xticks(X)\n",
    "ax.set_xticklabels(samples)\n",
    "ax.tick_params(axis='x', rotation=45)\n",
    "plt.ylabel(\"Na Concentration (ppm)\")\n",
    "plt.title(\"Na Concentration (ppm) across all samples\")\n",
    "plt.legend()\n",
    "fig.set_size_inches(15, 8)"
   ]
  },
  {
   "cell_type": "code",
   "execution_count": 162,
   "metadata": {},
   "outputs": [
    {
     "ename": "TypeError",
     "evalue": "'numpy.float64' object is not iterable",
     "output_type": "error",
     "traceback": [
      "\u001b[1;31m---------------------------------------------------------------------------\u001b[0m",
      "\u001b[1;31mTypeError\u001b[0m                                 Traceback (most recent call last)",
      "\u001b[1;32m<ipython-input-162-01044e478d8f>\u001b[0m in \u001b[0;36m<module>\u001b[1;34m\u001b[0m\n\u001b[1;32m----> 1\u001b[1;33m \u001b[0mplot_peak_region\u001b[0m\u001b[1;33m(\u001b[0m\u001b[0mcal_specs\u001b[0m\u001b[1;33m[\u001b[0m\u001b[1;36m0\u001b[0m\u001b[1;33m]\u001b[0m\u001b[1;33m,\u001b[0m\u001b[0menergies\u001b[0m\u001b[1;33m[\u001b[0m\u001b[1;36m0\u001b[0m\u001b[1;33m]\u001b[0m\u001b[1;33m)\u001b[0m\u001b[1;33m\u001b[0m\u001b[1;33m\u001b[0m\u001b[0m\n\u001b[0m",
      "\u001b[1;32m<ipython-input-144-7f1bb47cd789>\u001b[0m in \u001b[0;36mplot_peak_region\u001b[1;34m(spectrum, source_energies)\u001b[0m\n\u001b[0;32m      1\u001b[0m \u001b[1;32mdef\u001b[0m \u001b[0mplot_peak_region\u001b[0m\u001b[1;33m(\u001b[0m\u001b[0mspectrum\u001b[0m\u001b[1;33m,\u001b[0m\u001b[0msource_energies\u001b[0m\u001b[1;33m)\u001b[0m\u001b[1;33m:\u001b[0m \u001b[1;31m#ruiqi code!\u001b[0m\u001b[1;33m\u001b[0m\u001b[1;33m\u001b[0m\u001b[0m\n\u001b[1;32m----> 2\u001b[1;33m     \u001b[0mroi\u001b[0m\u001b[1;33m.\u001b[0m\u001b[0mfind_peak_energies\u001b[0m\u001b[1;33m(\u001b[0m\u001b[1;33m)\u001b[0m\u001b[1;33m\u001b[0m\u001b[1;33m\u001b[0m\u001b[0m\n\u001b[0m\u001b[0;32m      3\u001b[0m     \u001b[0mtarget_peaks\u001b[0m \u001b[1;33m=\u001b[0m \u001b[0mroi\u001b[0m\u001b[1;33m.\u001b[0m\u001b[0mtarget_peaks\u001b[0m\u001b[1;33m\u001b[0m\u001b[1;33m\u001b[0m\u001b[0m\n\u001b[0;32m      4\u001b[0m     \u001b[0mprint\u001b[0m\u001b[1;33m(\u001b[0m\u001b[0mtarget_peaks\u001b[0m\u001b[1;33m)\u001b[0m\u001b[1;33m\u001b[0m\u001b[1;33m\u001b[0m\u001b[0m\n\u001b[0;32m      5\u001b[0m     \u001b[1;32mfor\u001b[0m \u001b[0mi\u001b[0m\u001b[1;33m,\u001b[0m\u001b[0mj\u001b[0m\u001b[1;33m,\u001b[0m\u001b[0misotope\u001b[0m \u001b[1;32min\u001b[0m \u001b[0mzip\u001b[0m\u001b[1;33m(\u001b[0m\u001b[0msource_energies\u001b[0m\u001b[1;33m,\u001b[0m\u001b[0mtarget_peaks\u001b[0m\u001b[1;33m,\u001b[0m\u001b[0msource_isotopes\u001b[0m\u001b[1;33m)\u001b[0m\u001b[1;33m:\u001b[0m\u001b[1;33m\u001b[0m\u001b[1;33m\u001b[0m\u001b[0m\n",
      "\u001b[1;32m~\\Desktop\\Radwatch\\radwatch-analysis\\ROI.py\u001b[0m in \u001b[0;36mfind_peak_energies\u001b[1;34m(self)\u001b[0m\n\u001b[0;32m     29\u001b[0m \u001b[1;33m\u001b[0m\u001b[0m\n\u001b[0;32m     30\u001b[0m         \u001b[1;32mdef\u001b[0m \u001b[0mfind_peak_energies\u001b[0m \u001b[1;33m(\u001b[0m\u001b[0mself\u001b[0m\u001b[1;33m)\u001b[0m\u001b[1;33m:\u001b[0m\u001b[1;33m\u001b[0m\u001b[1;33m\u001b[0m\u001b[0m\n\u001b[1;32m---> 31\u001b[1;33m                 \u001b[1;32mfor\u001b[0m \u001b[0mi\u001b[0m\u001b[1;33m,\u001b[0m \u001b[0mtarget_peak\u001b[0m \u001b[1;32min\u001b[0m \u001b[0menumerate\u001b[0m\u001b[1;33m(\u001b[0m\u001b[0mself\u001b[0m\u001b[1;33m.\u001b[0m\u001b[0mtarget_peaks\u001b[0m\u001b[1;33m)\u001b[0m\u001b[1;33m:\u001b[0m\u001b[1;33m\u001b[0m\u001b[1;33m\u001b[0m\u001b[0m\n\u001b[0m\u001b[0;32m     32\u001b[0m                         \u001b[0midx\u001b[0m \u001b[1;33m=\u001b[0m \u001b[1;33m(\u001b[0m\u001b[0mself\u001b[0m\u001b[1;33m.\u001b[0m\u001b[0mspec\u001b[0m\u001b[1;33m.\u001b[0m\u001b[0menergies_kev\u001b[0m \u001b[1;33m>\u001b[0m \u001b[0mtarget_peak\u001b[0m\u001b[1;33m+\u001b[0m\u001b[0mself\u001b[0m\u001b[1;33m.\u001b[0m\u001b[0mwindow\u001b[0m\u001b[1;33m[\u001b[0m\u001b[1;36m1\u001b[0m\u001b[1;33m,\u001b[0m\u001b[1;36m0\u001b[0m\u001b[1;33m]\u001b[0m\u001b[1;33m*\u001b[0m\u001b[0mself\u001b[0m\u001b[1;33m.\u001b[0m\u001b[0mdelta_E\u001b[0m\u001b[1;33m)\u001b[0m\u001b[1;33m*\u001b[0m\u001b[1;33m(\u001b[0m\u001b[0mself\u001b[0m\u001b[1;33m.\u001b[0m\u001b[0mspec\u001b[0m\u001b[1;33m.\u001b[0m\u001b[0menergies_kev\u001b[0m \u001b[1;33m<\u001b[0m \u001b[0mtarget_peak\u001b[0m\u001b[1;33m+\u001b[0m\u001b[0mself\u001b[0m\u001b[1;33m.\u001b[0m\u001b[0mwindow\u001b[0m\u001b[1;33m[\u001b[0m\u001b[1;36m1\u001b[0m\u001b[1;33m,\u001b[0m\u001b[1;36m1\u001b[0m\u001b[1;33m]\u001b[0m\u001b[1;33m*\u001b[0m\u001b[0mself\u001b[0m\u001b[1;33m.\u001b[0m\u001b[0mdelta_E\u001b[0m\u001b[1;33m)\u001b[0m\u001b[1;33m\u001b[0m\u001b[1;33m\u001b[0m\u001b[0m\n\u001b[0;32m     33\u001b[0m                         \u001b[0mbins\u001b[0m \u001b[1;33m=\u001b[0m \u001b[0mnp\u001b[0m\u001b[1;33m.\u001b[0m\u001b[0mwhere\u001b[0m\u001b[1;33m(\u001b[0m\u001b[0midx\u001b[0m\u001b[1;33m)\u001b[0m\u001b[1;33m\u001b[0m\u001b[1;33m\u001b[0m\u001b[0m\n",
      "\u001b[1;31mTypeError\u001b[0m: 'numpy.float64' object is not iterable"
     ]
    }
   ],
   "source": [
    "plot_peak_region(cal_specs[0],energies[0])"
   ]
  },
  {
   "cell_type": "code",
   "execution_count": 127,
   "metadata": {},
   "outputs": [],
   "source": [
    "#sample_energies(spec_01_30,spec_01_03,spec_01_24, bg_spec,ecal_filename)\n",
    "#be able to catch the energy that isn't working and remove it until it works\n",
    "#run isotope analyzer on these lists of energies\n",
    "#focus on sodium isotope counts from its peak on many spectra, concentration caluculation for each spectra serparately (diff time of irradiation and measuring)"
   ]
  },
  {
   "cell_type": "code",
   "execution_count": 193,
   "metadata": {},
   "outputs": [
    {
     "data": {
      "text/plain": [
       "[array([ 508.36293069,  556.60889225,  616.28152893,  653.73563067,\n",
       "         695.31603176,  773.08090402,  824.18353436, 1039.7033232 ,\n",
       "        1311.72167229, 1362.82430263, 1468.52104738, 1518.67145479,\n",
       "        1724.98642202, 2234.10827959]),\n",
       " array([ 2079.60564416,  3344.05889826,  1281.76350298,   435.55370209,\n",
       "          823.22236905,  2244.95509005,   649.31358995,   640.3868777 ,\n",
       "          580.99214977, 39199.70657593,   291.56917885,   765.29528004,\n",
       "         1382.09446878,  3094.69676829])]"
      ]
     },
     "execution_count": 193,
     "metadata": {},
     "output_type": "execute_result"
    }
   ],
   "source": [
    "matrix = [nrgs_01_30,pc_01_03]\n",
    "matrix"
   ]
  }
 ],
 "metadata": {
  "kernelspec": {
   "display_name": "Python 3",
   "language": "python",
   "name": "python3"
  },
  "language_info": {
   "codemirror_mode": {
    "name": "ipython",
    "version": 3
   },
   "file_extension": ".py",
   "mimetype": "text/x-python",
   "name": "python",
   "nbconvert_exporter": "python",
   "pygments_lexer": "ipython3",
   "version": "3.7.4"
  }
 },
 "nbformat": 4,
 "nbformat_minor": 2
}

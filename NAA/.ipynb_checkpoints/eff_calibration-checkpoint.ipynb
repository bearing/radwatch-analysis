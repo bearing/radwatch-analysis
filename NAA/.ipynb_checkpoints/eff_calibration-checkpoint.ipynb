{
 "cells": [
  {
   "cell_type": "code",
   "execution_count": 1,
   "metadata": {},
   "outputs": [],
   "source": [
    "from becquerel import Spectrum\n",
    "import numpy as np\n",
    "import matplotlib.pyplot as plt\n",
    "import becquerel as bq\n",
    "import scipy.integrate as integrate\n",
    "import math as m\n",
    "import importlib\n",
    "import os"
   ]
  },
  {
   "cell_type": "code",
   "execution_count": 2,
   "metadata": {},
   "outputs": [
    {
     "name": "stderr",
     "output_type": "stream",
     "text": [
      "C:\\Users\\Daniel\\Anaconda3\\lib\\site-packages\\html5lib\\_trie\\_base.py:3: DeprecationWarning: Using or importing the ABCs from 'collections' instead of from 'collections.abc' is deprecated, and in 3.8 it will stop working\n",
      "  from collections import Mapping\n"
     ]
    },
    {
     "data": {
      "text/plain": [
       "<module 'analysis_methods' from '..\\\\analysis_methods.py'>"
      ]
     },
     "execution_count": 2,
     "metadata": {},
     "output_type": "execute_result"
    }
   ],
   "source": [
    "import sys\n",
    "sys.path.append(\"../\")\n",
    "import PF\n",
    "import ROI\n",
    "import analysis_methods as am\n",
    "importlib.reload(PF)\n",
    "importlib.reload(ROI)\n",
    "importlib.reload(am)"
   ]
  },
  {
   "cell_type": "code",
   "execution_count": 3,
   "metadata": {},
   "outputs": [],
   "source": [
    "def f_near(a,a0):\n",
    "    idx = np.abs(a-a0).argmin()\n",
    "    return idx\n",
    "        \n",
    "def plot_peak_region(spectrum,source_energies,source_isotopes):\n",
    "    roi.find_peak_energies()\n",
    "    target_peaks = roi.target_peaks\n",
    "    print(target_peaks)\n",
    "    for i,j,isotope in zip(source_energies,target_peaks,source_isotopes):\n",
    "        spec = spectrum\n",
    "        counts = spec.counts_vals\n",
    "        energies = spec.energies_kev\n",
    "        idx = f_near(energies,i) \n",
    "        roi_low = idx - 50\n",
    "        roi_high = idx + 50\n",
    "\n",
    "        plot_counts = counts[roi_low:roi_high]\n",
    "        plot_energies = energies[roi_low:roi_high]\n",
    "\n",
    "        roi_low_bins,roi_peak_bins,roi_high_bins = roi.get_roi_windows(j)\n",
    "        rlow = roi_low_bins[0][0]\n",
    "        rhi = roi_high_bins[0][-1]\n",
    "        plot_counts = counts[rlow:rhi]\n",
    "        plot_energies = energies[rlow:rhi]\n",
    "\n",
    "        rlow = roi_low_bins[0][0]\n",
    "        rhi = roi_low_bins[0][-1]\n",
    "        low_counts = counts[rlow:rhi]\n",
    "        low_energies = energies[rlow:rhi]\n",
    "\n",
    "        rlow = roi_high_bins[0][0]\n",
    "        rhi = roi_high_bins[0][-1]\n",
    "        high_counts = counts[rlow:rhi]\n",
    "        high_energies = energies[rlow:rhi]\n",
    "\n",
    "        rlow = roi_peak_bins[0][0]\n",
    "        rhi = roi_peak_bins[0][-1]\n",
    "        peak_counts = counts[rlow:rhi]\n",
    "        peak_energies = energies[rlow:rhi]\n",
    "\n",
    "        fig,ax = plt.subplots()\n",
    "        ax.plot(plot_energies,plot_counts)\n",
    "        ax.fill_between(low_energies,0,low_counts,facecolor = 'green',interpolate=True)\n",
    "        ax.fill_between(high_energies,0,high_counts,facecolor = 'red',interpolate=True)\n",
    "        ax.fill_between(peak_energies,0,peak_counts,facecolor = 'blue',interpolate=True)\n",
    "        ax.set_yscale('log')\n",
    "        plt.title(isotope)\n",
    "        #plt.savefig('isotope %s.png'%isotope,dpi = 200)\n",
    "        \n",
    "def efficiency(roi_result,source_activities,branching_ratio,roi_uncer,activities_uncer):\n",
    "    eff = []\n",
    "    eff_uncer = []\n",
    "    for count,A,br,sigma_c,sigma_A in zip (roi_result,source_activities,branching_ratio,roi_uncer,activities_uncer):\n",
    "        eff.append(count/spec.livetime/A/br)\n",
    "        eff_uncer.append(m.sqrt((sigma_c/A)**2+(count*sigma_A/A**2)**2)/br/spec.livetime)\n",
    "    return eff, eff_uncer"
   ]
  },
  {
   "cell_type": "code",
   "execution_count": 4,
   "metadata": {},
   "outputs": [],
   "source": [
    "def plot_spec(spectrum, xmode='channel'):\n",
    "    if xmode == 'channel':\n",
    "        facecolor = 'green'\n",
    "    else:\n",
    "        facecolor = 'blue'\n",
    "    plt.figure()\n",
    "    spectrum.fill_between(xmode=xmode, facecolor=facecolor, alpha=0.4, ax=plt.gca())\n",
    "    spectrum.plot('k-', lw=0.7, xmode=xmode, ax=plt.gca())\n",
    "    if xmode == 'channel':\n",
    "        plt.xlim(0, spectrum.bin_edges_raw.max())\n",
    "        plt.title('Uncalibrated spectrum')\n",
    "    else:\n",
    "        plt.xlim(0, spectrum.energies_kev[-1])\n",
    "        plt.title('Calibrated spectrum')\n",
    "    plt.yscale('log')\n",
    "    plt.ylim(2e-1)\n",
    "    plt.tight_layout()\n",
    "def plot_calibrator(cal):\n",
    "    cal.peakfinder.spectrum.apply_calibration(cal.cal)\n",
    "    print('fit gain:', cal.gain, 'keV/channel')\n",
    "    print('fit channels:', cal.fit_channels)\n",
    "\n",
    "    plt.figure()\n",
    "    plt.title('Peaks used in fit')\n",
    "    cal.plot()\n",
    "    plt.tight_layout()\n",
    "    #plt.savefig('peaks used in fit.png',dpi = 200)\n",
    "\n",
    "    plot_spec(cal.peakfinder.spectrum, xmode='channel')\n",
    "    for x, erg in zip(cal.fit_channels, cal.fit_energies):\n",
    "        chan = cal.peakfinder.spectrum.find_bin_index(x, use_kev=False)\n",
    "        y = cal.peakfinder.spectrum.counts_vals[chan-10:chan+10].max() * 1.5\n",
    "        plt.plot([x, x], [1e-1, y], 'r-', alpha=0.5)\n",
    "        plt.text(x, y, '{:.1f} keV'.format(erg))\n",
    "    #plt.savefig('Uncal spec.png',dpi = 200)\n",
    "\n",
    "\n",
    "    plot_spec(cal.peakfinder.spectrum, xmode='energy')\n",
    "    for erg in cal.fit_energies:\n",
    "        x = int(erg / cal.gain)\n",
    "        chan = cal.peakfinder.spectrum.find_bin_index(x, use_kev=False)\n",
    "        y = cal.peakfinder.spectrum.counts_vals[chan-15:chan+15].max() * 1.5\n",
    "        plt.plot([erg, erg], [1e-1, y], 'r-', alpha=0.5)\n",
    "        plt.text(erg, y, '{:.1f} keV'.format(erg))\n",
    "    #plt.savefig('cal spec.png',dpi=200)\n",
    "        \n",
    "        \n"
   ]
  },
  {
   "cell_type": "code",
   "execution_count": 5,
   "metadata": {},
   "outputs": [
    {
     "name": "stdout",
     "output_type": "stream",
     "text": [
      "SpeFile: Reading file C:\\Users\\Daniel\\Desktop\\Radwatch\\radwatch-analysis\\NAA_eff_calibration.Spe\n",
      "SpeFile: Reading file C:\\Users\\Daniel\\Desktop\\Radwatch\\radwatch-analysis\\background-long.Spe\n",
      "SpeFile: Reading file C:\\Users\\Daniel\\Desktop\\Radwatch\\radwatch-analysis\\E-calibration-Eu152.Spe\n"
     ]
    }
   ],
   "source": [
    "path = r'C:\\Users\\Daniel\\Desktop\\Radwatch\\radwatch-analysis'\n",
    "spec = path + r'\\NAA_eff_calibration.Spe'\n",
    "bg = path + r'\\background-long.Spe'\n",
    "ecal = path + r'\\E-calibration-Eu152.Spe'\n",
    "\n",
    "spec = bq.Spectrum.from_file(spec)\n",
    "bg = bq.Spectrum.from_file(bg)\n",
    "ecal = bq.Spectrum.from_file(ecal)"
   ]
  },
  {
   "cell_type": "code",
   "execution_count": 6,
   "metadata": {},
   "outputs": [],
   "source": [
    "spec.calibrate_like(ecal)\n",
    "bg.calibrate_like(ecal)"
   ]
  },
  {
   "cell_type": "code",
   "execution_count": 7,
   "metadata": {},
   "outputs": [
    {
     "name": "stdout",
     "output_type": "stream",
     "text": [
      "[0.1593382 0.1593382 0.1593382 4.16157  ]\n"
     ]
    }
   ],
   "source": [
    "#Find Lu-176, La-138, K-40\n",
    "source_isotopes = np.array(['Lu_176_1','Lu_176_2','Lu_176_3',\n",
    "                          #'La_138_1','La_138_2',\n",
    "                           'K-40']); #get counts under the peak subtrack the background\n",
    "source_energies = np.array([88.34,201.83,306.78,\n",
    "                           #788.742,1435.795,\n",
    "                           1460.83]);\n",
    "source_activities = np.array([16.259,16.259,16.259,\n",
    "                             #11.646,11.646,\n",
    "                              424.65]);#Bq/L, update this with correct mass, by .0098 g\n",
    "branching_ratio = np.array([0.11,0.86,0.94,\n",
    "                           #0.34,0.66,\n",
    "                           0.11]);\n",
    "activities_uncer = np.array([1.6259,1.6259,1.6259,\n",
    "                            #0.02329,0.02329,\n",
    "                            0.8493])\n",
    "'''The real source energies:\n",
    "Lu-176: 88.34, 201.83, 306.78\n",
    "La-138: 788.742,1435.795\n",
    "K-40: 1460.83'''\n",
    "source_activities = source_activities * .0098 #accounting for NAA sample weight\n",
    "activities_uncer = activities_uncer * .0098\n",
    "print(source_activities)"
   ]
  },
  {
   "cell_type": "code",
   "execution_count": 8,
   "metadata": {},
   "outputs": [
    {
     "name": "stderr",
     "output_type": "stream",
     "text": [
      "c:\\users\\daniel\\desktop\\radwatch\\becquerel\\becquerel\\core\\spectrum.py:726: SpectrumWarning: Subtraction of counts-based specta, spectra have been converted to CPS\n",
      "  'have been converted to CPS', SpectrumWarning)\n"
     ]
    },
    {
     "data": {
      "text/plain": [
       "[<matplotlib.lines.Line2D at 0x2754c6b44c8>]"
      ]
     },
     "execution_count": 8,
     "metadata": {},
     "output_type": "execute_result"
    },
    {
     "data": {
      "image/png": "[encoded data removed]",
      "text/plain": [
       "<Figure size 432x288 with 1 Axes>"
      ]
     },
     "metadata": {
      "needs_background": "light"
     },
     "output_type": "display_data"
    }
   ],
   "source": [
    "spec_sub = spec-bg\n",
    "#spec_sub.plot()\n",
    "plt.plot(spec.bin_centers_kev[70:250],spec_sub.cps_vals[70:250])"
   ]
  },
  {
   "cell_type": "code",
   "execution_count": 9,
   "metadata": {},
   "outputs": [
    {
     "data": {
      "text/plain": [
       "[<matplotlib.lines.Line2D at 0x2754c636a08>]"
      ]
     },
     "execution_count": 9,
     "metadata": {},
     "output_type": "execute_result"
    },
    {
     "data": {
      "image/png": "[encoded data removed]",
      "text/plain": [
       "<Figure size 432x288 with 1 Axes>"
      ]
     },
     "metadata": {
      "needs_background": "light"
     },
     "output_type": "display_data"
    }
   ],
   "source": [
    "plt.plot(spec.bin_centers_kev[70:250],spec.counts_vals[70:250]/spec.livetime - bg.counts_vals[70:250]/bg.livetime)"
   ]
  },
  {
   "cell_type": "code",
   "execution_count": 10,
   "metadata": {},
   "outputs": [
    {
     "data": {
      "text/plain": [
       "[<matplotlib.lines.Line2D at 0x2754c5fdb08>]"
      ]
     },
     "execution_count": 10,
     "metadata": {},
     "output_type": "execute_result"
    },
    {
     "data": {
      "image/png": "[encoded data removed]",
      "text/plain": [
       "<Figure size 432x288 with 1 Axes>"
      ]
     },
     "metadata": {
      "needs_background": "light"
     },
     "output_type": "display_data"
    }
   ],
   "source": [
    "#spec.plot(yscale=\"log\")\n",
    "#np.where(spec.bin_centers_kev>74.9)\n",
    "plt.plot(spec.bin_centers_kev[70:250],spec.counts_vals[70:250])\n",
    "plt.plot(bg.bin_centers_kev[70:250],bg.counts_vals[70:250])"
   ]
  },
  {
   "cell_type": "code",
   "execution_count": 11,
   "metadata": {
    "scrolled": false
   },
   "outputs": [
    {
     "ename": "TypeError",
     "evalue": "set_sideband() missing 1 required positional argument: 'window'",
     "output_type": "error",
     "traceback": [
      "\u001b[1;31m---------------------------------------------------------------------------\u001b[0m",
      "\u001b[1;31mTypeError\u001b[0m                                 Traceback (most recent call last)",
      "\u001b[1;32m<ipython-input-11-e6690288d5e0>\u001b[0m in \u001b[0;36m<module>\u001b[1;34m\u001b[0m\n\u001b[0;32m      2\u001b[0m \u001b[0mdelta_e0\u001b[0m \u001b[1;33m=\u001b[0m \u001b[1;36m8\u001b[0m\u001b[1;33m\u001b[0m\u001b[1;33m\u001b[0m\u001b[0m\n\u001b[0;32m      3\u001b[0m \u001b[0mwindow0\u001b[0m \u001b[1;33m=\u001b[0m \u001b[0mnp\u001b[0m\u001b[1;33m.\u001b[0m\u001b[0marray\u001b[0m\u001b[1;33m(\u001b[0m\u001b[1;33m[\u001b[0m\u001b[1;33m[\u001b[0m\u001b[1;33m-\u001b[0m\u001b[1;36m3.3\u001b[0m\u001b[1;33m,\u001b[0m \u001b[1;33m-\u001b[0m\u001b[1;36m2.6\u001b[0m\u001b[1;33m]\u001b[0m\u001b[1;33m,\u001b[0m \u001b[1;33m[\u001b[0m\u001b[1;33m-\u001b[0m\u001b[1;36m0.4\u001b[0m\u001b[1;33m,\u001b[0m \u001b[1;36m0.6\u001b[0m\u001b[1;33m]\u001b[0m\u001b[1;33m,\u001b[0m \u001b[1;33m[\u001b[0m\u001b[1;36m1.2\u001b[0m\u001b[1;33m,\u001b[0m \u001b[1;36m3.5\u001b[0m\u001b[1;33m]\u001b[0m\u001b[1;33m]\u001b[0m\u001b[1;33m)\u001b[0m\u001b[1;33m\u001b[0m\u001b[1;33m\u001b[0m\u001b[0m\n\u001b[1;32m----> 4\u001b[1;33m \u001b[0mroi\u001b[0m\u001b[1;33m.\u001b[0m\u001b[0mset_sideband\u001b[0m\u001b[1;33m(\u001b[0m\u001b[0mdelta_e0\u001b[0m\u001b[1;33m,\u001b[0m\u001b[0mwindow0\u001b[0m\u001b[1;33m)\u001b[0m\u001b[1;33m\u001b[0m\u001b[1;33m\u001b[0m\u001b[0m\n\u001b[0m\u001b[0;32m      5\u001b[0m \u001b[0mroi\u001b[0m\u001b[1;33m.\u001b[0m\u001b[0mfind_peak_energies\u001b[0m\u001b[1;33m(\u001b[0m\u001b[1;33m)\u001b[0m\u001b[1;33m\u001b[0m\u001b[1;33m\u001b[0m\u001b[0m\n\u001b[0;32m      6\u001b[0m \u001b[0mtarget_peaks\u001b[0m \u001b[1;33m=\u001b[0m \u001b[0mroi\u001b[0m\u001b[1;33m.\u001b[0m\u001b[0mtarget_peaks\u001b[0m\u001b[1;33m\u001b[0m\u001b[1;33m\u001b[0m\u001b[0m\n",
      "\u001b[1;31mTypeError\u001b[0m: set_sideband() missing 1 required positional argument: 'window'"
     ]
    }
   ],
   "source": [
    "roi = ROI.ROI(spec, bg, [source_energies[0]], sub_type = 0)\n",
    "delta_e0 = 8\n",
    "window0 = np.array([[-3.3, -2.6], [-0.4, 0.6], [1.2, 3.5]])\n",
    "roi.set_sideband(delta_e0,window0)\n",
    "roi.find_peak_energies()\n",
    "target_peaks = roi.target_peaks\n",
    "roi_result0,roi_uncer0 = roi.get_counts()\n",
    "#peakfit = PF.PF(spectrum,background,source_energies)\n",
    "#pf_result = peakfit.get_counts()\n",
    "print(target_peaks)\n",
    "print('ROI result:',roi_result0)\n",
    "print('uncertainties:',roi_uncer0)\n",
    "#print('Lu_176 PF result:',pf_result)"
   ]
  },
  {
   "cell_type": "code",
   "execution_count": null,
   "metadata": {
    "scrolled": true
   },
   "outputs": [],
   "source": [
    "plot_peak_region(spec,[source_energies[0]],[source_isotopes[0]])"
   ]
  },
  {
   "cell_type": "code",
   "execution_count": null,
   "metadata": {},
   "outputs": [],
   "source": [
    "roi = ROI.ROI(spec, bg, [source_energies[1]], sub_type = 0)\n",
    "delta_e = 6\n",
    "window = np.array([[-2.5, -1.5], [-0.5, 0.4], [1.5, 2.5]])\n",
    "roi.set_sideband(delta_e,window)\n",
    "roi.find_peak_energies()\n",
    "target_peaks = roi.target_peaks\n",
    "roi_result1,roi_uncer1 = roi.get_counts()\n",
    "#peakfit = PF.PF(spectrum,background,source_energies)\n",
    "#pf_result = peakfit.get_counts()\n",
    "print(target_peaks)\n",
    "print('ROI result:',roi_result1)\n",
    "print('uncertainties:',roi_uncer1)\n",
    "#print('Lu_176 PF result:',pf_result)"
   ]
  },
  {
   "cell_type": "code",
   "execution_count": null,
   "metadata": {},
   "outputs": [],
   "source": [
    "plot_peak_region(spec,[source_energies[1]],[source_isotopes[1]])"
   ]
  },
  {
   "cell_type": "code",
   "execution_count": null,
   "metadata": {},
   "outputs": [],
   "source": [
    "roi = ROI.ROI(spec, bg, [source_energies[2]], sub_type = 0)\n",
    "delta_e2 = 8\n",
    "window2 = np.array([[-3, -2], [-0.5, 0.4], [2, 3]])\n",
    "roi.set_sideband(delta_e2,window2)\n",
    "roi.find_peak_energies()\n",
    "target_peaks = roi.target_peaks\n",
    "roi_result2,roi_uncer2 = roi.get_counts()\n",
    "#peakfit = PF.PF(spectrum,background,source_energies)\n",
    "#pf_result = peakfit.get_counts()\n",
    "print(target_peaks)\n",
    "print('ROI result:',roi_result2)\n",
    "print('uncertainties:',roi_uncer2)\n",
    "#print('Lu_176 PF result:',pf_result)"
   ]
  },
  {
   "cell_type": "code",
   "execution_count": null,
   "metadata": {},
   "outputs": [],
   "source": [
    "plot_peak_region(spec,[source_energies[2]],[source_isotopes[2]])"
   ]
  },
  {
   "cell_type": "code",
   "execution_count": null,
   "metadata": {
    "scrolled": true
   },
   "outputs": [],
   "source": [
    "roi = ROI.ROI(spec, bg, [source_energies[3]], sub_type = 0)\n",
    "delta_e3 = 8\n",
    "window3 = np.array([[-5, -2], [-0.5, 0.5], [2, 5]])\n",
    "roi.set_sideband(delta_e3,window3)\n",
    "roi.find_peak_energies()\n",
    "target_peaks = roi.target_peaks\n",
    "roi_result3,roi_uncer3 = roi.get_counts()\n",
    "#peakfit = PF.PF(spectrum,background,source_energies)\n",
    "#pf_result = peakfit.get_counts()\n",
    "print(target_peaks)\n",
    "print('ROI result:',roi_result3)\n",
    "print('uncertainties:',roi_uncer3)\n",
    "#print('Lu_176 PF result:',pf_result)"
   ]
  },
  {
   "cell_type": "code",
   "execution_count": null,
   "metadata": {},
   "outputs": [],
   "source": [
    "plot_peak_region(bg,[source_energies[3]],[source_isotopes[3]]) #do not include"
   ]
  },
  {
   "cell_type": "code",
   "execution_count": null,
   "metadata": {},
   "outputs": [],
   "source": [
    "roi = ROI.ROI(spec, bg, [source_energies[4]], sub_type = 0)\n",
    "delta_e4 = 8\n",
    "window4 = np.array([[-2, -1], [-0.5, 0.5], [1, 2]])\n",
    "roi.set_sideband(delta_e4,window4)\n",
    "roi.find_peak_energies()\n",
    "target_peaks = roi.target_peaks\n",
    "roi_result4,roi_uncer4 = roi.get_counts()\n",
    "#peakfit = PF.PF(spectrum,background,source_energies)\n",
    "#pf_result = peakfit.get_counts()\n",
    "print(target_peaks)\n",
    "print('ROI result:',roi_result4)\n",
    "print('uncertainties:',roi_uncer4)\n",
    "#print('Lu_176 PF result:',pf_result)"
   ]
  },
  {
   "cell_type": "code",
   "execution_count": null,
   "metadata": {},
   "outputs": [],
   "source": [
    "plot_peak_region(bg,[source_energies[4]],[source_isotopes[4]])#do not include"
   ]
  },
  {
   "cell_type": "code",
   "execution_count": null,
   "metadata": {},
   "outputs": [],
   "source": [
    "roi = ROI.ROI(spec, bg, [source_energies[5]], sub_type = 0)\n",
    "delta_e5 = 8\n",
    "window5 = np.array([[-2, -1], [-0.5, 0.5], [1, 2]])\n",
    "roi.set_sideband(delta_e5,window5)\n",
    "roi.find_peak_energies()\n",
    "target_peaks = roi.target_peaks\n",
    "roi_result5,roi_uncer5 = roi.get_counts()\n",
    "#peakfit = PF.PF(spectrum,background,source_energies)\n",
    "#pf_result = peakfit.get_counts()\n",
    "print(target_peaks)\n",
    "print('ROI result:',roi_result5)\n",
    "print('uncertainties:',roi_uncer5)\n",
    "#print('Lu_176 PF result:',pf_result)"
   ]
  },
  {
   "cell_type": "code",
   "execution_count": null,
   "metadata": {},
   "outputs": [],
   "source": [
    "plot_peak_region(bg,[source_energies[5]],[source_isotopes[5]])"
   ]
  },
  {
   "cell_type": "code",
   "execution_count": null,
   "metadata": {},
   "outputs": [],
   "source": [
    "roi_result = np.concatenate([roi_result0,roi_result1,roi_result2,roi_result3])#,roi_result4,roi_result5])\n",
    "roi_uncer =np.concatenate([roi_uncer0,roi_uncer1,roi_uncer2,roi_uncer3]),roi_uncer4,roi_uncer5])"
   ]
  },
  {
   "cell_type": "code",
   "execution_count": null,
   "metadata": {
    "scrolled": false
   },
   "outputs": [],
   "source": [
    "eff,eff_uncer = efficiency(roi_result,source_activities,branching_ratio,roi_uncer,activities_uncer)\n",
    "print(eff,eff_uncer)"
   ]
  },
  {
   "cell_type": "code",
   "execution_count": null,
   "metadata": {},
   "outputs": [],
   "source": [
    "class Efficiency(object):\n",
    "    \"\"\"\n",
    "    Object for undertaking the Efficiency Calibration of a detector.\n",
    "    Currently only plots the Efficiency versus Energy data and the fitted curve.\n",
    "    \"\"\"\n",
    "\n",
    "    def __init__(self,source_energies,eff,eff_uncer):\n",
    "        \n",
    "        self.energy = source_energies\n",
    "        self.values = eff\n",
    "        self.unc = eff_uncer\n",
    "        self.x = []\n",
    "        self.y = []\n",
    "        self.space = np.linspace(1, 2160, 540)\n",
    "        self.z = []\n",
    "        self.fit = []\n",
    "        self.new_fit = []\n",
    "\n",
    "    def mutate(self):\n",
    "        \"\"\"\n",
    "        Mutates data and creates the fit function.\n",
    "        \"\"\"\n",
    "        for i in self.energy: \n",
    "            self.x.append(np.log(i/1461))\n",
    "        for i in self.values:\n",
    "            self.y.append(np.log(i))\n",
    "        self.z = np.polyfit(np.asarray(self.x), np.asarray(self.y), 4)\n",
    "\n",
    "    def normal(self, x): \n",
    "        return np.log(x/1461)\n",
    "\n",
    "    def func3(self, x): \n",
    "        return (self.z[0]*self.normal(x)**4)+(self.z[1]*self.normal(x)**3)+(self.z[2]*self.normal(x)**2)+(self.z[3]*self.normal(x))+(self.z[4])\n",
    "\n",
    "    def new_func(self, x): \n",
    "        return np.exp(func3(x))\n",
    "\n",
    "    def fitting(self):\n",
    "        \"\"\"\n",
    "        Fits the data.\n",
    "        \"\"\"\n",
    "        for i in self.space:\n",
    "            self.fit.append(self.func3(i))\n",
    "        for i in self.fit:\n",
    "            self.new_fit.append(np.exp(i))\n",
    "\n",
    "    def plotter(self):\n",
    "        \"\"\"\n",
    "        Plots the data and the fit.\n",
    "        \"\"\"\n",
    "        plt.title('Efficiency Curve')\n",
    "        plt.xlabel('Energy (keV)')\n",
    "        plt.ylabel('Efficiency')\n",
    "        plt.errorbar(self.energy, self.values,yerr=self.unc, fmt ='ro',elinewidth=2,capsize=4)\n",
    "        plt.plot(self.energy, self.values, 'ro')\n",
    "        plt.grid()\n",
    "        plt.plot(self.space, self.new_fit)\n",
    "        plt.legend(('Data Points', 'Fitted Curve'), loc='upper right')\n",
    "        #plt.ylim(0, 0.002)\n",
    "        plt.savefig('eff_curve.png',dpi=200)\n",
    "        plt.show()\n",
    "        \n",
    "    def main(self):\n",
    "        self.mutate()\n",
    "        self.fitting()\n",
    "        self.plotter()\n"
   ]
  },
  {
   "cell_type": "code",
   "execution_count": null,
   "metadata": {
    "scrolled": false
   },
   "outputs": [],
   "source": [
    "plot_eff = Efficiency(source_energies,eff,eff_uncer)\n",
    "plot_eff.main()"
   ]
  },
  {
   "cell_type": "code",
   "execution_count": null,
   "metadata": {},
   "outputs": [],
   "source": [
    "plot_eff = am.Efficiency(source_energies,eff,eff_uncer)\n",
    "\n",
    "plot_eff.mutate()\n",
    "plot_eff.fitting()\n",
    "plot_eff.plotter()"
   ]
  },
  {
   "cell_type": "code",
   "execution_count": null,
   "metadata": {},
   "outputs": [],
   "source": [
    "plot_eff.save_fit()"
   ]
  }
 ],
 "metadata": {
  "kernelspec": {
   "display_name": "Python 3",
   "language": "python",
   "name": "python3"
  },
  "language_info": {
   "codemirror_mode": {
    "name": "ipython",
    "version": 3
   },
   "file_extension": ".py",
   "mimetype": "text/x-python",
   "name": "python",
   "nbconvert_exporter": "python",
   "pygments_lexer": "ipython3",
   "version": "3.7.4"
  }
 },
 "nbformat": 4,
 "nbformat_minor": 2
}

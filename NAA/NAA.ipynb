{
 "cells": [
  {
   "cell_type": "code",
   "execution_count": 1,
   "metadata": {},
   "outputs": [],
   "source": [
    "import becquerel as bq\n",
    "from becquerel import Spectrum\n",
    "import numpy as np\n",
    "import scipy.integrate as integrate\n",
    "import math as m\n",
    "import importlib\n",
    "import pandas as pd\n",
    "import sys\n",
    "import matplotlib.pyplot as plt\n",
    "sys.path.insert(0,r\"C:\\Users\\Daniel\\Desktop\\Radwatch\\radwatch-analysis\")"
   ]
  },
  {
   "cell_type": "code",
   "execution_count": 2,
   "metadata": {},
   "outputs": [
    {
     "name": "stderr",
     "output_type": "stream",
     "text": [
      "C:\\Users\\Daniel\\Anaconda3\\lib\\site-packages\\html5lib\\_trie\\_base.py:3: DeprecationWarning: Using or importing the ABCs from 'collections' instead of from 'collections.abc' is deprecated, and in 3.8 it will stop working\n",
      "  from collections import Mapping\n"
     ]
    },
    {
     "data": {
      "text/plain": [
       "<module 'ROI' from 'C:\\\\Users\\\\Daniel\\\\Desktop\\\\Radwatch\\\\radwatch-analysis\\\\ROI.py'>"
      ]
     },
     "execution_count": 2,
     "metadata": {},
     "output_type": "execute_result"
    }
   ],
   "source": [
    "import PF\n",
    "import naa_isotope_analyzer as naa\n",
    "import analysis_methods as am\n",
    "import ROI\n",
    "importlib.reload(PF)\n",
    "importlib.reload(naa)\n",
    "importlib.reload(am)\n",
    "importlib.reload(ROI)"
   ]
  },
  {
   "cell_type": "code",
   "execution_count": 3,
   "metadata": {
    "scrolled": true
   },
   "outputs": [
    {
     "name": "stdout",
     "output_type": "stream",
     "text": [
      "SpeFile: Reading file C:\\Users\\Daniel\\Desktop\\Radwatch\\FishSamples2019\\Background_Spectrum_12_20_19.Spe\n"
     ]
    }
   ],
   "source": [
    "ecal_filename = r\"C:\\Users\\Daniel\\Desktop\\Radwatch\\FishSamples2019\\11-19-2019-Calibration.Ent\"\n",
    "bg_spec = Spectrum.from_file(r\"C:\\Users\\Daniel\\Desktop\\Radwatch\\FishSamples2019\\Background_Spectrum_12_20_19.Spe\")\n",
    "e_cal = np.loadtxt(ecal_filename)\n",
    "#detector ϵ placeholder = .001\n",
    "#save daignostic plots as figures, save them for presentation and write up purposes"
   ]
  },
  {
   "cell_type": "code",
   "execution_count": 4,
   "metadata": {},
   "outputs": [],
   "source": [
    "def f_near(a,a0):\n",
    "    idx = np.abs(a - a0).argmin()\n",
    "    return idx"
   ]
  },
  {
   "cell_type": "code",
   "execution_count": 5,
   "metadata": {},
   "outputs": [],
   "source": [
    "def get_isotopes(energies):\n",
    "    hl_cut = 3600\n",
    "    br_cut =4.0\n",
    "    df = naa.naa_isotope_analyzer(energies.tolist(),hl_cut,br_cut)\n",
    "    \n",
    "    return df"
   ]
  },
  {
   "cell_type": "code",
   "execution_count": 6,
   "metadata": {},
   "outputs": [],
   "source": [
    "def sample_energies(spec_30,spec_03,spec_24,bg_spec,ecal_filename):  #break this out into a couple of methods, check if fits need to be updated, use modified fit results to get counts, and those counts at fixed peaks are inputs for the next step\n",
    "    #calibrate spectra\n",
    "    spec1 = apply_ecal(spec_30,ecal_filename)\n",
    "    spec2 = apply_ecal(spec_03, ecal_filename) #do energy cal outside and input calibrated spectra\n",
    "    spec3 = apply_ecal(spec_24, ecal_filename)\n",
    "    bg_spec = apply_ecal(bg_spec,ecal_filename)\n",
    "    \n",
    "    spec1_e = get_energies(spec1)\n",
    "    spec2_e = get_energies(spec2)\n",
    "    spec3_e = get_energies(spec3)\n",
    "    \n",
    "    s1_e = spec1_e.tolist()\n",
    "    s2_e = spec2_e.tolist()\n",
    "    s3_e = spec3_e.tolist()\n",
    "    \n",
    "    #find method to get rid of peaks in overflow bin\n",
    "    \n",
    "    s1_e = s1_e[0:-2]\n",
    "    s2_e = s2_e[0:-2]\n",
    "    s3_e = s3_e[0:-2]\n",
    "    print(\"spec 1 energies\", s1_e)\n",
    "    print(\"spec 2 energies\", s2_e)\n",
    "    \n",
    "    \n",
    "    energies = [list(map(int,s1_e)),list(map(int,s2_e)),list(map(int,s3_e))] #return list of final energies\n",
    "    #make counts lists a seperate function to determine which counts works or not\n",
    "    counts=[]\n",
    "    counts = counts.append([get_counts(spec_30,bg_spec)[0]]) #to get counts from list (also want uncertainties)\n",
    "    counts = counts.append(counts, [get_counts(spec_03,bg_spec)])\n",
    "    counts = counts.append(counts,[get_counts(spec_24,bg_spec)])\n",
    "    \n",
    "    #separate  function input energies and working counts\n",
    "    m1 = {'energies':energies[1],'counts':counts[1]}\n",
    "    m2 = {'energies':energies[2],'counts':counts[2]}\n",
    "    m3 = {'energies':energies[3],'counts':counts[3]}\n",
    "    \n",
    "    df1 = pd.DataFrame(m1)\n",
    "    df2 = pd.DataFrame(m2)\n",
    "    df3 = pd.DataFrame(m3)\n",
    "    \n",
    "    ordered_set = pd.merge_ordered(df1,df2,df3)\n",
    "    \n",
    "    #order energies from low to high, parsing through list, length of energy array for each spec will be dif\n",
    "    #associate the counts with an energy, if energy is a few kev off will they be considered different\n",
    "    #data frame for each spectrum, then combine and let pandas sort, group energies within range and convert to integers\n",
    "    #counts and uncertainties for sodium from 3 spectra (1 sample) and a function to c"
   ]
  },
  {
   "cell_type": "code",
   "execution_count": 7,
   "metadata": {},
   "outputs": [],
   "source": [
    "def plot_peak_region(spectrum,source_energies): #ruiqi code!\n",
    "    roi.find_peak_energies()\n",
    "    target_peaks = roi.target_peaks\n",
    "    print(target_peaks)\n",
    "    for i,j,isotope in zip(source_energies,target_peaks,source_isotopes):\n",
    "        spec = spectrum\n",
    "        counts = spec.counts_vals\n",
    "        energies = spec.energies_kev\n",
    "        idx = f_near(energies,i) \n",
    "        roi_low = idx - 50\n",
    "        roi_high = idx + 50\n",
    "\n",
    "        plot_counts = counts[roi_low:roi_high]\n",
    "        plot_energies = energies[roi_low:roi_high]\n",
    "\n",
    "        roi_low_bins,roi_peak_bins,roi_high_bins = roi.get_roi_windows(j)\n",
    "        rlow = roi_low_bins[0][0]\n",
    "        rhi = roi_high_bins[0][-1]\n",
    "        plot_counts = counts[rlow:rhi]\n",
    "        plot_energies = energies[rlow:rhi]\n",
    "\n",
    "        rlow = roi_low_bins[0][0]\n",
    "        rhi = roi_low_bins[0][-1]\n",
    "        low_counts = counts[rlow:rhi]\n",
    "        low_energies = energies[rlow:rhi]\n",
    "\n",
    "        rlow = roi_high_bins[0][0]\n",
    "        rhi = roi_high_bins[0][-1]\n",
    "        high_counts = counts[rlow:rhi]\n",
    "        high_energies = energies[rlow:rhi]\n",
    "\n",
    "        rlow = roi_peak_bins[0][0]\n",
    "        rhi = roi_peak_bins[0][-1]\n",
    "        peak_counts = counts[rlow:rhi]\n",
    "        peak_energies = energies[rlow:rhi]\n",
    "\n",
    "        fig,ax = plt.subplots()\n",
    "        ax.plot(plot_energies,plot_counts)\n",
    "        ax.fill_between(low_energies,0,low_counts,facecolor = 'green',interpolate=True)\n",
    "        ax.fill_between(high_energies,0,high_counts,facecolor = 'red',interpolate=True)\n",
    "        ax.fill_between(peak_energies,0,peak_counts,facecolor = 'blue',interpolate=True)\n",
    "        ax.set_yscale('log')\n",
    "        plt.title(isotope)"
   ]
  },
  {
   "cell_type": "code",
   "execution_count": 8,
   "metadata": {},
   "outputs": [
    {
     "name": "stdout",
     "output_type": "stream",
     "text": [
      "SpeFile: Reading file C:\\Users\\Daniel\\Desktop\\Radwatch\\FishSamples2019\\ucb1901-30min.Spe\n",
      "SpeFile: Reading file C:\\Users\\Daniel\\Desktop\\Radwatch\\FishSamples2019\\ucb1901-3hr.Spe\n",
      "SpeFile: Reading file C:\\Users\\Daniel\\Desktop\\Radwatch\\FishSamples2019\\ucb1901-24hr.Spe\n",
      "SpeFile: Reading file C:\\Users\\Daniel\\Desktop\\Radwatch\\FishSamples2019\\ucb1902-30min.Spe\n",
      "SpeFile: Reading file C:\\Users\\Daniel\\Desktop\\Radwatch\\FishSamples2019\\ucb1902-3hr.Spe\n",
      "SpeFile: Reading file C:\\Users\\Daniel\\Desktop\\Radwatch\\FishSamples2019\\ucb1902-24hr.Spe\n",
      "SpeFile: Reading file C:\\Users\\Daniel\\Desktop\\Radwatch\\FishSamples2019\\ucb1903-30min.Spe\n",
      "SpeFile: Reading file C:\\Users\\Daniel\\Desktop\\Radwatch\\FishSamples2019\\ucb1903-3hr.Spe\n",
      "SpeFile: Reading file C:\\Users\\Daniel\\Desktop\\Radwatch\\FishSamples2019\\ucb1903-24hr.Spe\n",
      "SpeFile: Reading file C:\\Users\\Daniel\\Desktop\\Radwatch\\FishSamples2019\\ucb1904-30min.Spe\n",
      "SpeFile: Reading file C:\\Users\\Daniel\\Desktop\\Radwatch\\FishSamples2019\\ucb1904-3hr.Spe\n",
      "SpeFile: Reading file C:\\Users\\Daniel\\Desktop\\Radwatch\\FishSamples2019\\ucb1904-24hr.Spe\n",
      "SpeFile: Reading file C:\\Users\\Daniel\\Desktop\\Radwatch\\FishSamples2019\\ucb1905-30min.Spe\n",
      "SpeFile: Reading file C:\\Users\\Daniel\\Desktop\\Radwatch\\FishSamples2019\\ucb1905-3hr.Spe\n",
      "SpeFile: Reading file C:\\Users\\Daniel\\Desktop\\Radwatch\\FishSamples2019\\ucb1905-24hr.Spe\n",
      "SpeFile: Reading file C:\\Users\\Daniel\\Desktop\\Radwatch\\FishSamples2019\\ucb1906-30min.Spe\n",
      "SpeFile: Reading file C:\\Users\\Daniel\\Desktop\\Radwatch\\FishSamples2019\\ucb1906-3hr.Spe\n",
      "SpeFile: Reading file C:\\Users\\Daniel\\Desktop\\Radwatch\\FishSamples2019\\ucb1906-24hr.Spe\n",
      "SpeFile: Reading file C:\\Users\\Daniel\\Desktop\\Radwatch\\FishSamples2019\\ucb1907-30min.Spe\n",
      "SpeFile: Reading file C:\\Users\\Daniel\\Desktop\\Radwatch\\FishSamples2019\\ucb1907-3hr.Spe\n",
      "SpeFile: Reading file C:\\Users\\Daniel\\Desktop\\Radwatch\\FishSamples2019\\ucb1907-24hr.Spe\n",
      "SpeFile: Reading file C:\\Users\\Daniel\\Desktop\\Radwatch\\FishSamples2019\\ucb1908-30min.Spe\n",
      "SpeFile: Reading file C:\\Users\\Daniel\\Desktop\\Radwatch\\FishSamples2019\\ucb1908-3hr.Spe\n",
      "SpeFile: Reading file C:\\Users\\Daniel\\Desktop\\Radwatch\\FishSamples2019\\ucb1908-24hr.Spe\n",
      "SpeFile: Reading file C:\\Users\\Daniel\\Desktop\\Radwatch\\FishSamples2019\\ucb1909-30min.Spe\n",
      "SpeFile: Reading file C:\\Users\\Daniel\\Desktop\\Radwatch\\FishSamples2019\\ucb1909-3hr.Spe\n",
      "SpeFile: Reading file C:\\Users\\Daniel\\Desktop\\Radwatch\\FishSamples2019\\ucb1909-24hr.Spe\n",
      "SpeFile: Reading file C:\\Users\\Daniel\\Desktop\\Radwatch\\FishSamples2019\\ucb1910-30min.Spe\n",
      "SpeFile: Reading file C:\\Users\\Daniel\\Desktop\\Radwatch\\FishSamples2019\\ucb1910-3hr.Spe\n",
      "SpeFile: Reading file C:\\Users\\Daniel\\Desktop\\Radwatch\\FishSamples2019\\ucb1910-24hr.Spe\n"
     ]
    }
   ],
   "source": [
    "spec_01_30 = Spectrum.from_file(r\"C:\\Users\\Daniel\\Desktop\\Radwatch\\FishSamples2019\\ucb1901-30min.Spe\")\n",
    "spec_01_03 = Spectrum.from_file(r\"C:\\Users\\Daniel\\Desktop\\Radwatch\\FishSamples2019\\ucb1901-3hr.Spe\")\n",
    "spec_01_24 = Spectrum.from_file(r\"C:\\Users\\Daniel\\Desktop\\Radwatch\\FishSamples2019\\ucb1901-24hr.Spe\")\n",
    "spec_02_30 = Spectrum.from_file(r\"C:\\Users\\Daniel\\Desktop\\Radwatch\\FishSamples2019\\ucb1902-30min.Spe\")\n",
    "spec_02_03 = Spectrum.from_file(r\"C:\\Users\\Daniel\\Desktop\\Radwatch\\FishSamples2019\\ucb1902-3hr.Spe\")\n",
    "spec_02_24 = Spectrum.from_file(r\"C:\\Users\\Daniel\\Desktop\\Radwatch\\FishSamples2019\\ucb1902-24hr.Spe\")\n",
    "spec_03_30 = Spectrum.from_file(r\"C:\\Users\\Daniel\\Desktop\\Radwatch\\FishSamples2019\\ucb1903-30min.Spe\")\n",
    "spec_03_03 = Spectrum.from_file(r\"C:\\Users\\Daniel\\Desktop\\Radwatch\\FishSamples2019\\ucb1903-3hr.Spe\")\n",
    "spec_03_24 = Spectrum.from_file(r\"C:\\Users\\Daniel\\Desktop\\Radwatch\\FishSamples2019\\ucb1903-24hr.Spe\")\n",
    "spec_04_30 = Spectrum.from_file(r\"C:\\Users\\Daniel\\Desktop\\Radwatch\\FishSamples2019\\ucb1904-30min.Spe\")\n",
    "spec_04_03 = Spectrum.from_file(r\"C:\\Users\\Daniel\\Desktop\\Radwatch\\FishSamples2019\\ucb1904-3hr.Spe\")\n",
    "spec_04_24 = Spectrum.from_file(r\"C:\\Users\\Daniel\\Desktop\\Radwatch\\FishSamples2019\\ucb1904-24hr.Spe\")\n",
    "spec_05_30 = Spectrum.from_file(r\"C:\\Users\\Daniel\\Desktop\\Radwatch\\FishSamples2019\\ucb1905-30min.Spe\")\n",
    "spec_05_03 = Spectrum.from_file(r\"C:\\Users\\Daniel\\Desktop\\Radwatch\\FishSamples2019\\ucb1905-3hr.Spe\")\n",
    "spec_05_24 = Spectrum.from_file(r\"C:\\Users\\Daniel\\Desktop\\Radwatch\\FishSamples2019\\ucb1905-24hr.Spe\")\n",
    "spec_06_30 = Spectrum.from_file(r\"C:\\Users\\Daniel\\Desktop\\Radwatch\\FishSamples2019\\ucb1906-30min.Spe\")\n",
    "spec_06_03 = Spectrum.from_file(r\"C:\\Users\\Daniel\\Desktop\\Radwatch\\FishSamples2019\\ucb1906-3hr.Spe\")\n",
    "spec_06_24 = Spectrum.from_file(r\"C:\\Users\\Daniel\\Desktop\\Radwatch\\FishSamples2019\\ucb1906-24hr.Spe\")\n",
    "spec_07_30 = Spectrum.from_file(r\"C:\\Users\\Daniel\\Desktop\\Radwatch\\FishSamples2019\\ucb1907-30min.Spe\")\n",
    "spec_07_03 = Spectrum.from_file(r\"C:\\Users\\Daniel\\Desktop\\Radwatch\\FishSamples2019\\ucb1907-3hr.Spe\")\n",
    "spec_07_24 = Spectrum.from_file(r\"C:\\Users\\Daniel\\Desktop\\Radwatch\\FishSamples2019\\ucb1907-24hr.Spe\")\n",
    "spec_08_30 = Spectrum.from_file(r\"C:\\Users\\Daniel\\Desktop\\Radwatch\\FishSamples2019\\ucb1908-30min.Spe\")\n",
    "spec_08_03 = Spectrum.from_file(r\"C:\\Users\\Daniel\\Desktop\\Radwatch\\FishSamples2019\\ucb1908-3hr.Spe\")\n",
    "spec_08_24 = Spectrum.from_file(r\"C:\\Users\\Daniel\\Desktop\\Radwatch\\FishSamples2019\\ucb1908-24hr.Spe\")\n",
    "spec_09_30 = Spectrum.from_file(r\"C:\\Users\\Daniel\\Desktop\\Radwatch\\FishSamples2019\\ucb1909-30min.Spe\")\n",
    "spec_09_03 = Spectrum.from_file(r\"C:\\Users\\Daniel\\Desktop\\Radwatch\\FishSamples2019\\ucb1909-3hr.Spe\")\n",
    "spec_09_24 = Spectrum.from_file(r\"C:\\Users\\Daniel\\Desktop\\Radwatch\\FishSamples2019\\ucb1909-24hr.Spe\")\n",
    "spec_10_30 = Spectrum.from_file(r\"C:\\Users\\Daniel\\Desktop\\Radwatch\\FishSamples2019\\ucb1910-30min.Spe\")\n",
    "spec_10_03 = Spectrum.from_file(r\"C:\\Users\\Daniel\\Desktop\\Radwatch\\FishSamples2019\\ucb1910-3hr.Spe\")\n",
    "spec_10_24 = Spectrum.from_file(r\"C:\\Users\\Daniel\\Desktop\\Radwatch\\FishSamples2019\\ucb1910-24hr.Spe\")"
   ]
  },
  {
   "cell_type": "code",
   "execution_count": 9,
   "metadata": {
    "scrolled": false
   },
   "outputs": [],
   "source": [
    "spectra_30 = [spec_01_30, spec_02_30, spec_03_30, spec_04_30,spec_05_30,spec_06_30,spec_07_30, spec_08_30,spec_09_30,spec_10_30]\n",
    "spectra_03 = [spec_01_03,spec_02_03,spec_03_03,spec_04_03,spec_05_03,spec_06_03,spec_07_03,spec_08_03,spec_09_03,spec_10_03]\n",
    "spectra_24 = [spec_01_24,spec_02_24,spec_03_24,spec_04_24,spec_05_24,spec_06_24,spec_06_24,spec_08_24,spec_09_24,spec_10_24]\n",
    "cal_specs1 = []\n",
    "cal_specs2 = []\n",
    "cal_specs3 =[]\n",
    "for i in range(len(spectra_30)):\n",
    "    cal_specs1.append(am.apply_ecal(spectra_30[i],e_cal))\n",
    "    cal_specs2.append(am.apply_ecal(spectra_03[i],e_cal))\n",
    "    cal_specs3.append(am.apply_ecal(spectra_24[i],e_cal))"
   ]
  },
  {
   "cell_type": "code",
   "execution_count": 10,
   "metadata": {},
   "outputs": [
    {
     "name": "stdout",
     "output_type": "stream",
     "text": [
      "10\n"
     ]
    }
   ],
   "source": [
    "print(len(cal_specs1))"
   ]
  },
  {
   "cell_type": "code",
   "execution_count": 11,
   "metadata": {},
   "outputs": [],
   "source": [
    "bg_spec = am.apply_ecal(bg_spec, e_cal)"
   ]
  },
  {
   "cell_type": "code",
   "execution_count": null,
   "metadata": {},
   "outputs": [],
   "source": [
    "energies30 = []\n",
    "energies03 = []\n",
    "energies24 = []\n",
    "for i in range(len(cal_specs1)):\n",
    "    energies30.append(am.get_energies(cal_specs1[i]))\n",
    "    #energies03.append(am.get_energies(cal_specs2[i]))\n",
    "    #energies24.append(am.get_energies(cal_specs3[i]))\n",
    "#the remove last two energies doesn't work for many plots"
   ]
  },
  {
   "cell_type": "code",
   "execution_count": null,
   "metadata": {
    "scrolled": true
   },
   "outputs": [],
   "source": [
    "iso_dfs =[]\n",
    "for e in energies30:\n",
    "    iso_dfs.append(get_isotopes(e))\n",
    "    \n",
    "print(iso_dfs)"
   ]
  },
  {
   "cell_type": "code",
   "execution_count": null,
   "metadata": {},
   "outputs": [],
   "source": [
    "na_energies=[]\n",
    "for i in range(len(cal_specs1)):\n",
    "    na_energies.append(1364)\n",
    "print((na_energies))\n",
    "print(len(cal_specs1))"
   ]
  },
  {
   "cell_type": "code",
   "execution_count": null,
   "metadata": {},
   "outputs": [],
   "source": [
    "na_energies2=[]\n",
    "for i in range(len(cal_specs2)):\n",
    "    na_energies2.append(1364)\n",
    "\n",
    "na_energies3=[]\n",
    "for i in range(len(cal_specs3)):\n",
    "    na_energies3.append(1364)"
   ]
  },
  {
   "cell_type": "code",
   "execution_count": null,
   "metadata": {},
   "outputs": [],
   "source": [
    "counts30 = []\n",
    "uncertainties30 =[]\n",
    "for i in range(len(cal_specs1)):\n",
    "    icounts, iuncertainties = am.get_counts(cal_specs1[i],bg_spec,[na_energies[i]])\n",
    "    counts30.append(icounts)\n",
    "    uncertainties30.append(iuncertainties)"
   ]
  },
  {
   "cell_type": "code",
   "execution_count": null,
   "metadata": {},
   "outputs": [],
   "source": [
    "counts03 = []\n",
    "uncertainties03 = []\n",
    "counts24 =[]\n",
    "uncertainties24 = []\n",
    "for i in range(len(cal_specs2)):\n",
    "    icounts, iuncertainties = am.get_counts(cal_specs2[i],bg_spec,[na_energies2[i]])\n",
    "    counts03.append(icounts)\n",
    "    uncertainties03.append(iuncertainties)\n",
    "\n",
    "for i in range(len(cal_specs3)):\n",
    "    icounts, iuncertainties = am.get_counts(cal_specs3[i],bg_spec,[na_energies3[i]])\n",
    "    counts24.append(icounts)\n",
    "    uncertainties24.append(iuncertainties)\n"
   ]
  },
  {
   "cell_type": "code",
   "execution_count": null,
   "metadata": {
    "scrolled": false
   },
   "outputs": [],
   "source": [
    "print(counts30)#convert to cps\n",
    "print(uncertainties30)"
   ]
  },
  {
   "cell_type": "code",
   "execution_count": null,
   "metadata": {
    "scrolled": true
   },
   "outputs": [],
   "source": [
    "print(cal_specs[0].start_time)\n",
    "print(cal_specs[1].start_time)\n",
    "print(cal_specs[2].start_time)"
   ]
  },
  {
   "cell_type": "code",
   "execution_count": null,
   "metadata": {
    "scrolled": true
   },
   "outputs": [],
   "source": [
    "cps=[]\n",
    "uncs =[]\n",
    "for i in range(len(cal_specs1)):\n",
    "    cps.append(counts30[i]/cal_specs1[i].livetime)\n",
    "    uncs.append(uncertainties30[i]/cal_specs1[i].livetime)\n",
    "print(cps)\n",
    "print(uncs)"
   ]
  },
  {
   "cell_type": "code",
   "execution_count": null,
   "metadata": {},
   "outputs": [],
   "source": [
    "cps2 =[]\n",
    "uncs2 =[]\n",
    "cps3 =[]\n",
    "uncs3 = []\n",
    "\n",
    "for i in range(len(cal_specs2)):\n",
    "    cps2.append(counts03[i]/cal_specs2[i].livetime)\n",
    "    uncs2.append(uncertainties03[i]/cal_specs2[i].livetime)\n",
    "    \n",
    "for i in range(len(cal_specs3)):\n",
    "    cps3.append(counts24[i]/cal_specs3[i].livetime)\n",
    "    uncs3.append(uncertainties24[i]/cal_specs3[i].livetime)\n",
    "    \n",
    "print(cps3)"
   ]
  },
  {
   "cell_type": "code",
   "execution_count": null,
   "metadata": {},
   "outputs": [],
   "source": [
    "ϵ = .005\n",
    "br = 1\n",
    "A1=[]\n",
    "unc1 = []\n",
    "for i in range(len(counts30)):\n",
    "    A1.append(am.iso_activity(cps[i],br,ϵ))\n",
    "    unc1.append(am.iso_activity(uncs[i],br,ϵ))\n",
    "    \n",
    "A1 = [int(i) for i in A1]\n",
    "unc1=[int(i) for i in unc1]\n",
    "print(A1)\n",
    "print(unc1)"
   ]
  },
  {
   "cell_type": "code",
   "execution_count": null,
   "metadata": {},
   "outputs": [],
   "source": [
    "A2=[]\n",
    "unc2 = []\n",
    "A3 = []\n",
    "unc3 =[]\n",
    "for i in range(len(counts03)):\n",
    "    A2.append(am.iso_activity(cps2[i],br,ϵ))\n",
    "    unc2.append(am.iso_activity(uncs2[i],br,ϵ))\n",
    "    \n",
    "A2 = [int(i) for i in A2]\n",
    "unc2=[int(i) for i in unc2]\n",
    "\n",
    "for i in range(len(counts24)):\n",
    "    A3.append(am.iso_activity(cps3[i],br,ϵ))\n",
    "    unc3.append(am.iso_activity(uncs3[i],br,ϵ))\n",
    "    \n",
    "A3 = [int(i) for i in A3]\n",
    "unc3=[int(i) for i in unc3]\n",
    "\n",
    "print(A2)\n",
    "print(A3)"
   ]
  },
  {
   "cell_type": "code",
   "execution_count": null,
   "metadata": {
    "scrolled": true
   },
   "outputs": [],
   "source": [
    "t0 = cal_specs1[0].start_time.timestamp() - (4*24*60*60)"
   ]
  },
  {
   "cell_type": "code",
   "execution_count": null,
   "metadata": {},
   "outputs": [],
   "source": [
    "dts=[]\n",
    "dts2 = []\n",
    "dts3 = []\n",
    "for i in range(len(cal_specs1)):\n",
    "    dts.append(am.get_dt(cal_specs1[i],t0))\n",
    "print(dts)\n",
    "\n",
    "for i in range(len(cal_specs2)):\n",
    "    dts2.append(am.get_dt(cal_specs2[i],t0))\n",
    "    \n",
    "for i in range(len(cal_specs3)):\n",
    "    dts3.append(am.get_dt(cal_specs3[i],t0))"
   ]
  },
  {
   "cell_type": "code",
   "execution_count": null,
   "metadata": {},
   "outputs": [],
   "source": [
    "flux = 2*10**11 \n",
    "Tirrad = 1 *3600 #sec\n",
    "hl_na24 = 14.9 *3600 #sec\n",
    "xs_na24 = 0.531399 * (1*10**-24)\n",
    "M_A = 22.989769 #g/mol\n",
    "sample_wt = 1 #g\n",
    "iso_abundance =1 #100% na23"
   ]
  },
  {
   "cell_type": "code",
   "execution_count": null,
   "metadata": {},
   "outputs": [],
   "source": [
    "a0 =A1[0]* m.exp(m.log(2)/hl_na24 * dt0)\n",
    "a1 = A1[1]* m.exp(m.log(2)/hl_na24 * dt1)\n",
    "unc0 =unc[0]* m.exp(m.log(2)/hl_na24 * dt0)\n",
    "unc1 = unc[1]* m.exp(m.log(2)/hl_na24 * dt1)\n",
    "print(a0,\"+/-\",unc0)\n",
    "print(a1,unc1)"
   ]
  },
  {
   "cell_type": "code",
   "execution_count": null,
   "metadata": {},
   "outputs": [],
   "source": [
    "na_weight0 = element_weight(A[0], M_A,iso_abundance,hl_na24,flux,xs_na24,Tirrad,dt0)\n",
    "na_weight1 = element_weight(A[1], M_A,iso_abundance,hl_na24,flux,xs_na24,Tirrad,dt1)\n",
    "na_weight2 = element_weight(A[2], M_A,iso_abundance,hl_na24,flux,xs_na24,Tirrad,dt2)\n",
    "print(na_weight0,na_weight1,na_weight2)"
   ]
  },
  {
   "cell_type": "code",
   "execution_count": null,
   "metadata": {},
   "outputs": [],
   "source": [
    "na_ppm =[]\n",
    "na_uncs =[]\n",
    "for i in range(len(A)):\n",
    "    na_ppm.append(am.element_weight(A[i],M_A,iso_abundance,hl_na24,flux,xs_na24,Tirrad,dts[i])*1000000)\n",
    "    na_uncs.append(am.element_weight(unc[i],M_A,iso_abundance,hl_na24,flux,xs_na24,Tirrad,dts[i])*1000000)"
   ]
  },
  {
   "cell_type": "code",
   "execution_count": null,
   "metadata": {},
   "outputs": [],
   "source": [
    "print(na_uncs)"
   ]
  },
  {
   "cell_type": "code",
   "execution_count": null,
   "metadata": {},
   "outputs": [],
   "source": [
    "samples = [\"Petrale Sole 1\",\"Halibut\",\"Tilapia\",\"Rockfish\",\"Rock Cod\",\"Catfish\",\"Petrale Sole 2\", \"Wild King Salmon\",\"Swordfish\",\"Oyster\"]"
   ]
  },
  {
   "cell_type": "code",
   "execution_count": null,
   "metadata": {},
   "outputs": [],
   "source": [
    "fig,ax=plt.subplots()\n",
    "plt.errorbar(samples,na_ppm,yerr = na_uncs,linestyle = \"None\", marker = \"o\",markersize = 5, capsize = 5, markerfacecolor =\"m\")\n",
    "plt.title(\"Sodium PPM in Fish Samples for 30min Measurements\")\n",
    "plt.grid(True)\n",
    "ax.tick_params(axis='x', rotation=45)\n",
    "plt.xlabel(\"Samples\")\n",
    "plt.ylabel(\"Amount Na(PPM)\")"
   ]
  },
  {
   "cell_type": "code",
   "execution_count": null,
   "metadata": {},
   "outputs": [],
   "source": [
    "na_ppm2 =[]\n",
    "na_uncs2 =[]\n",
    "na_ppm3 = []\n",
    "na_uncs3 =[]\n",
    "for i in range(len(A2)):\n",
    "    na_ppm2.append(am.element_weight(A2[i],M_A,iso_abundance,hl_na24,flux,xs_na24,Tirrad,dts2[i])*1000000)\n",
    "    na_uncs2.append(am.element_weight(unc2[i],M_A,iso_abundance,hl_na24,flux,xs_na24,Tirrad,dts2[i])*1000000)\n",
    "    \n",
    "for i in range(len(A3)):\n",
    "    na_ppm3.append(am.element_weight(A3[i],M_A,iso_abundance,hl_na24,flux,xs_na24,Tirrad,dts3[i])*1000000)\n",
    "    na_uncs3.append(am.element_weight(unc3[i],M_A,iso_abundance,hl_na24,flux,xs_na24,Tirrad,dts3[i])*1000000)"
   ]
  },
  {
   "cell_type": "code",
   "execution_count": null,
   "metadata": {},
   "outputs": [],
   "source": [
    "fig,ax=plt.subplots()\n",
    "plt.errorbar(samples,na_ppm2,yerr = na_uncs2,linestyle = \"None\", marker = \"o\",markersize = 5, capsize = 5,markerfacecolor =\"r\")\n",
    "plt.title(\"Sodium PPM in Fish Samples for 3 Hr Measurements\")\n",
    "plt.grid(True)\n",
    "ax.tick_params(axis='x', rotation=45)\n",
    "plt.xlabel(\"Samples\")\n",
    "plt.ylabel(\"Amount Na(PPM)\")"
   ]
  },
  {
   "cell_type": "code",
   "execution_count": null,
   "metadata": {},
   "outputs": [],
   "source": [
    "fig,ax=plt.subplots()\n",
    "plt.errorbar(samples,na_ppm3,yerr = na_uncs3,linestyle = \"None\", marker = \"o\",markersize = 5, capsize = 5, markerfacecolor =\"c\")\n",
    "plt.title(\"Sodium PPM in Fish Samples for 24 Hr Measurements\")\n",
    "plt.grid(True)\n",
    "ax.tick_params(axis='x', rotation=45)\n",
    "plt.xlabel(\"Samples\")\n",
    "plt.ylabel(\"Amount Na(PPM)\")"
   ]
  },
  {
   "cell_type": "code",
   "execution_count": null,
   "metadata": {},
   "outputs": [],
   "source": [
    "fig, ax = plt.subplots()\n",
    "X = np.arange(len(samples))\n",
    "ax.bar(X + 0.00, na_ppm, yerr = na_uncs, color = 'r', width = 0.35, capsize =2, label =\"Na (ppm) 30 min\")\n",
    "ax.bar(X + 0.30, na_ppm2, yerr = na_uncs2, color = 'm', width = 0.35, capsize = 2, label = \"Na (ppm) 3 Hr\")\n",
    "ax.bar(X + 0.60, na_ppm3,yerr =na_uncs3, color = 'c', width = 0.35, capsize =2, label = \"Na (ppm) 24 Hr\")\n",
    "plt.grid(True)\n",
    "ax.set_xticks(X)\n",
    "ax.set_xticklabels(samples)\n",
    "ax.tick_params(axis='x', rotation=45)\n",
    "plt.ylabel(\"Na Concentration (ppm)\")\n",
    "plt.xlabel(\"Samples\")\n",
    "plt.title(\"Na Concentration (ppm) across all samples\")\n",
    "plt.legend()\n",
    "fig.set_size_inches(15, 8)"
   ]
  },
  {
   "cell_type": "code",
   "execution_count": null,
   "metadata": {},
   "outputs": [],
   "source": [
    "plot_peak_region(cal_specs[0],energies[0])"
   ]
  },
  {
   "cell_type": "code",
   "execution_count": null,
   "metadata": {},
   "outputs": [],
   "source": [
    "#sample_energies(spec_01_30,spec_01_03,spec_01_24, bg_spec,ecal_filename)\n",
    "#be able to catch the energy that isn't working and remove it until it works\n",
    "#run isotope analyzer on these lists of energies\n",
    "#focus on sodium isotope counts from its peak on many spectra, concentration caluculation for each spectra serparately (diff time of irradiation and measuring)"
   ]
  },
  {
   "cell_type": "code",
   "execution_count": null,
   "metadata": {},
   "outputs": [],
   "source": [
    "matrix = [nrgs_01_30,pc_01_03]\n",
    "matrix"
   ]
  }
 ],
 "metadata": {
  "kernelspec": {
   "display_name": "Python 3",
   "language": "python",
   "name": "python3"
  },
  "language_info": {
   "codemirror_mode": {
    "name": "ipython",
    "version": 3
   },
   "file_extension": ".py",
   "mimetype": "text/x-python",
   "name": "python",
   "nbconvert_exporter": "python",
   "pygments_lexer": "ipython3",
   "version": "3.7.4"
  }
 },
 "nbformat": 4,
 "nbformat_minor": 2
}

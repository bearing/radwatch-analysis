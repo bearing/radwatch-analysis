{
 "cells": [
  {
   "cell_type": "code",
   "execution_count": 1,
   "metadata": {},
   "outputs": [],
   "source": [
    "import becquerel as bq\n",
    "from becquerel import Spectrum\n",
    "from becquerel.tools import Isotope, IsotopeQuantity, NeutronIrradiation\n",
    "import datetime\n",
    "import numpy as np\n",
    "import scipy.integrate as integrate\n",
    "import math as m\n",
    "import importlib\n",
    "import pandas as pd\n",
    "import sys\n",
    "import os\n",
    "import matplotlib.pyplot as plt\n",
    "sys.path.insert(0,r\"C:\\Users\\Daniel\\Desktop\\Radwatch\\radwatch-analysis\")"
   ]
  },
  {
   "cell_type": "code",
   "execution_count": 2,
   "metadata": {},
   "outputs": [
    {
     "data": {
      "text/plain": [
       "<module 'ROI' from 'C:\\\\Users\\\\Daniel\\\\Desktop\\\\Radwatch\\\\radwatch-analysis\\\\ROI.py'>"
      ]
     },
     "execution_count": 2,
     "metadata": {},
     "output_type": "execute_result"
    }
   ],
   "source": [
    "import PF\n",
    "import naa_isotope_analyzer as naa\n",
    "import analysis_methods as am\n",
    "import ROI\n",
    "importlib.reload(PF)\n",
    "importlib.reload(naa)\n",
    "importlib.reload(am)\n",
    "importlib.reload(ROI)"
   ]
  },
  {
   "cell_type": "code",
   "execution_count": 3,
   "metadata": {},
   "outputs": [],
   "source": [
    "def get_isotopes(energies):\n",
    "    hl_cut = 3600 #in becq.fetch decay radiation\n",
    "    br_cut =4.0\n",
    "    df = naa.naa_isotope_analyzer(energies.tolist(),hl_cut,br_cut)\n",
    "    \n",
    "    return df"
   ]
  },
  {
   "cell_type": "code",
   "execution_count": 4,
   "metadata": {},
   "outputs": [
    {
     "name": "stdout",
     "output_type": "stream",
     "text": [
      "SpeFile: Reading file C:/Users/Daniel/Desktop/Radwatch/FishSamples2019/background.Spe\n"
     ]
    },
    {
     "name": "stderr",
     "output_type": "stream",
     "text": [
      "C:\\Users\\Daniel\\Anaconda3\\lib\\site-packages\\becquerel-0.2.4-py3.7.egg\\becquerel\\parsers\\spectrum_file.py:136: SpectrumFileParsingWarning: Spectrum will be initated without an energy calibration;invalid calibration, energies not monotonically increasing.\n",
      "  SpectrumFileParsingWarning)\n"
     ]
    }
   ],
   "source": [
    "#use the ecal and bgspec from google drive\n",
    "#implement choosing between relevant ecal and bg for diff sample groups\n",
    "e_cal = np.loadtxt(r\"C:\\Users\\Daniel\\Desktop\\Radwatch\\FishSamples2019\\11-19-2019-Calibration.Ent\")\n",
    "bgspec =  Spectrum.from_file(r\"C:/Users/Daniel/Desktop/Radwatch/FishSamples2019/background.Spe\")\n",
    "#detector ϵ placeholder = .001"
   ]
  },
  {
   "cell_type": "code",
   "execution_count": 5,
   "metadata": {},
   "outputs": [
    {
     "name": "stdout",
     "output_type": "stream",
     "text": [
      "SpeFile: Reading file C:\\Users\\Daniel\\Desktop\\Radwatch\\FishSamples2019\\ucb1901-30min.Spe\n",
      "SpeFile: Reading file C:\\Users\\Daniel\\Desktop\\Radwatch\\FishSamples2019\\ucb1901-3hr.Spe\n",
      "SpeFile: Reading file C:\\Users\\Daniel\\Desktop\\Radwatch\\FishSamples2019\\ucb1901-24hr.Spe\n"
     ]
    }
   ],
   "source": [
    "#specs for testing\n",
    "spec_30 = Spectrum.from_file(r\"C:\\Users\\Daniel\\Desktop\\Radwatch\\FishSamples2019\\ucb1901-30min.Spe\")\n",
    "spec_03 = Spectrum.from_file(r\"C:\\Users\\Daniel\\Desktop\\Radwatch\\FishSamples2019\\ucb1901-3hr.Spe\")\n",
    "spec_24 = Spectrum.from_file(r\"C:\\Users\\Daniel\\Desktop\\Radwatch\\FishSamples2019\\ucb1901-24hr.Spe\")"
   ]
  },
  {
   "cell_type": "code",
   "execution_count": 6,
   "metadata": {},
   "outputs": [],
   "source": [
    "specs= [spec_30,spec_03,spec_24]\n",
    "cal_specs = []\n",
    "bgspec = am.apply_ecal(bgspec, e_cal)\n",
    "for i in range(len(specs)):\n",
    "    cal_specs.append(am.apply_ecal(specs[i],e_cal))"
   ]
  },
  {
   "cell_type": "code",
   "execution_count": null,
   "metadata": {
    "scrolled": true
   },
   "outputs": [],
   "source": [
    "energies = []\n",
    "for i in range(len(cal_specs)):\n",
    "    energies.append(am.get_energies(cal_specs[i])) #peak finding method, bq.peakfinder\n"
   ]
  },
  {
   "cell_type": "code",
   "execution_count": null,
   "metadata": {},
   "outputs": [],
   "source": [
    "energies[0]"
   ]
  },
  {
   "cell_type": "code",
   "execution_count": null,
   "metadata": {
    "scrolled": true
   },
   "outputs": [],
   "source": [
    "iso_dfs =[]\n",
    "#isotope analyzer improvement\n",
    "for e in energies:\n",
    "    iso_dfs.append(get_isotopes(e))"
   ]
  },
  {
   "cell_type": "code",
   "execution_count": null,
   "metadata": {
    "scrolled": true
   },
   "outputs": [],
   "source": [
    "iso_dfs"
   ]
  },
  {
   "cell_type": "code",
   "execution_count": null,
   "metadata": {},
   "outputs": [],
   "source": [
    "print(energies[0])\n",
    "print(iso_dfs[0].energies)"
   ]
  },
  {
   "cell_type": "code",
   "execution_count": null,
   "metadata": {},
   "outputs": [],
   "source": [
    "nrg_inp = np.array(iso_dfs[0].energies[0])\n",
    "r,u = am.get_counts(cal_specs[0],bgspec,nrg_inp)\n",
    "list1 = r/cal_specs[0].livetime\n",
    "list2 =iso_dfs[0].branching_ratios[0]\n",
    "products = [a * b for a, b in zip(list1, list2)]\n",
    "c= np.sum(products)\n",
    "brbr= iso_dfs[0].branching_ratios[0]\n",
    "print(products)\n",
    "print(c/np.sum(brbr))"
   ]
  },
  {
   "cell_type": "markdown",
   "metadata": {},
   "source": [
    "for k in range(len(cal_specs)):\n",
    "    for j in iso_dfs:\n",
    "        for i in range(len(j.energies)):\n",
    "            c,u = am.get_counts(cal_specs[k],bgspec,i)\n",
    "            l1 = c/cal_specs[k].livetime\n",
    "            l2 = j.branch"
   ]
  },
  {
   "cell_type": "code",
   "execution_count": null,
   "metadata": {},
   "outputs": [],
   "source": [
    "spectra_cnts = {\"Spectrum 1 Counts\":s1cnts,\"Spectrum 2 Counts\":s2cnts,\"Spectrum 3 Counts\":s3cnts}\n",
    "spectra_cnts = pd.DataFrame(spectra_cnts)\n",
    "spectra_cnts "
   ]
  },
  {
   "cell_type": "code",
   "execution_count": null,
   "metadata": {},
   "outputs": [],
   "source": [
    "Abr = []\n",
    "ibrs = []\n",
    "iAs = []\n",
    "mbrs =[]\n",
    "for i in iso_dfs:\n",
    "    for j in range(len(i.energies)):\n",
    "        for k in range(len(i.energies[j])):\n",
    "            ibrs = np.sum(i.branching_ratios[j][k])\n",
    "            iAs = i.energies[j][k] # want counts/livetime not energies\n",
    "            mbrs = i.branching_ratios[j][k]\n",
    "            \n",
    "print(ibrs)\n",
    "#print(iAs)"
   ]
  },
  {
   "cell_type": "code",
   "execution_count": null,
   "metadata": {},
   "outputs": [],
   "source": [
    "iso_array = []\n",
    "for i in iso_dfs:\n",
    "    for j in i.isotopes:\n",
    "        if j in iso_array:\n",
    "           continue \n",
    "        else: \n",
    "            iso_array.append(j)"
   ]
  },
  {
   "cell_type": "code",
   "execution_count": null,
   "metadata": {},
   "outputs": [],
   "source": [
    "nrg_array = [] #keep energies with isotope? maybe this is where I find the total cps of the isotope and put it in\n",
    "for i in iso_dfs:\n",
    "    for j in i.energies:\n",
    "        if j in nrg_array:\n",
    "           continue \n",
    "        else: \n",
    "            nrg_array.append(j)"
   ]
  },
  {
   "cell_type": "code",
   "execution_count": null,
   "metadata": {},
   "outputs": [],
   "source": [
    "iso_npt = {'isotopes':iso_array}#,\"energies\":nrg_array}   \n",
    "\n",
    "isotopes = pd.DataFrame(iso_npt)\n",
    "isotopes"
   ]
  },
  {
   "cell_type": "markdown",
   "metadata": {},
   "source": [
    "#keep counts associated with isotopes, not just raw energy input\n",
    "#reimplementing\n",
    "cnts = []\n",
    "uncs = []\n",
    "icnts = []\n",
    "iuncs = []\n",
    "spcnt = []\n",
    "spunc = []\n",
    "for i in range(len(cal_specs)):\n",
    "    for j in range(len(iso_dfs[i].energies)):\n",
    "        icnts, iuncs = am.get_counts(cal_specs[i],bgspec,iso_dfs[i].energies[j])\n",
    "        spcnt.append(icnts) #how to split arrays for each isotope's energies and keep with each relevant spectra\n",
    "        spunc.append(iuncs)\n",
    "        c.append(spcnt)\n",
    "        u.append(spunc)\n",
    "        spcnt = []\n",
    "        spunc = []\n",
    "    "
   ]
  },
  {
   "cell_type": "code",
   "execution_count": null,
   "metadata": {},
   "outputs": [],
   "source": [
    "print(cnts)\n",
    "#print(cnts[0])#counts for one iso\n",
    "#find a way to order them by spectra at least"
   ]
  },
  {
   "cell_type": "code",
   "execution_count": null,
   "metadata": {},
   "outputs": [],
   "source": [
    "#counts = []\n",
    "#uncertainties =[]\n",
    "#icounts = []\n",
    "#iuncertainties = []\n",
    "#uses PF.PF \n",
    "#for i in range(len(cal_specs)):\n",
    "    icounts, iuncertainties = am.get_counts(cal_specs[i],bgspec,energies[i])\n",
    "    counts.append(icounts)\n",
    "    uncertainties.append(iuncertainties)"
   ]
  },
  {
   "cell_type": "code",
   "execution_count": null,
   "metadata": {
    "scrolled": true
   },
   "outputs": [],
   "source": [
    "print(counts)"
   ]
  },
  {
   "cell_type": "code",
   "execution_count": null,
   "metadata": {},
   "outputs": [],
   "source": [
    "print(cal_specs[0].livetime)"
   ]
  },
  {
   "cell_type": "code",
   "execution_count": null,
   "metadata": {},
   "outputs": [],
   "source": [
    "cps=[]\n",
    "uncs =[]\n",
    "for i in range(len(cal_specs)):\n",
    "    cps.append(counts[i]/cal_specs[i].livetime)\n",
    "    uncs.append(uncertainties[i]/cal_specs[i].livetime)"
   ]
  },
  {
   "cell_type": "code",
   "execution_count": null,
   "metadata": {},
   "outputs": [],
   "source": [
    "print((cps))"
   ]
  },
  {
   "cell_type": "code",
   "execution_count": null,
   "metadata": {},
   "outputs": [],
   "source": [
    "ϵ = .005\n",
    "br = 1\n",
    "A=[]\n",
    "unc = []\n",
    "for i in range(len(counts)):\n",
    "    A.append(am.iso_activity(cps[i],br,ϵ))\n",
    "    unc.append(am.iso_activity(uncs[i],br,ϵ))"
   ]
  },
  {
   "cell_type": "code",
   "execution_count": null,
   "metadata": {},
   "outputs": [],
   "source": [
    "len(A)"
   ]
  },
  {
   "cell_type": "code",
   "execution_count": null,
   "metadata": {},
   "outputs": [],
   "source": [
    "for i in range(len(A)):\n",
    "    for j in range(len(A[i])):\n",
    "        A[i][j] = int(A[i][j])"
   ]
  },
  {
   "cell_type": "code",
   "execution_count": null,
   "metadata": {
    "scrolled": true
   },
   "outputs": [],
   "source": [
    "print(A)"
   ]
  },
  {
   "cell_type": "code",
   "execution_count": null,
   "metadata": {},
   "outputs": [],
   "source": [
    "t0 = cal_specs[0].start_time.timestamp() - (4*24*60*60) #time of irrad\n",
    "print(t0)"
   ]
  },
  {
   "cell_type": "code",
   "execution_count": null,
   "metadata": {},
   "outputs": [],
   "source": [
    "dts=[] #time of measure since time of irradiation\n",
    "\n",
    "for i in range(len(cal_specs)):\n",
    "    dts.append(am.get_dt(cal_specs[i],t0))\n",
    "print(dts)"
   ]
  },
  {
   "cell_type": "code",
   "execution_count": null,
   "metadata": {},
   "outputs": [],
   "source": [
    "iso_dfs[0]\n",
    "#index through the dataframe, get info on each iso\n",
    "#plug in relevant info to the eq. for each iso\n",
    "#be able to select iso of interest?\n",
    "#output all recognized isotopes per sample per measurement?"
   ]
  },
  {
   "cell_type": "code",
   "execution_count": null,
   "metadata": {},
   "outputs": [],
   "source": [
    "flux = 2*10**11 #from davis trigger reactor\n",
    "Tirrad = 1 *3600 #sec irradiated\n",
    "\n",
    "#nndc scraping for verified isotope list and \n",
    "#get hl,M_A, xs, iso abundance, then list\n",
    "\n",
    "hl_na24 = 14.9 *3600 #sec\n",
    "xs_na24 = 0.531399 * (1*10**-24)\n",
    "M_A = 22.989769 #g/mol\n",
    "sample_wt = 1 #g\n",
    "iso_abundance =1 #100% na23"
   ]
  }
 ],
 "metadata": {
  "kernelspec": {
   "display_name": "Python 3",
   "language": "python",
   "name": "python3"
  },
  "language_info": {
   "codemirror_mode": {
    "name": "ipython",
    "version": 3
   },
   "file_extension": ".py",
   "mimetype": "text/x-python",
   "name": "python",
   "nbconvert_exporter": "python",
   "pygments_lexer": "ipython3",
   "version": "3.7.4"
  }
 },
 "nbformat": 4,
 "nbformat_minor": 2
}

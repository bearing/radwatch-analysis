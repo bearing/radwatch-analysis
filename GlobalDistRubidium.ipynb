{
 "cells": [
  {
   "cell_type": "code",
   "execution_count": 1,
   "metadata": {
    "collapsed": true
   },
   "outputs": [],
   "source": [
    "from mpl_toolkits.basemap import Basemap\n",
    "import numpy as np\n",
    "import numpy.ma as ma\n",
    "import matplotlib.pyplot as plt\n",
    "import pandas as pd\n",
    "import folium\n",
    "from folium import IFrame\n",
    "import base64\n",
    "import matplotlib.pyplot as plt"
   ]
  },
  {
   "cell_type": "code",
   "execution_count": 2,
   "metadata": {
    "collapsed": true
   },
   "outputs": [],
   "source": [
    "#Section that creates the map\n",
    "data4 = pd.DataFrame({\n",
    "   'lat':[111,140, -110, -135, -37,122, 123, 124,126,-9, 78,5,123,-175,-67],\n",
    "   'lon':[12,36, 22, 53, -14,24, 23, 22,33,55, 10,57,30,60,5],\n",
    "   'name':['Vietnam', 'Japan', 'Mexico', 'Canada', 'Brazil','Taiwan', \n",
    "           'Taiwan','Taiwan','Korea','Scotland','India','Norway','China','Arctic','Venezuela'],\n",
    "   'value':[2.2,0.14,0.15,0.144,0.25,1.82,0.78,0.114,0.125,0.24, 0.203,0.084,0.25,0.22,0.31]\n",
    "})\n",
    "data4\n",
    " \n",
    "# Make an empty map\n",
    "m4 = folium.Map(location=[20,0], tiles=\"Mapbox Bright\",zoom_start=2)\n",
    " \n",
    "# I can add marker one by one on the map\n",
    "for i in range(0,len(data4)):\n",
    "   folium.Circle(\n",
    "      location=[data4.iloc[i]['lon'], data4.iloc[i]['lat']],\n",
    "      popup=str(data4.iloc[i]['value'])+' ppm',\n",
    "      radius=data4.iloc[i]['value']*300000.0,\n",
    "      color='limegreen',\n",
    "      fill=True,\n",
    "      fill_color='limegreen'\n",
    "   ).add_to(m4)\n"
   ]
  },
  {
   "cell_type": "code",
   "execution_count": 3,
   "metadata": {
    "collapsed": true
   },
   "outputs": [],
   "source": [
    "#Section that creates the first chart\n",
    "#Swai Basa\n",
    "station = '42'\n",
    "resolution, width, height = 75, 9.5, 5\n",
    "\n",
    "elements = ['Sodium', 'Potassium', 'Cobalt', 'Bromine', 'Rubidium', 'Antimony',\n",
    "           'Cesium', 'Mercury']\n",
    "\n",
    "ppm = [980.2, 2588.97, 0.043, 1.4, 2.22, 2.57, 0.21, 0.035]\n",
    "sys_unc = [428.53, 1325.27, 0.022, 0.45, 1.056, 0.62, 0.061, 0.0043]\n",
    "stat_unc = [5.66, 98.93, 0.0056, 0.07, 0.058, 0.17, 0.016, 0.0026]\n",
    "x = np.linspace(1,len(ppm),len(ppm))\n",
    "tot_unc = []\n",
    "for i in x:\n",
    "    val = (sys_unc[int(i)-1]**2+stat_unc[int(i)-1]**2)**0.5\n",
    "    tot_unc.append(val)\n",
    "\n",
    "mpl_fig = plt.figure(figsize=(9.25,3))\n",
    "ax = mpl_fig.add_subplot(111)\n",
    "w=0.25\n",
    "p1 = ax.bar(x, ppm, w, color='powderblue', label='Element')\n",
    "\n",
    "#reference values (based on averages)\n",
    "ppm2 = [1120, 4912, 0.045, 13, 14.7, 1.5, 0.01, 0.314]\n",
    "\n",
    "#regulatory limits for the elements\n",
    "limits = [0, 0, 8.48, 0, 23, 0.1, 0, 1]\n",
    "\n",
    "#reference graph\n",
    "p2 = ax.bar(x+0.25, ppm2, w, color='lightsalmon', edgecolor='red', alpha=0.3, label='Reference')\n",
    "#error bars\n",
    "p3 = plt.errorbar(x, ppm, yerr=tot_unc, fmt='.', ecolor='steelblue', capthick=1, capsize=2)\n",
    "#limits graph\n",
    "p4 = ax.bar(x-0.25, limits, w, color='lightslategray', edgecolor='k', label='Limit')\n",
    "\n",
    "plt.xlabel('Element')\n",
    "plt.ylabel('Concentration in ppm')\n",
    "plt.title('Element ppm of Sample 1: Swai Basa Fillet from Vietnam')\n",
    "plt.legend()\n",
    "plt.xticks(x, elements)\n",
    "ax.set_yscale('log')\n",
    "\n",
    "png = 'mpld3_{}.png'.format(station)\n",
    "mpl_fig.savefig(png, dpi=resolution)\n",
    "\n",
    "encoded = base64.b64encode(open(png, 'rb').read()).decode()\n",
    "\n",
    "encoded2 = base64.b64encode(open('swaiBasa.jpeg', 'rb').read()).decode()\n"
   ]
  },
  {
   "cell_type": "code",
   "execution_count": 7,
   "metadata": {
    "collapsed": false
   },
   "outputs": [],
   "source": [
    "#The first pop up\n",
    "html=\"\"\"\n",
    "    <body style=\"border:3px; border-style:solid; border-color:navy; padding: 1em;\">\n",
    "    <h2>Swai Basa </h2><br>\n",
    "    <img src=\"data:image/png;base64,{}\">\n",
    "    <p>\n",
    "        <b>Location:</b> Vietnam</p>\n",
    "        <img src=\"data:image/jpeg;base64,{}\" style=\"width:400px;height:200px;\" alt=\"Vietnam Concentrations\">\n",
    "        <p><b>Average size:</b> 2 kg</p>\n",
    "        <p><b>Concentration:</b> 2.22 ppm</p>\n",
    "        <p><b>Limit:</b> 23 ppm</p>\n",
    "     <p>   \n",
    "        Rubidium is a non-toxic trace metal commonly found in marine life. While the concentration of rubidium\n",
    "        in Vietnam appears high, it does not exceed the reference limit nor does it pose a health threat. The \n",
    "        amount of rubidium in the fish can be explained by it's diet since rubidium mimics potassium in the body. \n",
    "        Overall, it appears that rubidium is popular in fish located in South East Asia so there is probably an \n",
    "        increased amount of rubidium sediments. \n",
    "    </p>\n",
    "    </body>\n",
    "    \"\"\".format\n",
    "iframe = IFrame(html(encoded,encoded2), width=(width*resolution)+20, height=(height*resolution)+20)\n",
    "popup = folium.Popup(iframe, max_width=2650)\n",
    "\n",
    "folium.Marker([12,110], popup=popup).add_to(m4)\n",
    "\n",
    "m4.save('RubidiumMap.html')"
   ]
  },
  {
   "cell_type": "code",
   "execution_count": null,
   "metadata": {
    "collapsed": true
   },
   "outputs": [],
   "source": []
  }
 ],
 "metadata": {
  "kernelspec": {
   "display_name": "Python 3",
   "language": "python",
   "name": "python3"
  },
  "language_info": {
   "codemirror_mode": {
    "name": "ipython",
    "version": 3
   },
   "file_extension": ".py",
   "mimetype": "text/x-python",
   "name": "python",
   "nbconvert_exporter": "python",
   "pygments_lexer": "ipython3",
   "version": "3.4.5"
  }
 },
 "nbformat": 4,
 "nbformat_minor": 2
}

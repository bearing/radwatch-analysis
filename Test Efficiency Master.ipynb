{
 "cells": [
  {
   "cell_type": "code",
   "execution_count": 10,
   "metadata": {},
   "outputs": [],
   "source": [
    "#Zirui's ROI script\n",
    "from becquerel import Spectrum\n",
    "import numpy as np\n",
    "import matplotlib.pyplot as plt\n",
    "\n",
    "#Input: Spec, Bg, E_Peak, side_bands(have a default)\n",
    "#Method: set_sidebands, get_counts\n",
    "\n",
    "class ROI(object):\n",
    "    def __init__ (self, spec, bg, e_peak):\n",
    "        self.spec = spec\n",
    "        self.bg = bg\n",
    "        self.target_peak = e_peak\n",
    "        self.delta_E = 5\n",
    "        self.window = np.array([[-2, -1], [-0.5, 0.5], [1, 2]])\n",
    "\n",
    "    def set_sideband (self, delta_e, window):\n",
    "        if (np.array(window).ndim != 2 or len(window) != 3):\n",
    "            print (\"Wrong input dimension.\")\n",
    "            return\n",
    "\n",
    "        self.delta_E = delta_e\n",
    "        self.window = np.array(window)\n",
    "\n",
    "    def get_counts (self):\n",
    "        print(len(self.spec))\n",
    "        print(len(self.bg))\n",
    "        bgsub = self.spec - self.bg\n",
    "        idx = (bgsub.energies_kev > self.target_peak+self.window[0,0]*self.delta_E)*(bgsub.energies_kev < self.target_peak+self.window[0,1]*self.delta_E)\n",
    "        prev_bins = np.where(idx)\n",
    "        idx = (bgsub.energies_kev > self.target_peak+self.window[1,0]*self.delta_E)*(bgsub.energies_kev < self.target_peak+self.window[1,1]*self.delta_E)\n",
    "        curr_bins = np.where(idx)\n",
    "        idx = (bgsub.energies_kev > self.target_peak+self.window[2,0]*self.delta_E)*(bgsub.energies_kev < self.target_peak+self.window[2,1]*self.delta_E)\n",
    "        post_bins = np.where(idx)\n",
    "        counts_1 = np.sum(bgsub.cps_vals[prev_bins[0][0]:prev_bins[0][-1]]) * self.spec.livetime\n",
    "        counts_2 = np.sum(bgsub.cps_vals[post_bins[0][0]:post_bins[0][-1]]) * self.spec.livetime\n",
    "        counts_target = np.sum(bgsub.cps_vals[curr_bins[0][0]:curr_bins[0][-1]]) * self.spec.livetime\n",
    "        background = (counts_1 + counts_2)/2\n",
    "        net_counts = counts_target - background\n",
    "\n",
    "        return net_counts\n"
   ]
  },
  {
   "cell_type": "code",
   "execution_count": 11,
   "metadata": {},
   "outputs": [],
   "source": [
    "#Austin's PF script\n",
    "import becquerel as bq\n",
    "from becquerel import Spectrum\n",
    "import numpy as np\n",
    "import matplotlib.pyplot as plt\n",
    "import scipy.integrate as integrate\n",
    "import math as m\n",
    "\n",
    "#INPUT: source_energies, spectrum, background, branching_ratio\n",
    "\n",
    "class PF(object):\n",
    "    def __init__(self,source_energies,source_activities,spectrum,background,branching_ratio):\n",
    "        self.source_energies = source_energies\n",
    "        self.source_activities = source_activities\n",
    "        self.spectrum = spectrum\n",
    "        self.background = background\n",
    "        self.branching_ratio = branching_ratio\n",
    "    def Efficiency(self):\n",
    "        def f_near(energy_array,energy): #finds index of closest energy in spectrum to that of the characteristic energy\n",
    "            idx = np.abs(energy_array - energy).argmin()\n",
    "            return idx\n",
    "        def calibration(integrals): #calculate efficiencies\n",
    "            efficiencies = []\n",
    "            for x in range(0,len(source_activities)):\n",
    "                iso = bq.tools.Isotope(source_isotopes[x])\n",
    "                efficiency = integrals[x]/(source_activities[x]*branching_ratio[x])\n",
    "                efficiencies = np.append(efficiencies,efficiency)\n",
    "            return efficiencies\n",
    "        spec = Spectrum.from_file(self.spectrum) #import spectrum data\n",
    "        spec_counts = spec.counts_vals #spectrum counts\n",
    "        bg = Spectrum.from_file(self.background) #import spectrum data\n",
    "        bg_counts = bg.counts_vals #background counts\n",
    "        sub_spec = spec - bg #background subtraction\n",
    "        spec_energies = sub_spec.energies_kev #all energues\n",
    "        spec_counts = spec_counts - bg_counts #all counts\n",
    "        integrals = []\n",
    "        for n in self.source_energies:\n",
    "            fit = bq.core.fitting.FitterGaussErfLine(x=sub_spec.channels, y=sub_spec.cps_vals, y_unc=sub_spec.cps_uncs)\n",
    "            idx = f_near(spec_energies,n)\n",
    "            fit.set_roi(idx-100,idx+100)\n",
    "            fit.fit()\n",
    "            amp = fit.result.params['gauss_amp'].value\n",
    "            mu = fit.result.params['gauss_mu'].value\n",
    "            sigma =fit.result.params['gauss_sigma'].value\n",
    "            def gaussian(x):\n",
    "                return (spec.livetime * amp /(m.sqrt(2*m.pi)*sigma)) * m.exp(- ((x-mu)**2) / (2*sigma**2))\n",
    "            integral = integrate.quad(gaussian, idx-100, idx+100)\n",
    "            integrals = np.append(integrals,integral[0])\n",
    "        efficiencies = calibration(integrals)\n",
    "        return efficiencies"
   ]
  },
  {
   "cell_type": "code",
   "execution_count": 13,
   "metadata": {},
   "outputs": [
    {
     "name": "stdout",
     "output_type": "stream",
     "text": [
      "SpeFile: Reading file UCB087_Wild_King_Salmon_3.Spe\n",
      "SpeFile: Reading file UCB096_Backgorund_2_13_17.Spe\n",
      "16384\n",
      "16384\n"
     ]
    },
    {
     "name": "stderr",
     "output_type": "stream",
     "text": [
      "/Users/austinshih/Documents/GitHub/becquerel/becquerel/core/spectrum.py:555: SpectrumWarning: Subtraction of counts-based specta, spectra have been converted to CPS\n",
      "  'have been converted to CPS', SpectrumWarning)\n"
     ]
    },
    {
     "name": "stdout",
     "output_type": "stream",
     "text": [
      "SpeFile: Reading file UCB087_Wild_King_Salmon_3.Spe\n",
      "SpeFile: Reading file UCB096_Backgorund_2_13_17.Spe\n",
      "51548.5 [57966.7940058]\n"
     ]
    }
   ],
   "source": [
    "#Efficiency Master\n",
    "#Define inputs\n",
    "source_isotopes = np.array(['K-40']);\n",
    "source_energies = np.array([1460]);\n",
    "source_activities = np.array([1]);\n",
    "spectrum = 'UCB087_Wild_King_Salmon_3.Spe'\n",
    "background = 'UCB096_Backgorund_2_13_17.Spe'\n",
    "branching_ratio = np.array([1]);\n",
    "\n",
    "#Call scripts\n",
    "roi = ROI(Spectrum.from_file(spectrum), Spectrum.from_file(background), source_energies)\n",
    "roi_result = roi.get_counts()\n",
    "peakfit = PF(source_energies,source_activities,spectrum,background,branching_ratio)\n",
    "pf_result = peakfit.Efficiency()\n",
    "print(roi_result, pf_result)"
   ]
  },
  {
   "cell_type": "code",
   "execution_count": null,
   "metadata": {},
   "outputs": [],
   "source": []
  }
 ],
 "metadata": {
  "kernelspec": {
   "display_name": "Python 3",
   "language": "python",
   "name": "python3"
  },
  "language_info": {
   "codemirror_mode": {
    "name": "ipython",
    "version": 3
   },
   "file_extension": ".py",
   "mimetype": "text/x-python",
   "name": "python",
   "nbconvert_exporter": "python",
   "pygments_lexer": "ipython3",
   "version": "3.7.1"
  }
 },
 "nbformat": 4,
 "nbformat_minor": 2
}

{
 "cells": [
  {
   "cell_type": "code",
   "execution_count": 1,
   "metadata": {},
   "outputs": [],
   "source": [
    "import becquerel as bq\n",
    "import pandas as pd\n",
    "from becquerel import Spectrum\n",
    "import numpy as np\n",
    "import matplotlib.pyplot as plt\n",
    "import scipy.integrate as integrate\n",
    "import math as m"
   ]
  },
  {
   "cell_type": "code",
   "execution_count": 2,
   "metadata": {},
   "outputs": [],
   "source": [
    "def gaussian(x):\n",
    "    return (spec.livetime * amp /(m.sqrt(2*m.pi)*sigma)) * m.exp(- ((x-mu)**2) / (2*sigma**2))"
   ]
  },
  {
   "cell_type": "code",
   "execution_count": 6,
   "metadata": {},
   "outputs": [
    {
     "name": "stdout",
     "output_type": "stream",
     "text": [
      "SpeFile: Reading file C:\\Users\\Daniel\\Desktop\\Radwatch\\FishSamples2019\\ucb1901-30min.Spe\n",
      "SpeFile: Reading file C:/Users/Daniel/Desktop/Radwatch/FishSamples2019/Background_Spectrum_12_20_19.Spe\n"
     ]
    }
   ],
   "source": [
    "spec = Spectrum.from_file(r'C:\\Users\\Daniel\\Desktop\\Radwatch\\FishSamples2019\\ucb1901-30min.Spe') #import spectrum from file\n",
    "len(spec)\n",
    "bg = Spectrum.from_file(r'C:/Users/Daniel/Desktop/Radwatch/FishSamples2019/Background_Spectrum_12_20_19.Spe'\n",
    ")"
   ]
  },
  {
   "cell_type": "code",
   "execution_count": 7,
   "metadata": {},
   "outputs": [
    {
     "name": "stdout",
     "output_type": "stream",
     "text": [
      "2019-11-13 16:22:08\n",
      "2019-11-13 16:52:41\n",
      "1833.0\n",
      "1800.0\n"
     ]
    }
   ],
   "source": [
    "#test spectrum functions\n",
    "print(spec.start_time)\n",
    "print(spec.stop_time)\n",
    "print(spec.realtime)\n",
    "print(spec.livetime)"
   ]
  },
  {
   "cell_type": "code",
   "execution_count": 8,
   "metadata": {},
   "outputs": [],
   "source": [
    "#input of sources\n",
    "#energy and activities\n",
    "\n",
    "#22 sources from Tyler's efficiency csv\n",
    "#source_energy = np.array([661.657,59.54,238.6,583.2,2614.5,80.8983,276.38,302.85,356.017,383.851,121.7817,244.6975,\n",
    "#344.2785,411.1163,778.904,867.373,964.079,1085.869,1112.069,1212.948,1299.14,1408.006]);\n",
    "#22 activity placeholders\n",
    "#source_activity = np.linspace(1,22,22);\n",
    "\n",
    "#specific for this spectrum\n",
    "#https://drive.google.com/drive/u/0/folders/0BwU6Sr8Jh6Sgd2dabnZ6N1ZxMEk\n",
    "# K-40, Bi-214, Tl-208\n",
    "# indices 8140, 9835, 14574\n",
    "source_energy = np.array([1460, 609, 2614]);\n",
    "source_activity = np.array([1, 2, 3]);"
   ]
  },
  {
   "cell_type": "code",
   "execution_count": 12,
   "metadata": {},
   "outputs": [],
   "source": [
    "counts = spec.counts_vals\n",
    "energies = spec.bin_centers_kev\n",
    "\n",
    "#function to find index of closest energy where a is the desired energy and n is \n",
    "def f_near(a,a0):\n",
    "    idx = np.abs(a - a0).argmin()\n",
    "    return idx"
   ]
  },
  {
   "cell_type": "code",
   "execution_count": 15,
   "metadata": {},
   "outputs": [
    {
     "ename": "NotImplementedError",
     "evalue": "Addition/subtraction for arbitrary calibrated spectra not implemented",
     "output_type": "error",
     "traceback": [
      "\u001b[1;31m---------------------------------------------------------------------------\u001b[0m",
      "\u001b[1;31mNotImplementedError\u001b[0m                       Traceback (most recent call last)",
      "\u001b[1;32m<ipython-input-15-f3de4c6bb52e>\u001b[0m in \u001b[0;36m<module>\u001b[1;34m\u001b[0m\n\u001b[1;32m----> 1\u001b[1;33m \u001b[0mbgspec\u001b[0m \u001b[1;33m=\u001b[0m \u001b[0mnp\u001b[0m\u001b[1;33m.\u001b[0m\u001b[0msubtract\u001b[0m\u001b[1;33m(\u001b[0m\u001b[0mspec\u001b[0m\u001b[1;33m,\u001b[0m \u001b[0mbg\u001b[0m\u001b[1;33m)\u001b[0m\u001b[1;33m\u001b[0m\u001b[1;33m\u001b[0m\u001b[0m\n\u001b[0m",
      "\u001b[1;32m~\\Anaconda3\\lib\\site-packages\\becquerel-0.2.4-py3.7.egg\\becquerel\\core\\spectrum.py\u001b[0m in \u001b[0;36m__sub__\u001b[1;34m(self, other)\u001b[0m\n\u001b[0;32m    719\u001b[0m         \"\"\"\n\u001b[0;32m    720\u001b[0m \u001b[1;33m\u001b[0m\u001b[0m\n\u001b[1;32m--> 721\u001b[1;33m         \u001b[0mself\u001b[0m\u001b[1;33m.\u001b[0m\u001b[0m_add_sub_error_checking\u001b[0m\u001b[1;33m(\u001b[0m\u001b[0mother\u001b[0m\u001b[1;33m)\u001b[0m\u001b[1;33m\u001b[0m\u001b[1;33m\u001b[0m\u001b[0m\n\u001b[0m\u001b[0;32m    722\u001b[0m         \u001b[1;32mtry\u001b[0m\u001b[1;33m:\u001b[0m\u001b[1;33m\u001b[0m\u001b[1;33m\u001b[0m\u001b[0m\n\u001b[0;32m    723\u001b[0m             \u001b[0mkwargs\u001b[0m \u001b[1;33m=\u001b[0m \u001b[1;33m{\u001b[0m\u001b[1;34m'cps'\u001b[0m\u001b[1;33m:\u001b[0m \u001b[0mself\u001b[0m\u001b[1;33m.\u001b[0m\u001b[0mcps\u001b[0m \u001b[1;33m-\u001b[0m \u001b[0mother\u001b[0m\u001b[1;33m.\u001b[0m\u001b[0mcps\u001b[0m\u001b[1;33m}\u001b[0m\u001b[1;33m\u001b[0m\u001b[1;33m\u001b[0m\u001b[0m\n",
      "\u001b[1;32m~\\Anaconda3\\lib\\site-packages\\becquerel-0.2.4-py3.7.egg\\becquerel\\core\\spectrum.py\u001b[0m in \u001b[0;36m_add_sub_error_checking\u001b[1;34m(self, other)\u001b[0m\n\u001b[0;32m    769\u001b[0m             \u001b[1;32mif\u001b[0m \u001b[1;32mnot\u001b[0m \u001b[0mnp\u001b[0m\u001b[1;33m.\u001b[0m\u001b[0mall\u001b[0m\u001b[1;33m(\u001b[0m\u001b[0mself\u001b[0m\u001b[1;33m.\u001b[0m\u001b[0mbin_edges_kev\u001b[0m \u001b[1;33m==\u001b[0m \u001b[0mother\u001b[0m\u001b[1;33m.\u001b[0m\u001b[0mbin_edges_kev\u001b[0m\u001b[1;33m)\u001b[0m\u001b[1;33m:\u001b[0m\u001b[1;33m\u001b[0m\u001b[1;33m\u001b[0m\u001b[0m\n\u001b[0;32m    770\u001b[0m                 raise NotImplementedError(\n\u001b[1;32m--> 771\u001b[1;33m                     \u001b[1;34m'Addition/subtraction for arbitrary calibrated spectra '\u001b[0m \u001b[1;33m+\u001b[0m\u001b[1;33m\u001b[0m\u001b[1;33m\u001b[0m\u001b[0m\n\u001b[0m\u001b[0;32m    772\u001b[0m                     'not implemented')\n\u001b[0;32m    773\u001b[0m                 \u001b[1;31m# TODO: if both spectra are calibrated but with different\u001b[0m\u001b[1;33m\u001b[0m\u001b[1;33m\u001b[0m\u001b[1;33m\u001b[0m\u001b[0m\n",
      "\u001b[1;31mNotImplementedError\u001b[0m: Addition/subtraction for arbitrary calibrated spectra not implemented"
     ]
    }
   ],
   "source": [
    "bgspec = np.subtract(spec, bg)"
   ]
  },
  {
   "cell_type": "code",
   "execution_count": 14,
   "metadata": {},
   "outputs": [
    {
     "ename": "NameError",
     "evalue": "name 'bgspec' is not defined",
     "output_type": "error",
     "traceback": [
      "\u001b[1;31m---------------------------------------------------------------------------\u001b[0m",
      "\u001b[1;31mNameError\u001b[0m                                 Traceback (most recent call last)",
      "\u001b[1;32m<ipython-input-14-a95b3c658e3c>\u001b[0m in \u001b[0;36m<module>\u001b[1;34m\u001b[0m\n\u001b[0;32m      4\u001b[0m \u001b[0mroi_high\u001b[0m \u001b[1;33m=\u001b[0m \u001b[0miso_idx\u001b[0m \u001b[1;33m+\u001b[0m \u001b[1;36m50\u001b[0m\u001b[1;33m\u001b[0m\u001b[1;33m\u001b[0m\u001b[0m\n\u001b[0;32m      5\u001b[0m \u001b[1;31m#plot_counts = spec.counts_vals[roi_low:roi_high]\u001b[0m\u001b[1;33m\u001b[0m\u001b[1;33m\u001b[0m\u001b[1;33m\u001b[0m\u001b[0m\n\u001b[1;32m----> 6\u001b[1;33m \u001b[0mplot_counts\u001b[0m \u001b[1;33m=\u001b[0m \u001b[0mbgspec\u001b[0m\u001b[1;33m.\u001b[0m\u001b[0mcps_vals\u001b[0m\u001b[1;33m[\u001b[0m\u001b[0mroi_low\u001b[0m\u001b[1;33m:\u001b[0m\u001b[0mroi_high\u001b[0m\u001b[1;33m]\u001b[0m\u001b[1;33m\u001b[0m\u001b[1;33m\u001b[0m\u001b[0m\n\u001b[0m\u001b[0;32m      7\u001b[0m \u001b[0mplot_energies\u001b[0m \u001b[1;33m=\u001b[0m \u001b[0mspec\u001b[0m\u001b[1;33m.\u001b[0m\u001b[0menergies_kev\u001b[0m\u001b[1;33m[\u001b[0m\u001b[0mroi_low\u001b[0m\u001b[1;33m:\u001b[0m\u001b[0mroi_high\u001b[0m\u001b[1;33m]\u001b[0m\u001b[1;33m\u001b[0m\u001b[1;33m\u001b[0m\u001b[0m\n\u001b[0;32m      8\u001b[0m \u001b[0mplt\u001b[0m\u001b[1;33m.\u001b[0m\u001b[0mplot\u001b[0m\u001b[1;33m(\u001b[0m\u001b[0mplot_energies\u001b[0m\u001b[1;33m,\u001b[0m\u001b[0mplot_counts\u001b[0m\u001b[1;33m)\u001b[0m\u001b[1;33m\u001b[0m\u001b[1;33m\u001b[0m\u001b[0m\n",
      "\u001b[1;31mNameError\u001b[0m: name 'bgspec' is not defined"
     ]
    }
   ],
   "source": [
    "#test plotting\n",
    "iso_idx = f_near(energies,source_energy[1])\n",
    "roi_low = iso_idx - 50\n",
    "roi_high = iso_idx + 50\n",
    "#plot_counts = spec.counts_vals[roi_low:roi_high]\n",
    "plot_counts = bgspec.cps_vals[roi_low:roi_high]\n",
    "plot_energies = spec.energies_kev[roi_low:roi_high]\n",
    "plt.plot(plot_energies,plot_counts)\n",
    "#plt.plot(spec.energies_kev,spec.counts_vals)\n",
    "plt.yscale('log')\n",
    "np.argmax(counts)\n",
    "np.sum(plot_counts)"
   ]
  },
  {
   "cell_type": "code",
   "execution_count": null,
   "metadata": {},
   "outputs": [],
   "source": [
    "model = ['gauss','line','erf']\n",
    "fit = bq.core.fitting.Fitter(model, x=bgspec.bin_indices, y=bgspec.cps_vals, y_unc=bgspec.cps_uncs)\n",
    "idx = f_near(energies,609)\n",
    "fit.set_roi(idx-100, idx+100)\n",
    "fit.fit()\n",
    "\n",
    "#fit.results.params.pretty_print()\n",
    "\n",
    "fit.custom_plot()"
   ]
  },
  {
   "cell_type": "code",
   "execution_count": null,
   "metadata": {},
   "outputs": [],
   "source": [
    "fit.result.params.pretty_print()"
   ]
  },
  {
   "cell_type": "code",
   "execution_count": null,
   "metadata": {},
   "outputs": [],
   "source": [
    "#calculate integral of fitted Gaussian\n",
    "amp = fit.result.params['gauss_amp'].value\n",
    "mu = fit.result.params['gauss_mu'].value\n",
    "sigma =fit.result.params['gauss_sigma'].value\n",
    "\n",
    "integral = integrate.quad(gaussian, idx-100, idx+100)\n",
    "print(integral)"
   ]
  },
  {
   "cell_type": "code",
   "execution_count": null,
   "metadata": {},
   "outputs": [],
   "source": [
    "#Now doing it iteratively through all energies\n",
    "integrals = []\n",
    "\n",
    "for n in source_energy:\n",
    "    model = ['gauss','line','erf']\n",
    "    fit = bq.core.fitting.Fitter(model, x=spec.bin_indices, y=spec.cps_vals, y_unc=spec.cps_uncs)\n",
    "    idx = f_near(energies,n)\n",
    "    print(idx)\n",
    "    fit.set_roi(idx-100, idx+100)\n",
    "    fit.fit()\n",
    "    amp = fit.result.params['gauss_amp'].value\n",
    "    mu = fit.result.params['gauss_mu'].value\n",
    "    sigma = fit.result.params['gauss_sigma'].value\n",
    "    integral = integrate.quad(gaussian, idx-100, idx+100)\n",
    "    integrals.append(integral[0])\n",
    "\n",
    "print(integrals)"
   ]
  },
  {
   "cell_type": "code",
   "execution_count": null,
   "metadata": {},
   "outputs": [],
   "source": [
    "#Testing 1764\n",
    "idx = f_near(energies,1764)\n",
    "print(idx)\n",
    "plot_counts = spec.counts_vals[idx-40:idx+40]\n",
    "plot_energies = spec.energies_kev[idx-40:idx+40]\n",
    "plt.plot(plot_energies,plot_counts)\n",
    "plt.yscale('log')"
   ]
  },
  {
   "cell_type": "code",
   "execution_count": null,
   "metadata": {},
   "outputs": [],
   "source": [
    "model = ['gauss','line','erf']\n",
    "fit = bq.core.fitting.Fitter(model, x=spec.bin_indices, y=spec.cps_vals, y_unc=spec.cps_uncs)\n",
    "idx = f_near(energies,1460)\n",
    "fit.set_roi(idx-100, idx+100)\n",
    "fit.fit()\n",
    "\n",
    "amp = fit.result.params['gauss_amp'].value\n",
    "mu = fit.result.params['gauss_mu'].value\n",
    "sigma = fit.result.params['gauss_sigma'].value\n",
    "integral = integrate.quad(gaussian, idx-100, idx+100)\n",
    "\n",
    "print()\n",
    "print(integral)\n",
    "fit.custom_plot()"
   ]
  },
  {
   "cell_type": "code",
   "execution_count": null,
   "metadata": {},
   "outputs": [],
   "source": [
    "#Testing 2614\n",
    "idx = f_near(energies,2614)\n",
    "print(idx)\n",
    "plot_counts = spec.counts_vals[idx-40:idx+40]\n",
    "plot_energies = spec.energies_kev[idx-40:idx+40]\n",
    "plt.plot(plot_energies,plot_counts)\n",
    "plt.yscale('log')"
   ]
  },
  {
   "cell_type": "code",
   "execution_count": 4,
   "metadata": {},
   "outputs": [
    {
     "ename": "NameError",
     "evalue": "name 'fit' is not defined",
     "output_type": "error",
     "traceback": [
      "\u001b[1;31m---------------------------------------------------------------------------\u001b[0m",
      "\u001b[1;31mNameError\u001b[0m                                 Traceback (most recent call last)",
      "\u001b[1;32m<ipython-input-4-059c4ac9323c>\u001b[0m in \u001b[0;36m<module>\u001b[1;34m\u001b[0m\n\u001b[1;32m----> 1\u001b[1;33m \u001b[0mfit\u001b[0m\u001b[1;33m.\u001b[0m\u001b[0mset_roi\u001b[0m\u001b[1;33m(\u001b[0m\u001b[0midx\u001b[0m\u001b[1;33m-\u001b[0m\u001b[1;36m40\u001b[0m\u001b[1;33m,\u001b[0m \u001b[0midx\u001b[0m\u001b[1;33m+\u001b[0m\u001b[1;36m40\u001b[0m\u001b[1;33m)\u001b[0m\u001b[1;33m\u001b[0m\u001b[1;33m\u001b[0m\u001b[0m\n\u001b[0m\u001b[0;32m      2\u001b[0m \u001b[0mfit\u001b[0m\u001b[1;33m.\u001b[0m\u001b[0mfit\u001b[0m\u001b[1;33m(\u001b[0m\u001b[1;33m)\u001b[0m\u001b[1;33m\u001b[0m\u001b[1;33m\u001b[0m\u001b[0m\n\u001b[0;32m      3\u001b[0m \u001b[0mfit\u001b[0m\u001b[1;33m.\u001b[0m\u001b[0mparams\u001b[0m \u001b[1;31m#type is lmfit.parameter.Parameters\u001b[0m\u001b[1;33m\u001b[0m\u001b[1;33m\u001b[0m\u001b[0m\n\u001b[0;32m      4\u001b[0m \u001b[0mfit\u001b[0m\u001b[1;33m.\u001b[0m\u001b[0mparams\u001b[0m\u001b[1;33m.\u001b[0m\u001b[0mpretty_print\u001b[0m\u001b[1;33m(\u001b[0m\u001b[1;33m)\u001b[0m\u001b[1;33m\u001b[0m\u001b[1;33m\u001b[0m\u001b[0m\n\u001b[0;32m      5\u001b[0m \u001b[0mfit\u001b[0m\u001b[1;33m.\u001b[0m\u001b[0mcustom_plot\u001b[0m\u001b[1;33m(\u001b[0m\u001b[1;33m)\u001b[0m\u001b[1;33m\u001b[0m\u001b[1;33m\u001b[0m\u001b[0m\n",
      "\u001b[1;31mNameError\u001b[0m: name 'fit' is not defined"
     ]
    }
   ],
   "source": [
    "fit.set_roi(idx-40, idx+40)\n",
    "fit.fit()\n",
    "fit.params #type is lmfit.parameter.Parameters\n",
    "fit.params.pretty_print()\n",
    "fit.custom_plot()\n",
    "amp = fit.result.params['gauss_amp'].value\n",
    "mu = fit.result.params['gauss_mu'].value\n",
    "sigma = fit.result.params['gauss_sigma'].value\n",
    "integral = integrate.quad(gaussian, idx-100, idx+100)\n",
    "\n",
    "print(integral)"
   ]
  },
  {
   "cell_type": "code",
   "execution_count": 5,
   "metadata": {},
   "outputs": [
    {
     "ename": "NameError",
     "evalue": "name 'integrals' is not defined",
     "output_type": "error",
     "traceback": [
      "\u001b[1;31m---------------------------------------------------------------------------\u001b[0m",
      "\u001b[1;31mNameError\u001b[0m                                 Traceback (most recent call last)",
      "\u001b[1;32m<ipython-input-5-375aaf0bffe0>\u001b[0m in \u001b[0;36m<module>\u001b[1;34m\u001b[0m\n\u001b[0;32m      6\u001b[0m \u001b[1;32mfor\u001b[0m \u001b[0mx\u001b[0m \u001b[1;32min\u001b[0m \u001b[0mrange\u001b[0m\u001b[1;33m(\u001b[0m\u001b[1;36m0\u001b[0m\u001b[1;33m,\u001b[0m\u001b[0mlen\u001b[0m\u001b[1;33m(\u001b[0m\u001b[0msource_activity\u001b[0m\u001b[1;33m)\u001b[0m\u001b[1;33m)\u001b[0m\u001b[1;33m:\u001b[0m\u001b[1;33m\u001b[0m\u001b[1;33m\u001b[0m\u001b[0m\n\u001b[0;32m      7\u001b[0m     \u001b[0miso\u001b[0m \u001b[1;33m=\u001b[0m \u001b[0mbq\u001b[0m\u001b[1;33m.\u001b[0m\u001b[0mIsotope\u001b[0m\u001b[1;33m(\u001b[0m\u001b[0msource_isotopes\u001b[0m\u001b[1;33m[\u001b[0m\u001b[0mx\u001b[0m\u001b[1;33m]\u001b[0m\u001b[1;33m)\u001b[0m\u001b[1;33m\u001b[0m\u001b[1;33m\u001b[0m\u001b[0m\n\u001b[1;32m----> 8\u001b[1;33m     \u001b[0mefficiency\u001b[0m \u001b[1;33m=\u001b[0m \u001b[0mintegrals\u001b[0m\u001b[1;33m[\u001b[0m\u001b[0mx\u001b[0m\u001b[1;33m]\u001b[0m\u001b[1;33m/\u001b[0m\u001b[0msource_activity\u001b[0m\u001b[1;33m[\u001b[0m\u001b[0mx\u001b[0m\u001b[1;33m]\u001b[0m\u001b[1;33m\u001b[0m\u001b[1;33m\u001b[0m\u001b[0m\n\u001b[0m\u001b[0;32m      9\u001b[0m     \u001b[0mefficiencies\u001b[0m \u001b[1;33m=\u001b[0m \u001b[0mnp\u001b[0m\u001b[1;33m.\u001b[0m\u001b[0mappend\u001b[0m\u001b[1;33m(\u001b[0m\u001b[0mefficiencies\u001b[0m\u001b[1;33m,\u001b[0m\u001b[0mefficiency\u001b[0m\u001b[1;33m)\u001b[0m\u001b[1;33m\u001b[0m\u001b[1;33m\u001b[0m\u001b[0m\n",
      "\u001b[1;31mNameError\u001b[0m: name 'integrals' is not defined"
     ]
    }
   ],
   "source": [
    "source_isotopes = np.array(['K-40','Bi-214','Tl-208']);\n",
    "source_energy = np.array([1460, 1764, 2614]);\n",
    "source_activity = np.array([1, 2, 3]);\n",
    "\n",
    "efficiencies = []\n",
    "for x in range(0,len(source_activity)):\n",
    "    iso = bq.Isotope(source_isotopes[x])\n",
    "    efficiency = integrals[x]/source_activity[x]\n",
    "    efficiencies = np.append(efficiencies,efficiency)\n"
   ]
  },
  {
   "cell_type": "code",
   "execution_count": null,
   "metadata": {},
   "outputs": [],
   "source": []
  }
 ],
 "metadata": {
  "kernelspec": {
   "display_name": "Python 3",
   "language": "python",
   "name": "python3"
  },
  "language_info": {
   "codemirror_mode": {
    "name": "ipython",
    "version": 3
   },
   "file_extension": ".py",
   "mimetype": "text/x-python",
   "name": "python",
   "nbconvert_exporter": "python",
   "pygments_lexer": "ipython3",
   "version": "3.7.4"
  }
 },
 "nbformat": 4,
 "nbformat_minor": 2
}

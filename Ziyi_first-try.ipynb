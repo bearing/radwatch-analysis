{
 "cells": [
  {
   "cell_type": "code",
   "execution_count": 2,
   "metadata": {},
   "outputs": [],
   "source": [
    "import sys\n",
    "from becquerel import Spectrum\n",
    "import numpy as np\n",
    "import matplotlib.pyplot as plt\n",
    "import becquerel as bq\n",
    "import scipy.integrate as integrate\n",
    "import math as m\n"
   ]
  },
  {
   "cell_type": "code",
   "execution_count": 3,
   "metadata": {},
   "outputs": [],
   "source": [
    "import PF\n",
    "import ROI"
   ]
  },
  {
   "cell_type": "code",
   "execution_count": 4,
   "metadata": {},
   "outputs": [
    {
     "name": "stdout",
     "output_type": "stream",
     "text": [
      "SpeFile: Reading file C:\\Users\\Henricus\\Downloads\\UCB087_Wild_King_Salmon_3.Spe\n",
      "SpeFile: Reading file C:\\Users\\Henricus\\Downloads\\UCB096_Backgorund_2_13_17.Spe\n"
     ]
    },
    {
     "name": "stderr",
     "output_type": "stream",
     "text": [
      "c:\\users\\henricus\\documents\\github\\becquerel\\becquerel\\core\\spectrum.py:726: SpectrumWarning: Subtraction of counts-based specta, spectra have been converted to CPS\n",
      "  'have been converted to CPS', SpectrumWarning)\n",
      "c:\\users\\henricus\\documents\\github\\becquerel\\becquerel\\core\\spectrum.py:440: DeprecationWarning: energies_kev is deprecated and will be removed in a future release. Use bin_centers_kev instead.\n",
      "  DeprecationWarning)\n"
     ]
    },
    {
     "name": "stdout",
     "output_type": "stream",
     "text": [
      "SpeFile: Reading file C:\\Users\\Henricus\\Downloads\\UCB087_Wild_King_Salmon_3.Spe\n",
      "SpeFile: Reading file C:\\Users\\Henricus\\Downloads\\UCB096_Backgorund_2_13_17.Spe\n"
     ]
    },
    {
     "ename": "AttributeError",
     "evalue": "module 'becquerel.core.fitting' has no attribute 'FitterGaussErfLine'",
     "output_type": "error",
     "traceback": [
      "\u001b[1;31m---------------------------------------------------------------------------\u001b[0m",
      "\u001b[1;31mAttributeError\u001b[0m                            Traceback (most recent call last)",
      "\u001b[1;32m<ipython-input-4-fd2e8e2c6f8b>\u001b[0m in \u001b[0;36m<module>\u001b[1;34m\u001b[0m\n\u001b[0;32m     10\u001b[0m \u001b[0mroi_result\u001b[0m \u001b[1;33m=\u001b[0m \u001b[0mroi\u001b[0m\u001b[1;33m.\u001b[0m\u001b[0mget_counts\u001b[0m\u001b[1;33m(\u001b[0m\u001b[1;33m)\u001b[0m\u001b[1;33m\u001b[0m\u001b[1;33m\u001b[0m\u001b[0m\n\u001b[0;32m     11\u001b[0m \u001b[0mpeakfit\u001b[0m \u001b[1;33m=\u001b[0m \u001b[0mPF\u001b[0m\u001b[1;33m.\u001b[0m\u001b[0mPF\u001b[0m\u001b[1;33m(\u001b[0m\u001b[0msource_energies\u001b[0m\u001b[1;33m,\u001b[0m\u001b[0msource_activities\u001b[0m\u001b[1;33m,\u001b[0m\u001b[0mspectrum\u001b[0m\u001b[1;33m,\u001b[0m\u001b[0mbackground\u001b[0m\u001b[1;33m,\u001b[0m\u001b[0mbranching_ratio\u001b[0m\u001b[1;33m)\u001b[0m\u001b[1;33m\u001b[0m\u001b[1;33m\u001b[0m\u001b[0m\n\u001b[1;32m---> 12\u001b[1;33m \u001b[0mpf_result\u001b[0m \u001b[1;33m=\u001b[0m \u001b[0mpeakfit\u001b[0m\u001b[1;33m.\u001b[0m\u001b[0mEfficiency\u001b[0m\u001b[1;33m(\u001b[0m\u001b[1;33m)\u001b[0m\u001b[1;33m\u001b[0m\u001b[1;33m\u001b[0m\u001b[0m\n\u001b[0m\u001b[0;32m     13\u001b[0m \u001b[0mprint\u001b[0m\u001b[1;33m(\u001b[0m\u001b[0mroi_result\u001b[0m\u001b[1;33m,\u001b[0m \u001b[0mpf_result\u001b[0m\u001b[1;33m)\u001b[0m\u001b[1;33m\u001b[0m\u001b[1;33m\u001b[0m\u001b[0m\n",
      "\u001b[1;32m~\\Documents\\GitHub\\radwatch-analysis\\PF.py\u001b[0m in \u001b[0;36mEfficiency\u001b[1;34m(self)\u001b[0m\n\u001b[0;32m     36\u001b[0m         \u001b[0mintegrals\u001b[0m \u001b[1;33m=\u001b[0m \u001b[1;33m[\u001b[0m\u001b[1;33m]\u001b[0m\u001b[1;33m\u001b[0m\u001b[1;33m\u001b[0m\u001b[0m\n\u001b[0;32m     37\u001b[0m         \u001b[1;32mfor\u001b[0m \u001b[0mn\u001b[0m \u001b[1;32min\u001b[0m \u001b[0mself\u001b[0m\u001b[1;33m.\u001b[0m\u001b[0msource_energies\u001b[0m\u001b[1;33m:\u001b[0m\u001b[1;33m\u001b[0m\u001b[1;33m\u001b[0m\u001b[0m\n\u001b[1;32m---> 38\u001b[1;33m             \u001b[0mfit\u001b[0m \u001b[1;33m=\u001b[0m \u001b[0mbq\u001b[0m\u001b[1;33m.\u001b[0m\u001b[0mcore\u001b[0m\u001b[1;33m.\u001b[0m\u001b[0mfitting\u001b[0m\u001b[1;33m.\u001b[0m\u001b[0mFitterGaussErfLine\u001b[0m\u001b[1;33m(\u001b[0m\u001b[0mx\u001b[0m\u001b[1;33m=\u001b[0m\u001b[0msub_spec\u001b[0m\u001b[1;33m.\u001b[0m\u001b[0mchannels\u001b[0m\u001b[1;33m,\u001b[0m \u001b[0my\u001b[0m\u001b[1;33m=\u001b[0m\u001b[0msub_spec\u001b[0m\u001b[1;33m.\u001b[0m\u001b[0mcps_vals\u001b[0m\u001b[1;33m,\u001b[0m \u001b[0my_unc\u001b[0m\u001b[1;33m=\u001b[0m\u001b[0msub_spec\u001b[0m\u001b[1;33m.\u001b[0m\u001b[0mcps_uncs\u001b[0m\u001b[1;33m)\u001b[0m\u001b[1;33m\u001b[0m\u001b[1;33m\u001b[0m\u001b[0m\n\u001b[0m\u001b[0;32m     39\u001b[0m             \u001b[0midx\u001b[0m \u001b[1;33m=\u001b[0m \u001b[0mf_near\u001b[0m\u001b[1;33m(\u001b[0m\u001b[0mspec_energies\u001b[0m\u001b[1;33m,\u001b[0m\u001b[0mn\u001b[0m\u001b[1;33m)\u001b[0m\u001b[1;33m\u001b[0m\u001b[1;33m\u001b[0m\u001b[0m\n\u001b[0;32m     40\u001b[0m             \u001b[0mfit\u001b[0m\u001b[1;33m.\u001b[0m\u001b[0mset_roi\u001b[0m\u001b[1;33m(\u001b[0m\u001b[0midx\u001b[0m\u001b[1;33m-\u001b[0m\u001b[1;36m100\u001b[0m\u001b[1;33m,\u001b[0m\u001b[0midx\u001b[0m\u001b[1;33m+\u001b[0m\u001b[1;36m100\u001b[0m\u001b[1;33m)\u001b[0m\u001b[1;33m\u001b[0m\u001b[1;33m\u001b[0m\u001b[0m\n",
      "\u001b[1;31mAttributeError\u001b[0m: module 'becquerel.core.fitting' has no attribute 'FitterGaussErfLine'"
     ]
    }
   ],
   "source": [
    "source_isotopes = np.array(['K-40']);\n",
    "source_energies = np.array([1460]);\n",
    "source_activities = np.array([1]);\n",
    "spectrum = r'C:\\Users\\Henricus\\Downloads\\UCB087_Wild_King_Salmon_3.Spe'\n",
    "background =r'C:\\Users\\Henricus\\Downloads\\UCB096_Backgorund_2_13_17.Spe'\n",
    "branching_ratio = np.array([1]);\n",
    "\n",
    "#Call scripts\n",
    "roi = ROI.ROI(Spectrum.from_file(spectrum), Spectrum.from_file(background), source_energies)\n",
    "roi_result = roi.get_counts()\n",
    "peakfit = PF.PF(source_energies,source_activities,spectrum,background,branching_ratio)\n",
    "pf_result = peakfit.Efficiency()\n",
    "print(roi_result, pf_result)"
   ]
  },
  {
   "cell_type": "code",
   "execution_count": null,
   "metadata": {},
   "outputs": [],
   "source": []
  }
 ],
 "metadata": {
  "kernelspec": {
   "display_name": "Python 3",
   "language": "python",
   "name": "python3"
  },
  "language_info": {
   "codemirror_mode": {
    "name": "ipython",
    "version": 3
   },
   "file_extension": ".py",
   "mimetype": "text/x-python",
   "name": "python",
   "nbconvert_exporter": "python",
   "pygments_lexer": "ipython3",
   "version": "3.7.4"
  }
 },
 "nbformat": 4,
 "nbformat_minor": 2
}

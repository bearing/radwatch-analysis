{
 "cells": [
  {
   "cell_type": "code",
   "execution_count": 1,
   "metadata": {},
   "outputs": [],
   "source": [
    "from becquerel import Spectrum\n",
    "import numpy as np\n",
    "import matplotlib.pyplot as plt\n",
    "import becquerel as bq\n",
    "import scipy.integrate as integrate\n",
    "import math as m\n",
    "import importlib\n",
    "import os"
   ]
  },
  {
   "cell_type": "code",
   "execution_count": 2,
   "metadata": {},
   "outputs": [
    {
     "name": "stderr",
     "output_type": "stream",
     "text": [
      "C:\\Users\\Daniel\\Anaconda3\\lib\\site-packages\\html5lib\\_trie\\_base.py:3: DeprecationWarning: Using or importing the ABCs from 'collections' instead of from 'collections.abc' is deprecated, and in 3.8 it will stop working\n",
      "  from collections import Mapping\n"
     ]
    },
    {
     "data": {
      "text/plain": [
       "<module 'ROI' from 'C:\\\\Users\\\\Daniel\\\\Desktop\\\\Radwatch\\\\radwatch-analysis\\\\ROI.py'>"
      ]
     },
     "execution_count": 2,
     "metadata": {},
     "output_type": "execute_result"
    }
   ],
   "source": [
    "import analysis_methods as am\n",
    "import PF\n",
    "import ROI\n",
    "importlib.reload(am)\n",
    "importlib.reload(PF)\n",
    "importlib.reload(ROI)"
   ]
  },
  {
   "cell_type": "code",
   "execution_count": 3,
   "metadata": {},
   "outputs": [],
   "source": [
    "def plot_spec(spectrum, xmode='channel'):\n",
    "    if xmode == 'channel':\n",
    "        facecolor = 'green'\n",
    "    else:\n",
    "        facecolor = 'blue'\n",
    "    plt.figure()\n",
    "    spectrum.fill_between(xmode=xmode, facecolor=facecolor, alpha=0.4, ax=plt.gca())\n",
    "    spectrum.plot('k-', lw=0.7, xmode=xmode, ax=plt.gca())\n",
    "    if xmode == 'channel':\n",
    "        plt.xlim(0, spectrum.bin_edges_raw.max())\n",
    "        plt.title('Uncalibrated spectrum')\n",
    "    else:\n",
    "        plt.xlim(0, spectrum.energies_kev[-1])\n",
    "        plt.title('Calibrated spectrum')\n",
    "    plt.yscale('log')\n",
    "    plt.ylim(2e-1)\n",
    "    plt.tight_layout()\n",
    "def plot_calibrator(cal):\n",
    "    cal.peakfinder.spectrum.apply_calibration(cal.cal)\n",
    "    print('fit gain:', cal.gain, 'keV/channel')\n",
    "    print('fit channels:', cal.fit_channels)\n",
    "\n",
    "    plt.figure()\n",
    "    plt.title('Peaks used in fit')\n",
    "    cal.plot()\n",
    "    plt.tight_layout()\n",
    "    #plt.savefig('peaks used in fit.png',dpi = 200)\n",
    "\n",
    "    plot_spec(cal.peakfinder.spectrum, xmode='channel')\n",
    "    for x, erg in zip(cal.fit_channels, cal.fit_energies):\n",
    "        chan = cal.peakfinder.spectrum.find_bin_index(x, use_kev=False)\n",
    "        y = cal.peakfinder.spectrum.counts_vals[chan-10:chan+10].max() * 1.5\n",
    "        plt.plot([x, x], [1e-1, y], 'r-', alpha=0.5)\n",
    "        plt.text(x, y, '{:.1f} keV'.format(erg))\n",
    "    #plt.savefig('Uncal spec.png',dpi = 200)\n",
    "\n",
    "\n",
    "    plot_spec(cal.peakfinder.spectrum, xmode='energy')\n",
    "    for erg in cal.fit_energies:\n",
    "        x = int(erg / cal.gain)\n",
    "        chan = cal.peakfinder.spectrum.find_bin_index(x, use_kev=False)\n",
    "        y = cal.peakfinder.spectrum.counts_vals[chan-15:chan+15].max() * 1.5\n",
    "        plt.plot([erg, erg], [1e-1, y], 'r-', alpha=0.5)\n",
    "        plt.text(erg, y, '{:.1f} keV'.format(erg))\n",
    "    #plt.savefig('cal spec.png',dpi=200)\n",
    "        \n",
    "        \n"
   ]
  },
  {
   "cell_type": "code",
   "execution_count": 4,
   "metadata": {},
   "outputs": [
    {
     "ename": "AssertionError",
     "evalue": "",
     "output_type": "error",
     "traceback": [
      "\u001b[1;31m---------------------------------------------------------------------------\u001b[0m",
      "\u001b[1;31mAssertionError\u001b[0m                            Traceback (most recent call last)",
      "\u001b[1;32m<ipython-input-4-6f3bf47dc3fb>\u001b[0m in \u001b[0;36m<module>\u001b[1;34m\u001b[0m\n\u001b[0;32m      2\u001b[0m \u001b[0mspec\u001b[0m \u001b[1;33m=\u001b[0m \u001b[0mfile_path\u001b[0m \u001b[1;33m+\u001b[0m \u001b[1;34mr'\\efficiency_calibration_2020-3-5.Spe'\u001b[0m\u001b[1;33m\u001b[0m\u001b[1;33m\u001b[0m\u001b[0m\n\u001b[0;32m      3\u001b[0m \u001b[0mbg\u001b[0m \u001b[1;33m=\u001b[0m \u001b[0mfile_path\u001b[0m \u001b[1;33m+\u001b[0m \u001b[1;34mr'\\Background_Spectrum_12_20_19.Spe'\u001b[0m\u001b[1;33m\u001b[0m\u001b[1;33m\u001b[0m\u001b[0m\n\u001b[1;32m----> 4\u001b[1;33m \u001b[0mspec\u001b[0m \u001b[1;33m=\u001b[0m \u001b[0mbq\u001b[0m\u001b[1;33m.\u001b[0m\u001b[0mSpectrum\u001b[0m\u001b[1;33m.\u001b[0m\u001b[0mfrom_file\u001b[0m\u001b[1;33m(\u001b[0m\u001b[0mspec\u001b[0m\u001b[1;33m)\u001b[0m\u001b[1;33m\u001b[0m\u001b[1;33m\u001b[0m\u001b[0m\n\u001b[0m\u001b[0;32m      5\u001b[0m \u001b[0mbg\u001b[0m \u001b[1;33m=\u001b[0m \u001b[0mbq\u001b[0m\u001b[1;33m.\u001b[0m\u001b[0mSpectrum\u001b[0m\u001b[1;33m.\u001b[0m\u001b[0mfrom_file\u001b[0m\u001b[1;33m(\u001b[0m\u001b[0mbg\u001b[0m\u001b[1;33m)\u001b[0m\u001b[1;33m\u001b[0m\u001b[1;33m\u001b[0m\u001b[0m\n",
      "\u001b[1;32mc:\\users\\daniel\\desktop\\radwatch\\becquerel\\becquerel\\core\\spectrum.py\u001b[0m in \u001b[0;36mfrom_file\u001b[1;34m(cls, infilename)\u001b[0m\n\u001b[0;32m    569\u001b[0m         \"\"\"\n\u001b[0;32m    570\u001b[0m \u001b[1;33m\u001b[0m\u001b[0m\n\u001b[1;32m--> 571\u001b[1;33m         \u001b[0mspect_file_obj\u001b[0m \u001b[1;33m=\u001b[0m \u001b[0m_get_file_object\u001b[0m\u001b[1;33m(\u001b[0m\u001b[0minfilename\u001b[0m\u001b[1;33m)\u001b[0m\u001b[1;33m\u001b[0m\u001b[1;33m\u001b[0m\u001b[0m\n\u001b[0m\u001b[0;32m    572\u001b[0m \u001b[1;33m\u001b[0m\u001b[0m\n\u001b[0;32m    573\u001b[0m         kwargs = {'counts': spect_file_obj.data,\n",
      "\u001b[1;32mc:\\users\\daniel\\desktop\\radwatch\\becquerel\\becquerel\\core\\spectrum.py\u001b[0m in \u001b[0;36m_get_file_object\u001b[1;34m(infilename)\u001b[0m\n\u001b[0;32m   1246\u001b[0m     \u001b[0m_\u001b[0m\u001b[1;33m,\u001b[0m \u001b[0mextension\u001b[0m \u001b[1;33m=\u001b[0m \u001b[0mos\u001b[0m\u001b[1;33m.\u001b[0m\u001b[0mpath\u001b[0m\u001b[1;33m.\u001b[0m\u001b[0msplitext\u001b[0m\u001b[1;33m(\u001b[0m\u001b[0minfilename\u001b[0m\u001b[1;33m)\u001b[0m\u001b[1;33m\u001b[0m\u001b[1;33m\u001b[0m\u001b[0m\n\u001b[0;32m   1247\u001b[0m     \u001b[1;32mif\u001b[0m \u001b[0mextension\u001b[0m\u001b[1;33m.\u001b[0m\u001b[0mlower\u001b[0m\u001b[1;33m(\u001b[0m\u001b[1;33m)\u001b[0m \u001b[1;33m==\u001b[0m \u001b[1;34m'.spe'\u001b[0m\u001b[1;33m:\u001b[0m\u001b[1;33m\u001b[0m\u001b[1;33m\u001b[0m\u001b[0m\n\u001b[1;32m-> 1248\u001b[1;33m         \u001b[1;32mreturn\u001b[0m \u001b[0mparsers\u001b[0m\u001b[1;33m.\u001b[0m\u001b[0mSpeFile\u001b[0m\u001b[1;33m(\u001b[0m\u001b[0minfilename\u001b[0m\u001b[1;33m)\u001b[0m\u001b[1;33m\u001b[0m\u001b[1;33m\u001b[0m\u001b[0m\n\u001b[0m\u001b[0;32m   1249\u001b[0m     \u001b[1;32melif\u001b[0m \u001b[0mextension\u001b[0m\u001b[1;33m.\u001b[0m\u001b[0mlower\u001b[0m\u001b[1;33m(\u001b[0m\u001b[1;33m)\u001b[0m \u001b[1;33m==\u001b[0m \u001b[1;34m'.spc'\u001b[0m\u001b[1;33m:\u001b[0m\u001b[1;33m\u001b[0m\u001b[1;33m\u001b[0m\u001b[0m\n\u001b[0;32m   1250\u001b[0m         \u001b[1;32mreturn\u001b[0m \u001b[0mparsers\u001b[0m\u001b[1;33m.\u001b[0m\u001b[0mSpcFile\u001b[0m\u001b[1;33m(\u001b[0m\u001b[0minfilename\u001b[0m\u001b[1;33m)\u001b[0m\u001b[1;33m\u001b[0m\u001b[1;33m\u001b[0m\u001b[0m\n",
      "\u001b[1;32mc:\\users\\daniel\\desktop\\radwatch\\becquerel\\becquerel\\parsers\\spe_file.py\u001b[0m in \u001b[0;36m__init__\u001b[1;34m(self, filename)\u001b[0m\n\u001b[0;32m     45\u001b[0m     \u001b[1;32mdef\u001b[0m \u001b[0m__init__\u001b[0m\u001b[1;33m(\u001b[0m\u001b[0mself\u001b[0m\u001b[1;33m,\u001b[0m \u001b[0mfilename\u001b[0m\u001b[1;33m)\u001b[0m\u001b[1;33m:\u001b[0m\u001b[1;33m\u001b[0m\u001b[1;33m\u001b[0m\u001b[0m\n\u001b[0;32m     46\u001b[0m         \u001b[1;34m\"\"\"Initialize the SPE file.\"\"\"\u001b[0m\u001b[1;33m\u001b[0m\u001b[1;33m\u001b[0m\u001b[0m\n\u001b[1;32m---> 47\u001b[1;33m         \u001b[0msuper\u001b[0m\u001b[1;33m(\u001b[0m\u001b[0mSpeFile\u001b[0m\u001b[1;33m,\u001b[0m \u001b[0mself\u001b[0m\u001b[1;33m)\u001b[0m\u001b[1;33m.\u001b[0m\u001b[0m__init__\u001b[0m\u001b[1;33m(\u001b[0m\u001b[0mfilename\u001b[0m\u001b[1;33m)\u001b[0m\u001b[1;33m\u001b[0m\u001b[1;33m\u001b[0m\u001b[0m\n\u001b[0m\u001b[0;32m     48\u001b[0m         \u001b[0m_\u001b[0m\u001b[1;33m,\u001b[0m \u001b[0mext\u001b[0m \u001b[1;33m=\u001b[0m \u001b[0mos\u001b[0m\u001b[1;33m.\u001b[0m\u001b[0mpath\u001b[0m\u001b[1;33m.\u001b[0m\u001b[0msplitext\u001b[0m\u001b[1;33m(\u001b[0m\u001b[0mself\u001b[0m\u001b[1;33m.\u001b[0m\u001b[0mfilename\u001b[0m\u001b[1;33m)\u001b[0m\u001b[1;33m\u001b[0m\u001b[1;33m\u001b[0m\u001b[0m\n\u001b[0;32m     49\u001b[0m         \u001b[1;32mif\u001b[0m \u001b[0mext\u001b[0m\u001b[1;33m.\u001b[0m\u001b[0mlower\u001b[0m\u001b[1;33m(\u001b[0m\u001b[1;33m)\u001b[0m \u001b[1;33m!=\u001b[0m \u001b[1;34m'.spe'\u001b[0m\u001b[1;33m:\u001b[0m\u001b[1;33m\u001b[0m\u001b[1;33m\u001b[0m\u001b[0m\n",
      "\u001b[1;32mc:\\users\\daniel\\desktop\\radwatch\\becquerel\\becquerel\\parsers\\spectrum_file.py\u001b[0m in \u001b[0;36m__init__\u001b[1;34m(self, filename)\u001b[0m\n\u001b[0;32m     40\u001b[0m         \u001b[1;34m\"\"\"Initialize the spectrum.\"\"\"\u001b[0m\u001b[1;33m\u001b[0m\u001b[1;33m\u001b[0m\u001b[0m\n\u001b[0;32m     41\u001b[0m         \u001b[0mself\u001b[0m\u001b[1;33m.\u001b[0m\u001b[0mfilename\u001b[0m \u001b[1;33m=\u001b[0m \u001b[0mfilename\u001b[0m\u001b[1;33m\u001b[0m\u001b[1;33m\u001b[0m\u001b[0m\n\u001b[1;32m---> 42\u001b[1;33m         \u001b[1;32massert\u001b[0m \u001b[0mos\u001b[0m\u001b[1;33m.\u001b[0m\u001b[0mpath\u001b[0m\u001b[1;33m.\u001b[0m\u001b[0mexists\u001b[0m\u001b[1;33m(\u001b[0m\u001b[0mself\u001b[0m\u001b[1;33m.\u001b[0m\u001b[0mfilename\u001b[0m\u001b[1;33m)\u001b[0m\u001b[1;33m\u001b[0m\u001b[1;33m\u001b[0m\u001b[0m\n\u001b[0m\u001b[0;32m     43\u001b[0m         \u001b[1;31m# fields to read from file\u001b[0m\u001b[1;33m\u001b[0m\u001b[1;33m\u001b[0m\u001b[1;33m\u001b[0m\u001b[0m\n\u001b[0;32m     44\u001b[0m         \u001b[0mself\u001b[0m\u001b[1;33m.\u001b[0m\u001b[0mspectrum_id\u001b[0m \u001b[1;33m=\u001b[0m \u001b[1;34m''\u001b[0m\u001b[1;33m\u001b[0m\u001b[1;33m\u001b[0m\u001b[0m\n",
      "\u001b[1;31mAssertionError\u001b[0m: "
     ]
    }
   ],
   "source": [
    "file_path = r'C:\\Users\\ahanks\\Google Drive\\RadWatch\\Gamma\\Gamma Spectra\\Fish Samples 2019'\n",
    "spec = file_path + r'\\efficiency_calibration_2020-3-5.Spe'\n",
    "bg = file_path + r'\\Background_Spectrum_12_20_19.Spe'\n",
    "spec = bq.Spectrum.from_file(spec)\n",
    "bg = bq.Spectrum.from_file(bg)"
   ]
  },
  {
   "cell_type": "code",
   "execution_count": null,
   "metadata": {
    "scrolled": true
   },
   "outputs": [],
   "source": [
    "# apply the kernel to the data to get SNR\n",
    "kernel = bq.GaussianPeakFilter(3700, 10, 5)\n",
    "finder = bq.PeakFinder(spec, kernel)\n",
    "cal = bq.AutoCalibrator(finder)"
   ]
  },
  {
   "cell_type": "code",
   "execution_count": null,
   "metadata": {},
   "outputs": [],
   "source": [
    "cal.peakfinder.find_peaks(min_snr=15, xmin=400)\n",
    "print(cal.peakfinder.channels)\n",
    "plt.figure()\n",
    "plt.title('find_peaks')\n",
    "cal.peakfinder.plot()\n",
    "plt.tight_layout()\n",
    "#plt.savefig('find_peaks_spec',dpi = 200)"
   ]
  },
  {
   "cell_type": "code",
   "execution_count": null,
   "metadata": {},
   "outputs": [],
   "source": [
    "# perform calibration\n",
    "cal.fit(\n",
    "    [1435.795, 1460.82,2614.51],\n",
    "    optional=[201.83,306.78, 351.93, 338.32,569.33,604.721,788.742,795.864, 911.20, 1120.294, 1620.50, 1764.49, 2118.514],\n",
    "    gain_range=[0.3, 10],\n",
    "    de_max=100.,\n",
    ")\n",
    "plot_calibrator(cal)\n",
    "spectrum = cal.peakfinder.spectrum\n"
   ]
  },
  {
   "cell_type": "code",
   "execution_count": null,
   "metadata": {},
   "outputs": [],
   "source": [
    "kernel = bq.GaussianPeakFilter(3700, 10, 5)\n",
    "finder = bq.PeakFinder(bg, kernel)\n",
    "cal = bq.AutoCalibrator(finder)\n",
    "cal.peakfinder.find_peaks(min_snr=15, xmin=200)\n",
    "print(cal.peakfinder.channels)\n",
    "plt.figure()\n",
    "plt.title('find_peaks')\n",
    "cal.peakfinder.plot()\n",
    "plt.tight_layout()\n",
    "#plt.savefig('find peaks bg.png',dpi=200)"
   ]
  },
  {
   "cell_type": "code",
   "execution_count": null,
   "metadata": {
    "scrolled": true
   },
   "outputs": [],
   "source": [
    "# perform calibration\n",
    "cal.fit(\n",
    "    [1460.82, 1764.49],\n",
    "    optional=[186.21,238.63,609.32,911.20,242.00,295.22,338.32,351.93,1620.50],\n",
    "    gain_range=[2.5e-2, 10],\n",
    "    de_max=100.,\n",
    ")\n",
    "plot_calibrator(cal)\n",
    "background = cal.peakfinder.spectrum"
   ]
  },
  {
   "cell_type": "code",
   "execution_count": null,
   "metadata": {},
   "outputs": [],
   "source": [
    "#Find Lu-176, La-138, K-40\n",
    "source_isotopes = np.array(['Lu_176_1','Lu_176_2','Lu_176_3',\n",
    "                            'La_138_1','La_138_2',\n",
    "                           'K-40']); #get counts under the peak subtrack the background\n",
    "source_energies = np.array([75,186,294,\n",
    "                           782,1435.795,\n",
    "                           1460]);\n",
    "source_activities = np.array([16.259,16.259,16.259,\n",
    "                             11.646,11.646,\n",
    "                              424.65]);#Bq/L\n",
    "branching_ratio = np.array([0.11,0.86,0.94,\n",
    "                           0.34,0.66,\n",
    "                           0.11]);\n",
    "activities_uncer = np.array([1.6259,1.6259,1.6259,\n",
    "                            0.02329,0.02329,\n",
    "                            0.8493])\n",
    "'''The real source energies:\n",
    "Lu-176: 88.34, 201.83, 306.78\n",
    "La-138: 788.742,1435.795\n",
    "K-40: 1460.83'''"
   ]
  },
  {
   "cell_type": "code",
   "execution_count": null,
   "metadata": {},
   "outputs": [],
   "source": [
    "#roi = ROI.ROI(spectrum, background, source_energies, sub_type = 0)\n",
    "#delta_e = 8\n",
    "#window = np.array([[-2, -1], [-0.5, 0.5], [1, 2]])\n",
    "#roi.set_sideband(delta_e,window)\n",
    "#roi.find_peak_energies()\n",
    "#target_peaks = roi.target_peaks\n",
    "#roi_result,roi_uncer = roi.get_counts()\n",
    "\n",
    "roi = ROI.ROI(spectrum, background, source_energies, 0)\n",
    "\n",
    "roi.set_sideband(source_energies.tolist()[0], 8, [[-2, -1.1], [-0.4, 0.4], [1, 2]])\n",
    "roi.set_sideband(source_energies.tolist()[1], 8, [[-2, -1], [-0.5, 0.5], [1, 2]])\n",
    "roi.set_sideband(source_energies.tolist()[2], 8, [[-2, -1], [-0.5, 0.5], [1, 2]])\n",
    "roi.set_sideband(source_energies.tolist()[3], 8, [[-2, -1], [-0.5, 0.5], [1, 2]])\n",
    "roi.set_sideband(source_energies.tolist()[4], 8, [[-2, -1], [-0.6, 0.6], [1, 2]])\n",
    "roi.set_sideband(source_energies.tolist()[5], 8, [[-2, -1], [-0.6, 0.6], [1, 2]])\n",
    "\n",
    "roi.find_peak_energies()"
   ]
  },
  {
   "cell_type": "code",
   "execution_count": null,
   "metadata": {
    "scrolled": true
   },
   "outputs": [],
   "source": [
    "for i in range(len(source_energies.tolist())):\n",
    "    roi.plot_peak_region(spectrum, source_energies, source_energies.tolist()[i])"
   ]
  },
  {
   "cell_type": "code",
   "execution_count": null,
   "metadata": {},
   "outputs": [],
   "source": [
    "print(roi.roi_pars[f'75.0'])\n",
    "fg_bins = roi.get_roi_windows(roi.roi_pars[f'75.0'],0)\n",
    "bg_bins = roi.get_roi_windows(roi.roi_pars[f'75.0'],1)\n",
    "print(fg_bins)\n",
    "print(bg_bins)\n",
    "print()\n",
    "print(fg_bins[0][0][-1]-fg_bins[0][0][0])\n",
    "print(fg_bins[1][0][-1]-fg_bins[1][0][0])\n",
    "print(fg_bins[2][0][-1]-fg_bins[2][0][0])\n",
    "\n",
    "np.sum(spectrum.counts_vals[fg_bins[0][0][0]:fg_bins[0][0][-1]])/(fg_bins[0][0][-1]-fg_bins[0][0][0])"
   ]
  },
  {
   "cell_type": "code",
   "execution_count": null,
   "metadata": {},
   "outputs": [],
   "source": [
    "plt.plot(spectrum.bin_centers_kev[125:280],spectrum.counts_vals[125:280])\n",
    "plt.plot(spectrum.bin_centers_kev[154:240],spectrum.counts_vals[154:240])\n",
    "plt.show()\n",
    "\n",
    "plt.plot(background.bin_centers_kev[150:310],background.counts_vals[150:310])\n",
    "plt.plot(background.bin_centers_kev[178:277],background.counts_vals[178:277])\n",
    "plt.show()"
   ]
  },
  {
   "cell_type": "code",
   "execution_count": null,
   "metadata": {},
   "outputs": [],
   "source": [
    "roi.set_sideband(source_energies.tolist()[0], 8, [[-2, -1], [-0.4, 0.4], [1, 2]], 1)\n",
    "roi.set_sideband(source_energies.tolist()[1], 8, [[-1.5, -0.5], [-0.5, 0.5], [1, 2]], 1)\n",
    "roi.set_sideband(source_energies.tolist()[2], 8, [[-3, -2], [-0.5, 0.5], [1, 2]], 1)\n",
    "roi.set_sideband(source_energies.tolist()[3], 8, [[-2, -1], [-0.5, 0.5], [1, 2]], 1)\n",
    "roi.set_sideband(source_energies.tolist()[4], 8, [[-2, -1], [-0.6, 0.6], [1, 2]], 1)\n",
    "roi.set_sideband(source_energies.tolist()[5], 8, [[-2, -1], [-0.6, 0.6], [1, 2]], 1)\n",
    "\n",
    "for i in range(len(source_energies.tolist())):\n",
    "    roi.plot_peak_region(background, source_energies, source_energies.tolist()[i], 1)"
   ]
  },
  {
   "cell_type": "code",
   "execution_count": null,
   "metadata": {
    "scrolled": false
   },
   "outputs": [],
   "source": [
    "target_peaks = roi.target_peaks\n",
    "roi_result,roi_uncer = roi.get_counts()\n",
    "\n",
    "#peakfit = PF.PF(spectrum,background,source_energies)\n",
    "#pf_result = peakfit.get_counts()\n",
    "print(target_peaks)\n",
    "print('ROI result:',roi_result)\n",
    "print('uncertainties:',roi_uncer)\n",
    "#print('Lu_176 PF result:',pf_result)"
   ]
  },
  {
   "cell_type": "code",
   "execution_count": null,
   "metadata": {
    "scrolled": false
   },
   "outputs": [],
   "source": [
    "eff,eff_uncer = am.efficiency(roi_result,source_activities,branching_ratio,roi_uncer,activities_uncer,spectrum.livetime)\n",
    "print(eff,eff_uncer)"
   ]
  },
  {
   "cell_type": "code",
   "execution_count": null,
   "metadata": {},
   "outputs": [],
   "source": [
    "plot_eff = am.Efficiency(source_energies,eff,eff_uncer)\n",
    "\n",
    "plot_eff.fitting()\n",
    "plot_eff.plotter_pretty(0.04,save=True)"
   ]
  },
  {
   "cell_type": "code",
   "execution_count": null,
   "metadata": {},
   "outputs": [],
   "source": [
    "plot_eff.save_fit()"
   ]
  },
  {
   "cell_type": "code",
   "execution_count": null,
   "metadata": {},
   "outputs": [],
   "source": [
    "test_eff = am.Efficiency()\n",
    "test_eff.set_parameters()"
   ]
  },
  {
   "cell_type": "code",
   "execution_count": null,
   "metadata": {},
   "outputs": [],
   "source": [
    "test_eff.get_eff(1000)"
   ]
  },
  {
   "cell_type": "code",
   "execution_count": null,
   "metadata": {},
   "outputs": [],
   "source": [
    "test_eff.get_eff_error(1000)"
   ]
  },
  {
   "cell_type": "code",
   "execution_count": null,
   "metadata": {},
   "outputs": [],
   "source": [
    "test_eff.get_eff_error(2000)/plot_eff.get_eff(2000)"
   ]
  },
  {
   "cell_type": "code",
   "execution_count": null,
   "metadata": {},
   "outputs": [],
   "source": [
    "test_eff.plotter_pretty()"
   ]
  },
  {
   "cell_type": "code",
   "execution_count": null,
   "metadata": {},
   "outputs": [],
   "source": []
  }
 ],
 "metadata": {
  "kernelspec": {
   "display_name": "Python 3",
   "language": "python",
   "name": "python3"
  },
  "language_info": {
   "codemirror_mode": {
    "name": "ipython",
    "version": 3
   },
   "file_extension": ".py",
   "mimetype": "text/x-python",
   "name": "python",
   "nbconvert_exporter": "python",
   "pygments_lexer": "ipython3",
   "version": "3.7.4"
  }
 },
 "nbformat": 4,
 "nbformat_minor": 2
}

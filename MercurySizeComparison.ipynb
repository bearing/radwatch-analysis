{
 "cells": [
  {
   "cell_type": "code",
   "execution_count": 2,
   "metadata": {
    "collapsed": true
   },
   "outputs": [],
   "source": [
    "import numpy as np\n",
    "import matplotlib.pyplot as plt"
   ]
  },
  {
   "cell_type": "code",
   "execution_count": 3,
   "metadata": {
    "collapsed": true
   },
   "outputs": [],
   "source": [
    "class fish(object):\n",
    "    def __init__(self, status, ppm, weight, unc, uncy):\n",
    "        self.status = status\n",
    "        self.ppm = ppm\n",
    "        self.weight = weight\n",
    "        self.unc = unc\n",
    "        self.uncy = uncy"
   ]
  },
  {
   "cell_type": "code",
   "execution_count": 4,
   "metadata": {
    "collapsed": false
   },
   "outputs": [],
   "source": [
    "#sample1: swai basa fillet, Vietnam, farmed\n",
    "ppm = 0.035\n",
    "#weight in kg\n",
    "weight = 2\n",
    "unc = 1\n",
    "sample1 = fish('farm', 0.035, 2, 1, 0.005)\n",
    "\n",
    "#sample2: Hamachi Fillet from Japan, wild\n",
    "ppm2 = 0.234\n",
    "weight2 = 6.8\n",
    "unc2 = 2.3\n",
    "sample2 = fish('wild', 0.234, 6.8, 2.3, 0.042)\n",
    "\n",
    "#sample3: Cardinal snapper, Mexico, wild \n",
    "ppm3 = 0.024\n",
    "weight3 = 0.85\n",
    "unc3 = 0.4\n",
    "sample3 = fish('wild', 0.024, 0.85, 0.4, 0.0037)\n",
    "\n",
    "#sample4: Shortraker steak, Canada, wild\n",
    "ppm4 = 0.22\n",
    "weight4 = 20 \n",
    "unc = 3\n",
    "sample4 = fish('wild', 0.22, 20, 3, 0.0278)\n",
    "\n",
    "#sample7: Grass Carp steak, Taiwan, farmed \n",
    "ppm5 = 0.09\n",
    "weight5 = 19 \n",
    "unc5 = 16\n",
    "sample7 = fish('farm', 0.09, 19, 16, 0.012)\n",
    "\n",
    "#sample8: Grass Carp steak, Tawian, farmed\n",
    "ppm6 = 0.064\n",
    "weight6 = 19\n",
    "unc6 = 16\n",
    "sample8 = fish('farm', 0.064, 19, 16, 0.0093)\n",
    "\n",
    "#sample9: Chilean Sea Bass, Korea, wild \n",
    "ppm7 = 0.09\n",
    "weight7 = 40\n",
    "unc7 = 0.13\n",
    "sample9 = fish('wild', 0.09, 40, 0.13, 0.0114)\n",
    "\n",
    "#sample10: Wild Isle Salmon, Scotland, farmed\n",
    "#the fact that it's farmed might influence mercury build up\n",
    "ppm8 = 0.0085\n",
    "weight8 = 13\n",
    "unc8 = 7\n",
    "sample10 = fish('farm', 0.0085, 13, 7, 0.0015)\n",
    "\n",
    "#sample11: Mackerel, India, wild\n",
    "ppm9 = 0.066\n",
    "weight9 = 0.295\n",
    "unc9 = 0.155\n",
    "sample11 = fish('wild', 0.066, 0.295, 0.155, 0.0104)\n",
    "\n",
    "#sample12: Norwegian Basa, Norway, wild\n",
    "ppm10 = 0.046\n",
    "weight10 = 2\n",
    "unc10 = 1\n",
    "sample12 = fish('wild', 0.046, 2, 1, 0.0067) \n",
    "\n",
    "#sample13: Golden Pompano, China, farmed\n",
    "ppm11 = 0.02\n",
    "weight11 = 1.4\n",
    "unc11 = 0.4\n",
    "sample13 = fish('farm', 0.02, 1.4, 0.4, 0.00305)\n",
    "\n",
    "#sample14: Chilean Sea Bass, Arctic, wild\n",
    "ppm12 = 0.15\n",
    "weight12 = 40\n",
    "unc12 = 0.13\n",
    "sample14 = fish('wild', 0.15, 40, 0.13, 0.0197)\n",
    "\n",
    "#sample15: HD Shrimp, Venezuela, farmed\n",
    "ppm13 = 0.037\n",
    "weight13 = 0.06\n",
    "unc13 = 0.028\n",
    "sample15 = fish('farm', 0.037, 0.06, 0.028, 0.0062)\n",
    "\n",
    "#sample16: Pink Grouper steak, Mexico, wild\n",
    "ppm14 = 0.75\n",
    "weight14 = 5.67\n",
    "unc14 = 3.4\n",
    "sample16 = fish('wild', 0.075, 5.67, 3.4, 0.0958)\n"
   ]
  },
  {
   "cell_type": "code",
   "execution_count": 5,
   "metadata": {
    "collapsed": false
   },
   "outputs": [
    {
     "name": "stdout",
     "output_type": "stream",
     "text": [
      "8 6\n"
     ]
    }
   ],
   "source": [
    "wildppm = []\n",
    "wildweight = []\n",
    "wildunc = []\n",
    "wilduncy = []\n",
    "farmppm = []\n",
    "farmweight = []\n",
    "farmunc = []\n",
    "farmuncy = []\n",
    "samples = [sample1, sample2, sample3, sample4, sample7, sample8, sample9,\n",
    "          sample10, sample11, sample12, sample13, sample14, sample15, sample16]\n",
    "for s in samples:\n",
    "    if s.status == 'wild':\n",
    "        wildppm.append(s.ppm)\n",
    "        wildweight.append(s.weight)\n",
    "        wildunc.append(s.unc)\n",
    "        wilduncy.append(s.uncy)\n",
    "    else:\n",
    "        farmppm.append(s.ppm)\n",
    "        farmweight.append(s.weight)\n",
    "        farmunc.append(s.unc)\n",
    "        farmuncy.append(s.uncy)\n",
    "print(len(wildppm), len(farmppm))"
   ]
  },
  {
   "cell_type": "code",
   "execution_count": 6,
   "metadata": {
    "collapsed": false
   },
   "outputs": [
    {
     "data": {
      "image/png": "[encoded data removed]",
      "text/plain": [
       "<matplotlib.figure.Figure at 0x10627d828>"
      ]
     },
     "metadata": {},
     "output_type": "display_data"
    }
   ],
   "source": [
    "mpl_fig = plt.figure(figsize=(12,5))\n",
    "ax = mpl_fig.add_subplot(111)\n",
    "p1 = plt.errorbar(wildweight, wildppm, yerr=wilduncy, xerr=wildunc, fmt='o', ecolor='blue', capthick=1, capsize=2, label='wild')\n",
    "p2 = plt.errorbar(farmweight, farmppm, yerr=farmuncy, xerr=farmunc, fmt='x', ecolor='red', capthick=1, capsize=2, label='farm')\n",
    "\n",
    "plt.legend()\n",
    "plt.ylabel('Mercury ppm')\n",
    "plt.title('Fish weight vs. Mercury concentration ')\n",
    "plt.xlabel('Avg weight of fish species')\n",
    "ax.set_yscale('log')\n",
    "ax.set_xscale('log')\n",
    "plt.show()"
   ]
  },
  {
   "cell_type": "code",
   "execution_count": null,
   "metadata": {
    "collapsed": true
   },
   "outputs": [],
   "source": []
  }
 ],
 "metadata": {
  "kernelspec": {
   "display_name": "Python 3",
   "language": "python",
   "name": "python3"
  },
  "language_info": {
   "codemirror_mode": {
    "name": "ipython",
    "version": 3
   },
   "file_extension": ".py",
   "mimetype": "text/x-python",
   "name": "python",
   "nbconvert_exporter": "python",
   "pygments_lexer": "ipython3",
   "version": "3.4.5"
  }
 },
 "nbformat": 4,
 "nbformat_minor": 2
}
